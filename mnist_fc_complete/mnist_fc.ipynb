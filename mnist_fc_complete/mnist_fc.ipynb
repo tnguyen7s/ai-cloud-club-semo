{
  "nbformat": 4,
  "nbformat_minor": 0,
  "metadata": {
    "colab": {
      "provenance": [],
      "collapsed_sections": [
        "TpJiHm2thnWn",
        "_AKs1ot-hqZf",
        "nsgCp15Qh0TC",
        "_ux5DyzNh_ut",
        "Vxif-qEEiB6D",
        "uP-ZLH3SiSKj",
        "LYzgeWy6LhnI",
        "awRygPD9MGWT",
        "HtaU32x6icoD"
      ],
      "include_colab_link": true
    },
    "kernelspec": {
      "name": "python3",
      "display_name": "Python 3"
    },
    "language_info": {
      "name": "python"
    },
    "accelerator": "GPU",
    "gpuClass": "standard"
  },
  "cells": [
    {
      "cell_type": "markdown",
      "metadata": {
        "id": "view-in-github",
        "colab_type": "text"
      },
      "source": [
        "<a href=\"https://colab.research.google.com/github/tnguyen7s/ai-cloud-club-semo/blob/master/mnist_fc_complete/mnist_fc.ipynb\" target=\"_parent\"><img src=\"https://colab.research.google.com/assets/colab-badge.svg\" alt=\"Open In Colab\"/></a>"
      ]
    },
    {
      "cell_type": "markdown",
      "source": [
        "# Import packages"
      ],
      "metadata": {
        "id": "TpJiHm2thnWn"
      }
    },
    {
      "cell_type": "code",
      "execution_count": 50,
      "metadata": {
        "id": "6JXQ8duOhmBx"
      },
      "outputs": [],
      "source": [
        "import torch\n",
        "from torchvision import datasets, transforms\n",
        "from torch.utils.data import DataLoader, SubsetRandomSampler\n",
        "import matplotlib.pyplot as plt\n",
        "import torch.nn as nn\n",
        "import pandas as pd\n",
        "import numpy as np\n",
        "from PIL import Image\n",
        "from google.colab import drive"
      ]
    },
    {
      "cell_type": "markdown",
      "source": [
        "# Set up Device for training"
      ],
      "metadata": {
        "id": "_AKs1ot-hqZf"
      }
    },
    {
      "cell_type": "code",
      "source": [
        "GPU = torch.cuda.is_available()\n",
        "\n",
        "if GPU:\n",
        "  device = torch.device('cuda')\n",
        "  print('Using GPU')\n",
        "else:\n",
        "  device = torch.device('cpu')\n",
        "  print('Using CPU')"
      ],
      "metadata": {
        "id": "MyZdAH2Gh5fz",
        "colab": {
          "base_uri": "https://localhost:8080/"
        },
        "outputId": "60fd22a1-40eb-4249-d4a3-be706914f64e"
      },
      "execution_count": 3,
      "outputs": [
        {
          "output_type": "stream",
          "name": "stdout",
          "text": [
            "Using GPU\n"
          ]
        }
      ]
    },
    {
      "cell_type": "markdown",
      "source": [
        "# Data"
      ],
      "metadata": {
        "id": "nsgCp15Qh0TC"
      }
    },
    {
      "cell_type": "markdown",
      "source": [
        "As we loop through  each batch in the loader, we want apply these transformations to the batch. \n",
        "\n",
        "Here for each batch of images:\n",
        "1. Resize to 20x20 image\n",
        "2. Convert the image to gray scale\n",
        "3. Convert the image to a 2d array\n",
        "4. Normalize the image by specifying mean and standard deviation for each color channel. Since our image is in grayscale, we only need to specify the mean the one channel inside a tuple."
      ],
      "metadata": {
        "id": "oCjFB0nz9fYM"
      }
    },
    {
      "cell_type": "code",
      "source": [
        "transformer = transforms.Compose([\n",
        "    transforms.Resize((20,20)),\n",
        "    transforms.Grayscale(),\n",
        "    transforms.ToTensor(),\n",
        "    transforms.Normalize(mean=(0,), std=(1,))\n",
        "])"
      ],
      "metadata": {
        "id": "9hxT-JZUuvYf"
      },
      "execution_count": 5,
      "outputs": []
    },
    {
      "cell_type": "markdown",
      "source": [
        "We can also apply data augmentation (such as random crop, random rotate, translate, contrast, ect.) to our dataset. This helps:\n",
        "* Increase the number of training images. \n",
        "* Make the model robust in prediction, for instance the model should correctly predict an image even if the digit is located somewhere, not neccessary to be at the center of the image.\n",
        "* Thus, apply data augmentation generally improve the performance of the model"
      ],
      "metadata": {
        "id": "vD6yP87R_JlB"
      }
    },
    {
      "cell_type": "markdown",
      "source": [
        "We can add any augmentation to the transformer, but apply before the resize step. The below block of code adds the randaug (~ random augmentation) which automates the process of selecting augmentation to apply to the dataset (You can read the abstract of the [paper](https://arxiv.org/pdf/1909.13719.pdf) to understand what it is).\n",
        "\n",
        "You can also use this link https://pytorch.org/vision/stable/transforms.html to see all the transformations available in pytorch."
      ],
      "metadata": {
        "id": "oPtDz-10BPZN"
      }
    },
    {
      "cell_type": "code",
      "source": [
        "transformer_with_augmentation = transforms.Compose([\n",
        "    transforms.RandAugment(),\n",
        "    transforms.Resize((20,20)),\n",
        "    transforms.Grayscale(),\n",
        "    transforms.ToTensor(),\n",
        "    transforms.Normalize(mean=(0,), std=(1,))\n",
        "])"
      ],
      "metadata": {
        "id": "E-BGScFUA-RN"
      },
      "execution_count": 6,
      "outputs": []
    },
    {
      "cell_type": "markdown",
      "source": [
        "Next we download the dataset (including the training images, and testing images. We also pass the transformer to these dataset objects).\n",
        "\n",
        "Here I only want to apply the augmentation to the training dataset, so I passed the transformer_with_augmentation, and the transformer to train_dataset and  test_dataset respectively"
      ],
      "metadata": {
        "id": "0p2Uio8uCjmg"
      }
    },
    {
      "cell_type": "code",
      "source": [
        "train_dataset = datasets.MNIST('./sample_data', train=True, transform=transformer_with_augmentation, download=True)\n",
        "test_dataset = datasets.MNIST('./sample_data', train=False, transform=transformer, download=True)"
      ],
      "metadata": {
        "id": "biX_LiC_h8D3",
        "colab": {
          "base_uri": "https://localhost:8080/"
        },
        "outputId": "855666ff-56dc-4c42-ae6b-3b0ed5f4708e"
      },
      "execution_count": 7,
      "outputs": [
        {
          "output_type": "stream",
          "name": "stdout",
          "text": [
            "Downloading http://yann.lecun.com/exdb/mnist/train-images-idx3-ubyte.gz\n",
            "Downloading http://yann.lecun.com/exdb/mnist/train-images-idx3-ubyte.gz to ./sample_data/MNIST/raw/train-images-idx3-ubyte.gz\n"
          ]
        },
        {
          "output_type": "stream",
          "name": "stderr",
          "text": [
            "100%|██████████| 9912422/9912422 [00:00<00:00, 191556064.01it/s]"
          ]
        },
        {
          "output_type": "stream",
          "name": "stdout",
          "text": [
            "Extracting ./sample_data/MNIST/raw/train-images-idx3-ubyte.gz to ./sample_data/MNIST/raw\n"
          ]
        },
        {
          "output_type": "stream",
          "name": "stderr",
          "text": [
            "\n"
          ]
        },
        {
          "output_type": "stream",
          "name": "stdout",
          "text": [
            "\n",
            "Downloading http://yann.lecun.com/exdb/mnist/train-labels-idx1-ubyte.gz\n",
            "Downloading http://yann.lecun.com/exdb/mnist/train-labels-idx1-ubyte.gz to ./sample_data/MNIST/raw/train-labels-idx1-ubyte.gz\n"
          ]
        },
        {
          "output_type": "stream",
          "name": "stderr",
          "text": [
            "100%|██████████| 28881/28881 [00:00<00:00, 82969653.30it/s]\n"
          ]
        },
        {
          "output_type": "stream",
          "name": "stdout",
          "text": [
            "Extracting ./sample_data/MNIST/raw/train-labels-idx1-ubyte.gz to ./sample_data/MNIST/raw\n",
            "\n",
            "Downloading http://yann.lecun.com/exdb/mnist/t10k-images-idx3-ubyte.gz\n",
            "Downloading http://yann.lecun.com/exdb/mnist/t10k-images-idx3-ubyte.gz to ./sample_data/MNIST/raw/t10k-images-idx3-ubyte.gz\n"
          ]
        },
        {
          "output_type": "stream",
          "name": "stderr",
          "text": [
            "100%|██████████| 1648877/1648877 [00:00<00:00, 67175229.44it/s]"
          ]
        },
        {
          "output_type": "stream",
          "name": "stdout",
          "text": [
            "Extracting ./sample_data/MNIST/raw/t10k-images-idx3-ubyte.gz to ./sample_data/MNIST/raw\n"
          ]
        },
        {
          "output_type": "stream",
          "name": "stderr",
          "text": [
            "\n"
          ]
        },
        {
          "output_type": "stream",
          "name": "stdout",
          "text": [
            "\n",
            "Downloading http://yann.lecun.com/exdb/mnist/t10k-labels-idx1-ubyte.gz\n",
            "Downloading http://yann.lecun.com/exdb/mnist/t10k-labels-idx1-ubyte.gz to ./sample_data/MNIST/raw/t10k-labels-idx1-ubyte.gz\n"
          ]
        },
        {
          "output_type": "stream",
          "name": "stderr",
          "text": [
            "100%|██████████| 4542/4542 [00:00<00:00, 4939208.91it/s]"
          ]
        },
        {
          "output_type": "stream",
          "name": "stdout",
          "text": [
            "Extracting ./sample_data/MNIST/raw/t10k-labels-idx1-ubyte.gz to ./sample_data/MNIST/raw\n",
            "\n"
          ]
        },
        {
          "output_type": "stream",
          "name": "stderr",
          "text": [
            "\n"
          ]
        }
      ]
    },
    {
      "cell_type": "markdown",
      "source": [
        "Depending on the computer RAM to decide the BATCH_SIZE. Here I chose 128. \n",
        "\n",
        "So each time we update the model, we use 128 images in the dataset to aggregate the loss and update the weights according to the averaged loss that we obtains from the batch."
      ],
      "metadata": {
        "id": "AaZ6JKNVDUcC"
      }
    },
    {
      "cell_type": "code",
      "source": [
        "BATCH_SIZE=128 # each training iteration, use 128 images and its labels"
      ],
      "metadata": {
        "id": "axLfy12exUdW"
      },
      "execution_count": 8,
      "outputs": []
    },
    {
      "cell_type": "markdown",
      "source": [
        "Next, we create three dataloaders:\n",
        "* The train loader enables the model to learn the features of the task. \n",
        "* The validation loader is used to track the performance and tune other hyperparameters (hyperparameters are not the weights that we are trying to optimize, they are things like learning rate, the type of optimizer, and so on that may affect the optimization)\n",
        "* The test loader is used to test the model performance. \n"
      ],
      "metadata": {
        "id": "lTkBcpD9D7t8"
      }
    },
    {
      "cell_type": "code",
      "source": [
        "from torch.utils.data.sampler import SubsetRandomSampler\n",
        "# for training\n",
        "train_loader = DataLoader(dataset=train_dataset, batch_size=BATCH_SIZE, sampler=SubsetRandomSampler(range(50000)))\n",
        "# for validation\n",
        "val_loader = DataLoader(dataset=train_dataset, batch_size=BATCH_SIZE, sampler=SubsetRandomSampler(range(50000, 60000)))\n",
        "\n",
        "test_loader = DataLoader(dataset=test_dataset, batch_size=BATCH_SIZE, shuffle=True)"
      ],
      "metadata": {
        "id": "RUz8tClxxKjo"
      },
      "execution_count": 9,
      "outputs": []
    },
    {
      "cell_type": "markdown",
      "source": [
        "If we place the train_loader inside a for loop, at every iteration, we get two things:\n",
        "* `data` contains 128 images\n",
        "* `target` contains 128 labels associated to these images\n"
      ],
      "metadata": {
        "id": "4ExonFuwE1UJ"
      }
    },
    {
      "cell_type": "code",
      "source": [
        "train_iter = iter(train_loader)\n",
        "data, target = next(train_iter)\n",
        "print(data.shape)\n",
        "print(target.shape)\n",
        "print(target.unique())"
      ],
      "metadata": {
        "id": "Syn24MW3y6PA",
        "colab": {
          "base_uri": "https://localhost:8080/"
        },
        "outputId": "0480c097-a216-4847-a395-0bc7f3b73e94"
      },
      "execution_count": 10,
      "outputs": [
        {
          "output_type": "stream",
          "name": "stdout",
          "text": [
            "torch.Size([128, 1, 20, 20])\n",
            "torch.Size([128])\n",
            "tensor([0, 1, 2, 3, 4, 5, 6, 7, 8, 9])\n"
          ]
        }
      ]
    },
    {
      "cell_type": "markdown",
      "source": [
        "# Image Show"
      ],
      "metadata": {
        "id": "_ux5DyzNh_ut"
      }
    },
    {
      "cell_type": "code",
      "source": [
        "def imshow(tensor_image):\n",
        "  np_image = tensor_image.numpy()\n",
        "\n",
        "  plt.imshow(np_image)\n",
        "  plt.axis('off')\n",
        "  plt.show()"
      ],
      "metadata": {
        "id": "2nAmUDWTh_Nq"
      },
      "execution_count": 11,
      "outputs": []
    },
    {
      "cell_type": "markdown",
      "source": [
        "We can look at one of the images located inside the `data` variable using the imshow."
      ],
      "metadata": {
        "id": "68dOMhlyFW4U"
      }
    },
    {
      "cell_type": "code",
      "source": [
        "imshow(data[0].view(20,20,1)) # here we also reshape the image tensor, bring the color channel to be the third dimension\n",
        "print(target[0])"
      ],
      "metadata": {
        "colab": {
          "base_uri": "https://localhost:8080/",
          "height": 424
        },
        "id": "EYmOCf5xFgKQ",
        "outputId": "556b0387-ac39-4d74-f1d6-2149250ddd68"
      },
      "execution_count": 14,
      "outputs": [
        {
          "output_type": "display_data",
          "data": {
            "text/plain": [
              "<Figure size 640x480 with 1 Axes>"
            ],
            "image/png": "[encoded data removed]"
          },
          "metadata": {}
        },
        {
          "output_type": "stream",
          "name": "stdout",
          "text": [
            "tensor(4)\n"
          ]
        }
      ]
    },
    {
      "cell_type": "markdown",
      "source": [
        "# Fully Connected Model"
      ],
      "metadata": {
        "id": "Vxif-qEEiB6D"
      }
    },
    {
      "cell_type": "markdown",
      "source": [
        "This model is defined by us consist of multiple fully connected layers. Each layer consists of a linear transformation (matrix multiplication) and a non linear operation (here we use relu).\n",
        "\n",
        "At the end we have the softmax function which turns the classification score into propabilities."
      ],
      "metadata": {
        "id": "mkXQb-JDF7-L"
      }
    },
    {
      "cell_type": "code",
      "source": [
        "def create_fc_model_v1(device):\n",
        "  model = nn.Sequential(\n",
        "      nn.Flatten(),\n",
        "      nn.Linear(in_features=400, out_features=200),\n",
        "      nn.ReLU(), #non linear function\n",
        "      nn.Linear(in_features=200, out_features=314),\n",
        "      nn.ReLU(),\n",
        "      nn.Linear(in_features=314, out_features=146),\n",
        "      nn.ReLU(),\n",
        "      nn.Linear(in_features=146, out_features=400),\n",
        "      nn.ReLU(),\n",
        "      nn.Linear(in_features=400, out_features=10), \n",
        "      nn.Softmax()\n",
        "  )\n",
        "\n",
        "  model = model.to(device) # to load the model to GPU or CPU\n",
        "  return model\n"
      ],
      "metadata": {
        "id": "iJH70ZdSiOos"
      },
      "execution_count": 15,
      "outputs": []
    },
    {
      "cell_type": "markdown",
      "source": [
        "Here I also create the second model that uses DropOut (see you read the abstract of this [paper](https://www.cs.toronto.edu/~rsalakhu/papers/srivastava14a.pdf)) to understand what it is.\n",
        "\n",
        "But generally, it drop some of the neurons so these dropped neurons' values are just 0. They don't contribute to the prediction.\n",
        "\n",
        "DropOut is demonstrateed to help boosting the predictive/generalization power of the model by preventing the model from overfitting (where training accuracy is higher than validation accuracy). \n",
        "\n",
        "We can try both create_fc_model_v1 and create_fc_model_v2 to see whether dropout can help the model. We also may want to experiment with different dropout rate 0.2, 0.3, ect. Because as I experimented, for different problem, and different architecture, we may need a different dropout rate. "
      ],
      "metadata": {
        "id": "lCsP2krNGXKT"
      }
    },
    {
      "cell_type": "code",
      "source": [
        "def create_fc_model_v2(device, p=0.2):\n",
        "  model = nn.Sequential(\n",
        "      nn.Flatten(),\n",
        "      nn.Linear(in_features=400, out_features=200),\n",
        "      nn.Dropout(p),\n",
        "      nn.ReLU(), #non linear function\n",
        "      nn.Linear(in_features=200, out_features=314),\n",
        "      nn.Dropout(p),\n",
        "      nn.ReLU(),\n",
        "      nn.Linear(in_features=314, out_features=146),\n",
        "      nn.Dropout(p),\n",
        "      nn.ReLU(),\n",
        "      nn.Linear(in_features=146, out_features=400),\n",
        "      nn.Dropout(p),\n",
        "      nn.ReLU(),\n",
        "      nn.Linear(in_features=400, out_features=10), \n",
        "      nn.Softmax()\n",
        "  )\n",
        "\n",
        "  model = model.to(device) # to load the model to GPU or CPU\n",
        "  return model"
      ],
      "metadata": {
        "id": "LwcTfKemBcUg"
      },
      "execution_count": 17,
      "outputs": []
    },
    {
      "cell_type": "code",
      "source": [
        "model = create_fc_model_v1(device) # create a model instance"
      ],
      "metadata": {
        "id": "fSpgPr0xmAng"
      },
      "execution_count": 18,
      "outputs": []
    },
    {
      "cell_type": "code",
      "source": [
        "from torchsummary import summary\n",
        "summary(model, (1,20,20), 128, device=\"cuda\") # yours would be cuda"
      ],
      "metadata": {
        "id": "4uKj_mfRWEFE",
        "colab": {
          "base_uri": "https://localhost:8080/"
        },
        "outputId": "a116097f-073c-422f-f373-8c48659c9152"
      },
      "execution_count": 19,
      "outputs": [
        {
          "output_type": "stream",
          "name": "stdout",
          "text": [
            "----------------------------------------------------------------\n",
            "        Layer (type)               Output Shape         Param #\n",
            "================================================================\n",
            "           Flatten-1                 [128, 400]               0\n",
            "            Linear-2                 [128, 200]          80,200\n",
            "              ReLU-3                 [128, 200]               0\n",
            "            Linear-4                 [128, 314]          63,114\n",
            "              ReLU-5                 [128, 314]               0\n",
            "            Linear-6                 [128, 146]          45,990\n",
            "              ReLU-7                 [128, 146]               0\n",
            "            Linear-8                 [128, 400]          58,800\n",
            "              ReLU-9                 [128, 400]               0\n",
            "           Linear-10                  [128, 10]           4,010\n",
            "          Softmax-11                  [128, 10]               0\n",
            "================================================================\n",
            "Total params: 252,114\n",
            "Trainable params: 252,114\n",
            "Non-trainable params: 0\n",
            "----------------------------------------------------------------\n",
            "Input size (MB): 0.20\n",
            "Forward/backward pass size (MB): 2.48\n",
            "Params size (MB): 0.96\n",
            "Estimated Total Size (MB): 3.64\n",
            "----------------------------------------------------------------\n"
          ]
        },
        {
          "output_type": "stream",
          "name": "stderr",
          "text": [
            "/usr/local/lib/python3.9/dist-packages/torch/nn/modules/container.py:217: UserWarning: Implicit dimension choice for softmax has been deprecated. Change the call to include dim=X as an argument.\n",
            "  input = module(input)\n"
          ]
        }
      ]
    },
    {
      "cell_type": "markdown",
      "source": [
        "# Optimizer"
      ],
      "metadata": {
        "id": "uP-ZLH3SiSKj"
      }
    },
    {
      "cell_type": "markdown",
      "source": [
        "A useful video about stochastic gradient descent: https://www.youtube.com/watch?v=vMh0zPT0tLI"
      ],
      "metadata": {
        "id": "VjAiaH4mewK-"
      }
    },
    {
      "cell_type": "markdown",
      "source": [
        "There are different types of optimizers. I think its important to choose a proper optimizer and proper learning rate (I feel this is a hard step for me). We want to choose a proper optimizer and learning rate defining how the model weights' are updated, such that the model can finally converge to the lowest loss in a reasonable number of training epochs.\n",
        "\n",
        "We can use an SGD optimizer with a constant learning rate. However, adaptive learning rate is prefered. Adaptive learning rate means that the lr can change (often decreased, such as exponentially/linearly decayed as we train more epochs). \n",
        "\n",
        "\n",
        "Thus, with using SGD we can add a scheduler defining how we decay the learning rate after a preconfigured number of training epochs.\n",
        "\n",
        "Another option is that we can use adaptive optimizer, such as Adam, SGD with momentum, so on, that can adapt the learning rate for us without defining a scheduler (You can read about Adam in this https://optimization.cbe.cornell.edu/index.php?title=Adam)\n",
        "\n",
        "With Adam, we can also define learning rate (as SGD) as the initial learning rate. But here I just use the default learning rate"
      ],
      "metadata": {
        "id": "eUT3nM9hIAZg"
      }
    },
    {
      "cell_type": "code",
      "source": [
        "from torch.optim import SGD, Adam\n",
        "\n",
        "# optimizer = SGD(model.parameters(), lr=0.1, momentum=0.9) # stochastic gradent descent\n",
        "optimizer = Adam(model.parameters())"
      ],
      "metadata": {
        "id": "HhVB1mLniWvu"
      },
      "execution_count": 22,
      "outputs": []
    },
    {
      "cell_type": "markdown",
      "source": [
        "Since our problem is classifification problem with multiple labels, we use Cross Entropy Loss to measure the loss of the model"
      ],
      "metadata": {
        "id": "k1E2NGonKrNF"
      }
    },
    {
      "cell_type": "code",
      "source": [
        "# loss function\n",
        "criterion = nn.CrossEntropyLoss()"
      ],
      "metadata": {
        "id": "SomyBl3bqZtC"
      },
      "execution_count": 21,
      "outputs": []
    },
    {
      "cell_type": "markdown",
      "source": [
        "# Load and Save models"
      ],
      "metadata": {
        "id": "LYzgeWy6LhnI"
      }
    },
    {
      "cell_type": "markdown",
      "source": [
        "These functions is helpful, you can use it to save the best state of the model. Since training a model may take time, you would not want to retrain the model again, so its always good create functions like these to save the model and reload the model to continue training or to make prediction \n",
        "\n",
        "\n",
        "Not only save the model, but we can also save the history list"
      ],
      "metadata": {
        "id": "ywkF9U5LLoqE"
      }
    },
    {
      "cell_type": "code",
      "source": [
        "def save_checkpoint(model:nn.Sequential, history, path: str='dir/file.pt'):\n",
        "  obj = {}\n",
        "\n",
        "  obj['model'] = model\n",
        "  obj['model_state_dict'] = model.state_dict()\n",
        "  obj['history'] = history\n",
        "\n",
        "  torch.save(obj, path)\n",
        "\n",
        "def load_checkpoint(path, device):\n",
        "  obj = torch.load(path, map_location=device)\n",
        "  model = obj['model']\n",
        "  model.load_state_dict(obj['model_state_dict'])\n",
        "  history = obj['history']\n",
        "\n",
        "  return model, history"
      ],
      "metadata": {
        "colab": {
          "base_uri": "https://localhost:8080/",
          "height": 134
        },
        "id": "aJ1B0AXTLh9u",
        "outputId": "40eb06f7-fbfc-43c4-fa5c-a623a847b362"
      },
      "execution_count": 36,
      "outputs": [
        {
          "output_type": "error",
          "ename": "SyntaxError",
          "evalue": "ignored",
          "traceback": [
            "\u001b[0;36m  File \u001b[0;32m\"<ipython-input-36-0adc6edb4ce3>\"\u001b[0;36m, line \u001b[0;32m10\u001b[0m\n\u001b[0;31m    def load_checkpoint(path:str='dir/file.pt', device):\u001b[0m\n\u001b[0m                                                      ^\u001b[0m\n\u001b[0;31mSyntaxError\u001b[0m\u001b[0;31m:\u001b[0m non-default argument follows default argument\n"
          ]
        }
      ]
    },
    {
      "cell_type": "code",
      "source": [
        "drive.mount('drive') # mount to the google drive so that you can save persistently in your drive\n",
        "PROJECT_PATH = './drive/MyDrive/Colab Notebooks'"
      ],
      "metadata": {
        "colab": {
          "base_uri": "https://localhost:8080/"
        },
        "id": "p_MPH34QRZRG",
        "outputId": "62c98d59-670c-4467-f68b-3eed5cd79fa9"
      },
      "execution_count": 28,
      "outputs": [
        {
          "output_type": "stream",
          "name": "stdout",
          "text": [
            "Mounted at drive\n"
          ]
        }
      ]
    },
    {
      "cell_type": "markdown",
      "source": [
        "# Plot functions"
      ],
      "metadata": {
        "id": "awRygPD9MGWT"
      }
    },
    {
      "cell_type": "markdown",
      "source": [
        "We are going to define a `train` function. In that function, we keep track a list of (train accuracy rate, validation accuracy rate, train loss, and validation loss) for each training epoch and save them in a variable `history`. \n",
        "\n",
        "\n",
        "We then use the plot functions defined below with the `history` to see how our model progresses as we train over more number of epochs. \n",
        "\n",
        "* was the loss decreasing, or did it decreased and then increased (means that you may have overtrain the model or we may did not tune the learning rate right)?\n",
        "\n",
        "* Did the loss reach a plaetau, if not, we may need to train more?\n",
        "\n",
        "* Does the training loss line is lower that the validation loss? If this happens, our model suffers from overfitting (perform well on the training dataset, and perform worse in the validation dataset)\n",
        "\n",
        "* DOes the validation loss line is lower than the training loss? If this occurs, our model may be underfit.\n",
        "\n"
      ],
      "metadata": {
        "id": "PAXPyjuYMRVy"
      }
    },
    {
      "cell_type": "code",
      "source": [
        "def plot_train_loss_and_val_loss(history):\n",
        "  df = pd.DataFrame(history, columns=['train acc', 'train loss', 'val acc', 'val loss'])\n",
        "  plt.plot(df['train loss'], label='train loss')\n",
        "  plt.plot(df['val loss'], label='validation loss')\n",
        "  plt.title('Training loss and validation loss')\n",
        "  plt.show()\n",
        "\n",
        "def plot_train_acc_and_val_acc(history):  \n",
        "  df = pd.DataFrame(history, columns=['train acc', 'train loss', 'val acc', 'val loss'])\n",
        "  plt.plot(df['train acc'], label='train accuracy')\n",
        "  plt.plot(df['val acc'], label='validation accuracy')\n",
        "  plt.title('Training accuracy and validation accuracy')\n",
        "  plt.show()"
      ],
      "metadata": {
        "id": "Ga4wg3W0MNrh"
      },
      "execution_count": 24,
      "outputs": []
    },
    {
      "cell_type": "markdown",
      "source": [
        "# Training function"
      ],
      "metadata": {
        "id": "HtaU32x6icoD"
      }
    },
    {
      "cell_type": "markdown",
      "source": [
        "A few notes for this train function\n",
        " * The train function receive an `epochs` argument defining the max number of epochs that it would run.\n",
        "\n",
        " * At each epoch, we iterate over each batch inside the `train_loader` to get the images and associated labels. Then we use them to make predictions, compute the loss, the gradient, and update the model weights with an optimizer (See the code inside the for loop `for batch in train_loader`)\n",
        "\n",
        " * At each epoch, we also track the train running loss and train running accuracy and after finished training, we compute average train loss and train accuracy rate.\n",
        "\n",
        " * After an epoch, we also test the model on the val_loader, compute val loss and val accuracy.\n",
        "\n",
        " * Then append train loss, train acc, val loss, val acc to the history list.\n",
        "\n",
        " * Once we finish training we also return the history.\n",
        "\n",
        " * Lastly, we are using `early stopping`. If the model does not improve (the validation loss is not lower than the lowest validation loss that we have seen so far for a number of `max_epochs_no_improve`, we stop training though we may have not fully train for `epochs` number of epochs\n",
        "\n",
        " * We also save the best model using `save_checkpoint` function that we defined above."
      ],
      "metadata": {
        "id": "Ihk59HHiOcnH"
      }
    },
    {
      "cell_type": "code",
      "source": [
        "def train(model, train_loader, optimizer, criterion, val_loader, epochs, model_path, max_epochs_no_improve=3):\n",
        "  history = [] \n",
        "\n",
        "  lowest_val_loss = float('inf')\n",
        "  best_accuracy = 0\n",
        "  no_improve_epochs = 0\n",
        "\n",
        "  try:\n",
        "    print(f\"Has been trained for {model.epochs}\")\n",
        "    start_epochs = model.epochs + 1\n",
        "  except:\n",
        "    print(f\"Start training from scratch.\")\n",
        "    model.epochs = 0\n",
        "    start_epochs = 0\n",
        "\n",
        "  for e in range(start_epochs, epochs): # a training step\n",
        "    model.train()\n",
        "\n",
        "    train_running_loss = 0\n",
        "    train_running_acc = 0\n",
        "    train_size = 0\n",
        "    val_running_loss = 0\n",
        "    val_running_acc = 0\n",
        "    val_size =0 \n",
        "    for batch in train_loader: # iterate over each batch of size 128\n",
        "      x, y = batch # x: images in tensors, y: labels for images\n",
        "      x = x.to(device)\n",
        "      y = y.to(device) \n",
        "\n",
        "      # clear the gradient (gradient = multiple derivatives - each is the derivative of the loss with respect to the weight in the model)\n",
        "      optimizer.zero_grad()\n",
        "\n",
        "      ## train ##\n",
        "      probs = model(x)\n",
        "      loss = criterion(probs, y) # compute the loss of the model at the current state\n",
        "\n",
        "      loss.backward() # give the optimizer the gradients to update the weights\n",
        "      \n",
        "      optimizer.step()\n",
        "\n",
        "      # log things\n",
        "      train_running_loss += loss.item()*x.size(0)\n",
        "      \n",
        "      _, preds = probs.max(1)\n",
        "      correct_preds = (y==preds).sum()\n",
        "      train_running_acc += correct_preds\n",
        "\n",
        "      train_size += x.size(0)\n",
        "\n",
        "\n",
        "    else:\n",
        "      model.eval()\n",
        "\n",
        "      with torch.no_grad():\n",
        "          for batch in val_loader: # iterate over each batch of size 128\n",
        "            x, y = batch # x: images in tensors, y: labels for images\n",
        "            x = x.to(device)\n",
        "            y = y.to(device) \n",
        "\n",
        "            probs = model(x)\n",
        "            loss = criterion(probs, y)\n",
        "            val_running_loss += loss.item()*x.size(0)\n",
        "\n",
        "            _, preds = probs.max(1)\n",
        "            correct_preds = (y==preds).sum()\n",
        "            val_running_acc += correct_preds\n",
        "\n",
        "            val_size += x.size(0)\n",
        "\n",
        "    model.epochs += 1\n",
        "\n",
        "    # compute loss rate and accuracy rate for plotting\n",
        "    train_acc = train_running_acc/train_size\n",
        "    train_loss = train_running_loss/train_size\n",
        "    val_acc = val_running_acc/val_size\n",
        "    val_loss = val_running_loss/val_size\n",
        "    history.append((train_loss, train_acc, val_loss, val_acc))\n",
        "\n",
        "    #check if out loss is reduced\n",
        "    if val_loss<lowest_val_loss:\n",
        "      no_improve_epochs = 0\n",
        "      lowest_val_loss = val_loss\n",
        "      best_accuracy = val_acc\n",
        "\n",
        "      save_checkpoint(model, history, model_path)\n",
        "    else:\n",
        "      no_improve_epochs +=1\n",
        "\n",
        "    # early stopping\n",
        "    if no_improve_epochs == max_epochs_no_improve:\n",
        "      print(f'Early stopping, best validation accuracy = {val_acc*100:.2f}')\n",
        "      return history\n",
        "\n",
        "    # print\n",
        "    print(f\"Finish epoch {e}, training loss={train_loss:.2f}, training acc={train_acc*100:.2f}\")\n",
        "    print(f\"\\tValidation loss={val_loss:.2f}, validation acc={val_acc*100:.2f}\")\n",
        "  return history\n",
        "\n"
      ],
      "metadata": {
        "id": "xo4tYE8cigAP"
      },
      "execution_count": 40,
      "outputs": []
    },
    {
      "cell_type": "markdown",
      "source": [
        "# Create a model and train"
      ],
      "metadata": {
        "id": "6uKjgDAIimzy"
      }
    },
    {
      "cell_type": "markdown",
      "source": [
        "Model with augmentation and no dropout"
      ],
      "metadata": {
        "id": "Ta78mrZJTF_7"
      }
    },
    {
      "cell_type": "code",
      "source": [
        "model = create_fc_model_v1(device) # create a model instance\n",
        "optimizer = Adam(model.parameters()) \n",
        "criterion = nn.CrossEntropyLoss()\n",
        "\n",
        "history = train(model, train_loader, optimizer, criterion, test_loader, 50, PROJECT_PATH + '/fcc_nodropout.pt', 10)"
      ],
      "metadata": {
        "id": "0g2Z_h7EippS",
        "colab": {
          "base_uri": "https://localhost:8080/"
        },
        "outputId": "fd1b16c6-530e-49ab-e9a6-89fdd81d038d"
      },
      "execution_count": 43,
      "outputs": [
        {
          "output_type": "stream",
          "name": "stdout",
          "text": [
            "Start training from scratch.\n"
          ]
        },
        {
          "output_type": "stream",
          "name": "stderr",
          "text": [
            "/usr/local/lib/python3.9/dist-packages/torch/nn/modules/container.py:217: UserWarning: Implicit dimension choice for softmax has been deprecated. Change the call to include dim=X as an argument.\n",
            "  input = module(input)\n"
          ]
        },
        {
          "output_type": "stream",
          "name": "stdout",
          "text": [
            "Finish epoch 0, training loss=1.86, training acc=60.49\n",
            "\tValidation loss=1.71, validation acc=74.91\n",
            "Finish epoch 1, training loss=1.75, training acc=71.22\n",
            "\tValidation loss=1.64, validation acc=82.26\n",
            "Finish epoch 2, training loss=1.68, training acc=78.61\n",
            "\tValidation loss=1.60, validation acc=86.31\n",
            "Finish epoch 3, training loss=1.65, training acc=80.69\n",
            "\tValidation loss=1.59, validation acc=86.99\n",
            "Finish epoch 4, training loss=1.64, training acc=81.73\n",
            "\tValidation loss=1.59, validation acc=87.03\n",
            "Finish epoch 5, training loss=1.64, training acc=82.18\n",
            "\tValidation loss=1.55, validation acc=91.44\n",
            "Finish epoch 6, training loss=1.58, training acc=88.49\n",
            "\tValidation loss=1.52, validation acc=93.78\n",
            "Finish epoch 7, training loss=1.57, training acc=89.50\n",
            "\tValidation loss=1.52, validation acc=94.57\n",
            "Finish epoch 8, training loss=1.56, training acc=89.90\n",
            "\tValidation loss=1.50, validation acc=96.16\n",
            "Finish epoch 9, training loss=1.55, training acc=90.88\n",
            "\tValidation loss=1.51, validation acc=95.22\n",
            "Finish epoch 10, training loss=1.56, training acc=90.51\n",
            "\tValidation loss=1.51, validation acc=94.63\n",
            "Finish epoch 11, training loss=1.55, training acc=91.06\n",
            "\tValidation loss=1.51, validation acc=95.35\n",
            "Finish epoch 12, training loss=1.55, training acc=91.09\n",
            "\tValidation loss=1.50, validation acc=96.10\n",
            "Finish epoch 13, training loss=1.55, training acc=91.60\n",
            "\tValidation loss=1.50, validation acc=95.66\n",
            "Finish epoch 14, training loss=1.55, training acc=91.24\n",
            "\tValidation loss=1.50, validation acc=95.85\n",
            "Finish epoch 15, training loss=1.55, training acc=91.26\n",
            "\tValidation loss=1.50, validation acc=95.75\n",
            "Finish epoch 16, training loss=1.55, training acc=90.75\n",
            "\tValidation loss=1.50, validation acc=96.31\n",
            "Finish epoch 17, training loss=1.55, training acc=91.51\n",
            "\tValidation loss=1.50, validation acc=96.45\n",
            "Finish epoch 18, training loss=1.54, training acc=91.71\n",
            "\tValidation loss=1.50, validation acc=96.17\n",
            "Finish epoch 19, training loss=1.55, training acc=91.43\n",
            "\tValidation loss=1.50, validation acc=96.21\n",
            "Finish epoch 20, training loss=1.55, training acc=91.46\n",
            "\tValidation loss=1.50, validation acc=95.75\n",
            "Finish epoch 21, training loss=1.54, training acc=91.76\n",
            "\tValidation loss=1.51, validation acc=95.08\n",
            "Finish epoch 22, training loss=1.55, training acc=91.04\n",
            "\tValidation loss=1.50, validation acc=96.15\n",
            "Finish epoch 23, training loss=1.55, training acc=91.36\n",
            "\tValidation loss=1.50, validation acc=95.74\n",
            "Finish epoch 24, training loss=1.55, training acc=91.17\n",
            "\tValidation loss=1.50, validation acc=95.63\n",
            "Finish epoch 25, training loss=1.55, training acc=91.34\n",
            "\tValidation loss=1.51, validation acc=95.55\n",
            "Finish epoch 26, training loss=1.55, training acc=91.46\n",
            "\tValidation loss=1.51, validation acc=95.44\n",
            "Early stopping, best validation accuracy = 95.35\n"
          ]
        }
      ]
    },
    {
      "cell_type": "markdown",
      "source": [
        "You can also uncomment this and try the second model that uses dropout. Maybe try with different dropout rate p as well"
      ],
      "metadata": {
        "id": "cPX02uiHTl1t"
      }
    },
    {
      "cell_type": "code",
      "source": [
        "\n",
        "model2 = create_fc_model_v2(device, p=0.2) # create a model instance\n",
        "optimizer = Adam(model2.parameters()) \n",
        "criterion = nn.CrossEntropyLoss()\n",
        "\n",
        "history = train(model2, train_loader, optimizer, criterion, val_loader, 50, PROJECT_PATH + '/fcc_dropout_02.pt')"
      ],
      "metadata": {
        "colab": {
          "base_uri": "https://localhost:8080/"
        },
        "id": "XoSG7uDToftx",
        "outputId": "11a8507f-415b-48d8-d351-f8733bc8576d"
      },
      "execution_count": 66,
      "outputs": [
        {
          "output_type": "stream",
          "name": "stdout",
          "text": [
            "Start training from scratch.\n"
          ]
        },
        {
          "output_type": "stream",
          "name": "stderr",
          "text": [
            "/usr/local/lib/python3.9/dist-packages/torch/nn/modules/container.py:217: UserWarning: Implicit dimension choice for softmax has been deprecated. Change the call to include dim=X as an argument.\n",
            "  input = module(input)\n"
          ]
        },
        {
          "output_type": "stream",
          "name": "stdout",
          "text": [
            "Finish epoch 0, training loss=1.88, training acc=58.56\n",
            "\tValidation loss=1.73, validation acc=73.04\n",
            "Finish epoch 1, training loss=1.73, training acc=73.68\n",
            "\tValidation loss=1.67, validation acc=79.10\n",
            "Finish epoch 2, training loss=1.69, training acc=76.88\n",
            "\tValidation loss=1.66, validation acc=80.65\n",
            "Finish epoch 3, training loss=1.68, training acc=78.08\n",
            "\tValidation loss=1.66, validation acc=79.87\n",
            "Finish epoch 4, training loss=1.67, training acc=79.16\n",
            "\tValidation loss=1.64, validation acc=82.17\n",
            "Finish epoch 5, training loss=1.66, training acc=80.26\n",
            "\tValidation loss=1.60, validation acc=86.51\n",
            "Finish epoch 6, training loss=1.61, training acc=85.49\n",
            "\tValidation loss=1.56, validation acc=89.93\n",
            "Finish epoch 7, training loss=1.59, training acc=86.73\n",
            "\tValidation loss=1.57, validation acc=89.61\n",
            "Finish epoch 8, training loss=1.59, training acc=87.40\n",
            "\tValidation loss=1.57, validation acc=89.51\n",
            "Finish epoch 9, training loss=1.58, training acc=88.16\n",
            "\tValidation loss=1.55, validation acc=90.69\n",
            "Finish epoch 10, training loss=1.58, training acc=87.98\n",
            "\tValidation loss=1.55, validation acc=91.00\n",
            "Finish epoch 11, training loss=1.58, training acc=88.21\n",
            "\tValidation loss=1.54, validation acc=91.94\n",
            "Finish epoch 12, training loss=1.58, training acc=88.28\n",
            "\tValidation loss=1.55, validation acc=91.33\n",
            "Finish epoch 13, training loss=1.58, training acc=88.40\n",
            "\tValidation loss=1.55, validation acc=91.55\n",
            "Early stopping, best validation accuracy = 90.47\n"
          ]
        }
      ]
    },
    {
      "cell_type": "markdown",
      "source": [
        "# Visualize and performance"
      ],
      "metadata": {
        "id": "nufCn_uCip4r"
      }
    },
    {
      "cell_type": "code",
      "source": [
        "# load the model and the history\n",
        "model, history = load_checkpoint(PROJECT_PATH + '/fcc_nodropout.pt', device)"
      ],
      "metadata": {
        "id": "KD0b6i3bUpJj"
      },
      "execution_count": 44,
      "outputs": []
    },
    {
      "cell_type": "code",
      "source": [
        "# plot \n",
        "plot_train_acc_and_val_acc(history)\n",
        "plot_train_loss_and_val_loss(history)"
      ],
      "metadata": {
        "id": "Y9XHS-T9ix1q",
        "colab": {
          "base_uri": "https://localhost:8080/",
          "height": 887
        },
        "outputId": "b3ccd8c7-9478-4d97-caa9-c64d3a263168"
      },
      "execution_count": 45,
      "outputs": [
        {
          "output_type": "display_data",
          "data": {
            "text/plain": [
              "<Figure size 640x480 with 1 Axes>"
            ],
            "image/png": "[encoded data removed]"
          },
          "metadata": {}
        },
        {
          "output_type": "display_data",
          "data": {
            "text/plain": [
              "<Figure size 640x480 with 1 Axes>"
            ],
            "image/png": "[encoded data removed]"
          },
          "metadata": {}
        }
      ]
    },
    {
      "cell_type": "markdown",
      "source": [
        "# Prediction on the real data\n"
      ],
      "metadata": {
        "id": "mozhk_uZGwl5"
      }
    },
    {
      "cell_type": "markdown",
      "source": [
        "You can create you own image and uses the following function to open the image, and use the model that you just trained to make prediction.\n",
        "\n",
        "Note that since the MNIST dataset that we used for training contains white digit on the black background. So your image input to the model should be similar, otherwise, the model just not work right (I used powerpoint to create one). \n",
        "\n",
        "If you look to the left of the notebook, you will see a little folder icon. You click on that and you will see a sample_data folder. You can put the images that you want to predict inside that folder"
      ],
      "metadata": {
        "id": "QRE9NX_oWy8A"
      }
    },
    {
      "cell_type": "code",
      "source": [
        "def predict(image_loc, model):\n",
        "  img = Image.open(image_loc)\n",
        "  print('Image: ')\n",
        "  img.show()\n",
        "\n",
        "  img = transformer(img)\n",
        "  img = img.to(device)\n",
        "\n",
        "  with torch.no_grad():\n",
        "    model.eval()\n",
        "    props = np.round(model(img).cpu()*100, 2)\n",
        "  print('Predicted probabilities: ', props)\n",
        "\n",
        "  _, pred = props.max(1)\n",
        "  print('Predicted Label: ', pred.item())"
      ],
      "metadata": {
        "id": "DZinlbToNkN5"
      },
      "execution_count": 62,
      "outputs": []
    },
    {
      "cell_type": "code",
      "source": [
        "# load the model\n",
        "model, history = load_checkpoint(PROJECT_PATH + '/fcc_nodropout.pt', device)\n",
        "\n",
        "# make prediction\n",
        "predict('./sample_data/6_white.png', model)\n"
      ],
      "metadata": {
        "colab": {
          "base_uri": "https://localhost:8080/",
          "height": 567
        },
        "id": "DsOC5gqAO2Cl",
        "outputId": "4d375227-6b71-4158-da97-e37faf98dcce"
      },
      "execution_count": 64,
      "outputs": [
        {
          "output_type": "stream",
          "name": "stdout",
          "text": [
            "Image: \n"
          ]
        },
        {
          "output_type": "display_data",
          "data": {
            "text/plain": [
              "<PIL.PngImagePlugin.PngImageFile image mode=RGBA size=668x496 at 0x7F0673051E80>"
            ],
            "image/png": "[encoded data removed]"
          },
          "metadata": {}
        },
        {
          "output_type": "stream",
          "name": "stdout",
          "text": [
            "Predicted probabilities:  tensor([[  0.,   0.,   0.,   0.,   0.,   0., 100.,   0.,   0.,   0.]])\n",
            "Predicted Label:  6\n"
          ]
        }
      ]
    }
  ]
}