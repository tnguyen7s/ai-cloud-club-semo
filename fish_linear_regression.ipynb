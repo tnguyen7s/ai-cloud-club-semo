{
 "cells": [
  {
   "cell_type": "markdown",
   "id": "b24d2da1",
   "metadata": {},
   "source": [
    "Dataset https://www.kaggle.com/datasets/aungpyaeap/fish-market \\\n",
    "Objective: A multiple linear regression model to predict fish weights"
   ]
  },
  {
   "cell_type": "code",
   "execution_count": 10,
   "id": "3b40bd7f",
   "metadata": {},
   "outputs": [
    {
     "name": "stdout",
     "output_type": "stream",
     "text": [
      "Collecting seaborn\n",
      "  Downloading seaborn-0.12.1-py3-none-any.whl (288 kB)\n",
      "     -------------------------------------- 288.2/288.2 kB 4.5 MB/s eta 0:00:00\n",
      "Collecting matplotlib!=3.6.1,>=3.1\n",
      "  Downloading matplotlib-3.6.0-cp39-cp39-win_amd64.whl (7.2 MB)\n",
      "     ---------------------------------------- 7.2/7.2 MB 8.1 MB/s eta 0:00:00\n",
      "Requirement already satisfied: numpy>=1.17 in c:\\users\\tuyen\\anaconda3\\lib\\site-packages (from seaborn) (1.23.3)\n",
      "Requirement already satisfied: pandas>=0.25 in c:\\users\\tuyen\\anaconda3\\lib\\site-packages (from seaborn) (1.4.3)\n",
      "Requirement already satisfied: python-dateutil>=2.7 in c:\\users\\tuyen\\anaconda3\\lib\\site-packages (from matplotlib!=3.6.1,>=3.1->seaborn) (2.8.2)\n",
      "Requirement already satisfied: pillow>=6.2.0 in c:\\users\\tuyen\\anaconda3\\lib\\site-packages (from matplotlib!=3.6.1,>=3.1->seaborn) (9.3.0)\n",
      "Requirement already satisfied: cycler>=0.10 in c:\\users\\tuyen\\anaconda3\\lib\\site-packages (from matplotlib!=3.6.1,>=3.1->seaborn) (0.11.0)\n",
      "Requirement already satisfied: packaging>=20.0 in c:\\users\\tuyen\\anaconda3\\lib\\site-packages (from matplotlib!=3.6.1,>=3.1->seaborn) (21.3)\n",
      "Requirement already satisfied: contourpy>=1.0.1 in c:\\users\\tuyen\\anaconda3\\lib\\site-packages (from matplotlib!=3.6.1,>=3.1->seaborn) (1.0.6)\n",
      "Requirement already satisfied: fonttools>=4.22.0 in c:\\users\\tuyen\\anaconda3\\lib\\site-packages (from matplotlib!=3.6.1,>=3.1->seaborn) (4.38.0)\n",
      "Requirement already satisfied: kiwisolver>=1.0.1 in c:\\users\\tuyen\\anaconda3\\lib\\site-packages (from matplotlib!=3.6.1,>=3.1->seaborn) (1.4.4)\n",
      "Requirement already satisfied: pyparsing>=2.2.1 in c:\\users\\tuyen\\anaconda3\\lib\\site-packages (from matplotlib!=3.6.1,>=3.1->seaborn) (3.0.9)\n",
      "Requirement already satisfied: pytz>=2020.1 in c:\\users\\tuyen\\anaconda3\\lib\\site-packages (from pandas>=0.25->seaborn) (2022.1)\n",
      "Requirement already satisfied: six>=1.5 in c:\\users\\tuyen\\anaconda3\\lib\\site-packages (from python-dateutil>=2.7->matplotlib!=3.6.1,>=3.1->seaborn) (1.16.0)\n",
      "Installing collected packages: matplotlib, seaborn\n",
      "  Attempting uninstall: matplotlib\n",
      "    Found existing installation: matplotlib 3.6.1\n",
      "    Uninstalling matplotlib-3.6.1:\n",
      "      Successfully uninstalled matplotlib-3.6.1\n",
      "Note: you may need to restart the kernel to use updated packages.\n"
     ]
    },
    {
     "name": "stderr",
     "output_type": "stream",
     "text": [
      "ERROR: Could not install packages due to an OSError: [WinError 5] Access is denied: 'C:\\\\Users\\\\Tuyen\\\\anaconda3\\\\Lib\\\\site-packages\\\\~atplotlib\\\\ft2font.cp39-win_amd64.pyd'\n",
      "Consider using the `--user` option or check the permissions.\n",
      "\n"
     ]
    }
   ],
   "source": [
    "%pip install seaborn"
   ]
  },
  {
   "cell_type": "code",
   "execution_count": 16,
   "id": "7261f8f4",
   "metadata": {},
   "outputs": [
    {
     "ename": "ModuleNotFoundError",
     "evalue": "No module named 'seaborn'",
     "output_type": "error",
     "traceback": [
      "\u001b[1;31m---------------------------------------------------------------------------\u001b[0m",
      "\u001b[1;31mModuleNotFoundError\u001b[0m                       Traceback (most recent call last)",
      "Input \u001b[1;32mIn [16]\u001b[0m, in \u001b[0;36m<cell line: 4>\u001b[1;34m()\u001b[0m\n\u001b[0;32m      2\u001b[0m \u001b[38;5;28;01mimport\u001b[39;00m \u001b[38;5;21;01mnumpy\u001b[39;00m \u001b[38;5;28;01mas\u001b[39;00m \u001b[38;5;21;01mnp\u001b[39;00m \u001b[38;5;66;03m# when working with array, matrix, multi dimension array\u001b[39;00m\n\u001b[0;32m      3\u001b[0m \u001b[38;5;28;01mimport\u001b[39;00m \u001b[38;5;21;01mmatplotlib\u001b[39;00m\u001b[38;5;21;01m.\u001b[39;00m\u001b[38;5;21;01mpyplot\u001b[39;00m \u001b[38;5;28;01mas\u001b[39;00m \u001b[38;5;21;01mplt\u001b[39;00m \u001b[38;5;66;03m# graph\u001b[39;00m\n\u001b[1;32m----> 4\u001b[0m \u001b[38;5;28;01mimport\u001b[39;00m \u001b[38;5;21;01mseaborn\u001b[39;00m \u001b[38;5;28;01mas\u001b[39;00m \u001b[38;5;21;01msns\u001b[39;00m \u001b[38;5;66;03m# beautiful graph based on matplotlib\u001b[39;00m\n\u001b[0;32m      5\u001b[0m \u001b[38;5;28;01mimport\u001b[39;00m \u001b[38;5;21;01mstatsmodels\u001b[39;00m\u001b[38;5;21;01m.\u001b[39;00m\u001b[38;5;21;01mapi\u001b[39;00m \u001b[38;5;28;01mas\u001b[39;00m \u001b[38;5;21;01msa\u001b[39;00m \u001b[38;5;66;03m# main use to create model\u001b[39;00m\n\u001b[0;32m      6\u001b[0m \u001b[38;5;28;01mimport\u001b[39;00m \u001b[38;5;21;01mcollections\u001b[39;00m\n",
      "\u001b[1;31mModuleNotFoundError\u001b[0m: No module named 'seaborn'"
     ]
    }
   ],
   "source": [
    "import pandas as pd # data in tabular form with rows and columns\n",
    "import numpy as np # when working with array, matrix, multi dimension array\n",
    "import matplotlib.pyplot as plt # graph\n",
    "import seaborn as sns # beautiful graph based on matplotlib\n",
    "import statsmodels.api as sa # main use to create model\n",
    "import collections # python library to work with different types of collections, like Counter, UserDict, DefaultDict, Nametupled"
   ]
  },
  {
   "cell_type": "code",
   "execution_count": 4,
   "id": "2b437fb6",
   "metadata": {},
   "outputs": [
    {
     "ename": "NameError",
     "evalue": "name 'sns' is not defined",
     "output_type": "error",
     "traceback": [
      "\u001b[1;31m---------------------------------------------------------------------------\u001b[0m",
      "\u001b[1;31mNameError\u001b[0m                                 Traceback (most recent call last)",
      "Input \u001b[1;32mIn [4]\u001b[0m, in \u001b[0;36m<cell line: 1>\u001b[1;34m()\u001b[0m\n\u001b[1;32m----> 1\u001b[0m \u001b[43msns\u001b[49m\u001b[38;5;241m.\u001b[39mset()\n",
      "\u001b[1;31mNameError\u001b[0m: name 'sns' is not defined"
     ]
    }
   ],
   "source": [
    "sns.set()"
   ]
  },
  {
   "cell_type": "markdown",
   "id": "5fbee6db",
   "metadata": {},
   "source": [
    "### Load data"
   ]
  },
  {
   "cell_type": "code",
   "execution_count": 3,
   "id": "94460aac",
   "metadata": {},
   "outputs": [],
   "source": [
    "raw_data = pd.read_csv('datasets/fish.csv')"
   ]
  },
  {
   "cell_type": "code",
   "execution_count": 4,
   "id": "2b05df6b",
   "metadata": {},
   "outputs": [
    {
     "data": {
      "text/plain": [
       "(159, 7)"
      ]
     },
     "execution_count": 4,
     "metadata": {},
     "output_type": "execute_result"
    }
   ],
   "source": [
    "raw_data.shape"
   ]
  },
  {
   "cell_type": "code",
   "execution_count": 5,
   "id": "a5967287",
   "metadata": {},
   "outputs": [
    {
     "data": {
      "text/html": [
       "<div>\n",
       "<style scoped>\n",
       "    .dataframe tbody tr th:only-of-type {\n",
       "        vertical-align: middle;\n",
       "    }\n",
       "\n",
       "    .dataframe tbody tr th {\n",
       "        vertical-align: top;\n",
       "    }\n",
       "\n",
       "    .dataframe thead th {\n",
       "        text-align: right;\n",
       "    }\n",
       "</style>\n",
       "<table border=\"1\" class=\"dataframe\">\n",
       "  <thead>\n",
       "    <tr style=\"text-align: right;\">\n",
       "      <th></th>\n",
       "      <th>Species</th>\n",
       "      <th>Weight</th>\n",
       "      <th>Length1</th>\n",
       "      <th>Length2</th>\n",
       "      <th>Length3</th>\n",
       "      <th>Height</th>\n",
       "      <th>Width</th>\n",
       "    </tr>\n",
       "  </thead>\n",
       "  <tbody>\n",
       "    <tr>\n",
       "      <th>0</th>\n",
       "      <td>Bream</td>\n",
       "      <td>242.0</td>\n",
       "      <td>23.2</td>\n",
       "      <td>25.4</td>\n",
       "      <td>30.0</td>\n",
       "      <td>11.5200</td>\n",
       "      <td>4.0200</td>\n",
       "    </tr>\n",
       "    <tr>\n",
       "      <th>1</th>\n",
       "      <td>Bream</td>\n",
       "      <td>290.0</td>\n",
       "      <td>24.0</td>\n",
       "      <td>26.3</td>\n",
       "      <td>31.2</td>\n",
       "      <td>12.4800</td>\n",
       "      <td>4.3056</td>\n",
       "    </tr>\n",
       "    <tr>\n",
       "      <th>2</th>\n",
       "      <td>Bream</td>\n",
       "      <td>340.0</td>\n",
       "      <td>23.9</td>\n",
       "      <td>26.5</td>\n",
       "      <td>31.1</td>\n",
       "      <td>12.3778</td>\n",
       "      <td>4.6961</td>\n",
       "    </tr>\n",
       "    <tr>\n",
       "      <th>3</th>\n",
       "      <td>Bream</td>\n",
       "      <td>363.0</td>\n",
       "      <td>26.3</td>\n",
       "      <td>29.0</td>\n",
       "      <td>33.5</td>\n",
       "      <td>12.7300</td>\n",
       "      <td>4.4555</td>\n",
       "    </tr>\n",
       "    <tr>\n",
       "      <th>4</th>\n",
       "      <td>Bream</td>\n",
       "      <td>430.0</td>\n",
       "      <td>26.5</td>\n",
       "      <td>29.0</td>\n",
       "      <td>34.0</td>\n",
       "      <td>12.4440</td>\n",
       "      <td>5.1340</td>\n",
       "    </tr>\n",
       "  </tbody>\n",
       "</table>\n",
       "</div>"
      ],
      "text/plain": [
       "  Species  Weight  Length1  Length2  Length3   Height   Width\n",
       "0   Bream   242.0     23.2     25.4     30.0  11.5200  4.0200\n",
       "1   Bream   290.0     24.0     26.3     31.2  12.4800  4.3056\n",
       "2   Bream   340.0     23.9     26.5     31.1  12.3778  4.6961\n",
       "3   Bream   363.0     26.3     29.0     33.5  12.7300  4.4555\n",
       "4   Bream   430.0     26.5     29.0     34.0  12.4440  5.1340"
      ]
     },
     "execution_count": 5,
     "metadata": {},
     "output_type": "execute_result"
    }
   ],
   "source": [
    "raw_data.head()"
   ]
  },
  {
   "cell_type": "markdown",
   "id": "088bbfd7",
   "metadata": {},
   "source": [
    "### Data processing"
   ]
  },
  {
   "cell_type": "code",
   "execution_count": 6,
   "id": "d612244b",
   "metadata": {},
   "outputs": [],
   "source": [
    "my_df = raw_data.copy()"
   ]
  },
  {
   "cell_type": "code",
   "execution_count": 7,
   "id": "a4dcd27e",
   "metadata": {},
   "outputs": [
    {
     "data": {
      "text/plain": [
       "Species    0\n",
       "Weight     0\n",
       "Length1    0\n",
       "Length2    0\n",
       "Length3    0\n",
       "Height     0\n",
       "Width      0\n",
       "dtype: int64"
      ]
     },
     "execution_count": 7,
     "metadata": {},
     "output_type": "execute_result"
    }
   ],
   "source": [
    "my_df.isna().sum()"
   ]
  },
  {
   "cell_type": "markdown",
   "id": "4638211d",
   "metadata": {},
   "source": [
    "No missing data"
   ]
  },
  {
   "cell_type": "code",
   "execution_count": 8,
   "id": "524fb77d",
   "metadata": {},
   "outputs": [
    {
     "data": {
      "text/plain": [
       "Counter({'Bream': 35,\n",
       "         'Roach': 20,\n",
       "         'Whitefish': 6,\n",
       "         'Parkki': 11,\n",
       "         'Perch': 56,\n",
       "         'Pike': 17,\n",
       "         'Smelt': 14})"
      ]
     },
     "execution_count": 8,
     "metadata": {},
     "output_type": "execute_result"
    }
   ],
   "source": [
    "collections.Counter(my_df.Species)"
   ]
  },
  {
   "cell_type": "markdown",
   "id": "c54c45c1",
   "metadata": {},
   "source": [
    "We have 7 types of species, to use fish type as a \"feature\" in our regression model, we need to convert the feature to a numeric representation"
   ]
  },
  {
   "cell_type": "markdown",
   "id": "874599d7",
   "metadata": {},
   "source": [
    "#### Dummy variable encoding for fish type"
   ]
  },
  {
   "cell_type": "code",
   "execution_count": 9,
   "id": "4ad04a7e",
   "metadata": {},
   "outputs": [
    {
     "data": {
      "text/html": [
       "<div>\n",
       "<style scoped>\n",
       "    .dataframe tbody tr th:only-of-type {\n",
       "        vertical-align: middle;\n",
       "    }\n",
       "\n",
       "    .dataframe tbody tr th {\n",
       "        vertical-align: top;\n",
       "    }\n",
       "\n",
       "    .dataframe thead th {\n",
       "        text-align: right;\n",
       "    }\n",
       "</style>\n",
       "<table border=\"1\" class=\"dataframe\">\n",
       "  <thead>\n",
       "    <tr style=\"text-align: right;\">\n",
       "      <th></th>\n",
       "      <th>Parkki</th>\n",
       "      <th>Perch</th>\n",
       "      <th>Pike</th>\n",
       "      <th>Roach</th>\n",
       "      <th>Smelt</th>\n",
       "      <th>Whitefish</th>\n",
       "    </tr>\n",
       "  </thead>\n",
       "  <tbody>\n",
       "    <tr>\n",
       "      <th>0</th>\n",
       "      <td>0</td>\n",
       "      <td>0</td>\n",
       "      <td>0</td>\n",
       "      <td>0</td>\n",
       "      <td>0</td>\n",
       "      <td>0</td>\n",
       "    </tr>\n",
       "    <tr>\n",
       "      <th>1</th>\n",
       "      <td>0</td>\n",
       "      <td>0</td>\n",
       "      <td>0</td>\n",
       "      <td>0</td>\n",
       "      <td>0</td>\n",
       "      <td>0</td>\n",
       "    </tr>\n",
       "    <tr>\n",
       "      <th>2</th>\n",
       "      <td>0</td>\n",
       "      <td>0</td>\n",
       "      <td>0</td>\n",
       "      <td>0</td>\n",
       "      <td>0</td>\n",
       "      <td>0</td>\n",
       "    </tr>\n",
       "    <tr>\n",
       "      <th>3</th>\n",
       "      <td>0</td>\n",
       "      <td>0</td>\n",
       "      <td>0</td>\n",
       "      <td>0</td>\n",
       "      <td>0</td>\n",
       "      <td>0</td>\n",
       "    </tr>\n",
       "    <tr>\n",
       "      <th>4</th>\n",
       "      <td>0</td>\n",
       "      <td>0</td>\n",
       "      <td>0</td>\n",
       "      <td>0</td>\n",
       "      <td>0</td>\n",
       "      <td>0</td>\n",
       "    </tr>\n",
       "    <tr>\n",
       "      <th>...</th>\n",
       "      <td>...</td>\n",
       "      <td>...</td>\n",
       "      <td>...</td>\n",
       "      <td>...</td>\n",
       "      <td>...</td>\n",
       "      <td>...</td>\n",
       "    </tr>\n",
       "    <tr>\n",
       "      <th>154</th>\n",
       "      <td>0</td>\n",
       "      <td>0</td>\n",
       "      <td>0</td>\n",
       "      <td>0</td>\n",
       "      <td>1</td>\n",
       "      <td>0</td>\n",
       "    </tr>\n",
       "    <tr>\n",
       "      <th>155</th>\n",
       "      <td>0</td>\n",
       "      <td>0</td>\n",
       "      <td>0</td>\n",
       "      <td>0</td>\n",
       "      <td>1</td>\n",
       "      <td>0</td>\n",
       "    </tr>\n",
       "    <tr>\n",
       "      <th>156</th>\n",
       "      <td>0</td>\n",
       "      <td>0</td>\n",
       "      <td>0</td>\n",
       "      <td>0</td>\n",
       "      <td>1</td>\n",
       "      <td>0</td>\n",
       "    </tr>\n",
       "    <tr>\n",
       "      <th>157</th>\n",
       "      <td>0</td>\n",
       "      <td>0</td>\n",
       "      <td>0</td>\n",
       "      <td>0</td>\n",
       "      <td>1</td>\n",
       "      <td>0</td>\n",
       "    </tr>\n",
       "    <tr>\n",
       "      <th>158</th>\n",
       "      <td>0</td>\n",
       "      <td>0</td>\n",
       "      <td>0</td>\n",
       "      <td>0</td>\n",
       "      <td>1</td>\n",
       "      <td>0</td>\n",
       "    </tr>\n",
       "  </tbody>\n",
       "</table>\n",
       "<p>159 rows × 6 columns</p>\n",
       "</div>"
      ],
      "text/plain": [
       "     Parkki  Perch  Pike  Roach  Smelt  Whitefish\n",
       "0         0      0     0      0      0          0\n",
       "1         0      0     0      0      0          0\n",
       "2         0      0     0      0      0          0\n",
       "3         0      0     0      0      0          0\n",
       "4         0      0     0      0      0          0\n",
       "..      ...    ...   ...    ...    ...        ...\n",
       "154       0      0     0      0      1          0\n",
       "155       0      0     0      0      1          0\n",
       "156       0      0     0      0      1          0\n",
       "157       0      0     0      0      1          0\n",
       "158       0      0     0      0      1          0\n",
       "\n",
       "[159 rows x 6 columns]"
      ]
     },
     "execution_count": 9,
     "metadata": {},
     "output_type": "execute_result"
    }
   ],
   "source": [
    "pd.get_dummies(my_df.Species, drop_first=True)"
   ]
  },
  {
   "cell_type": "code",
   "execution_count": 10,
   "id": "c3afc28a",
   "metadata": {},
   "outputs": [],
   "source": [
    "dummies = pd.get_dummies(my_df.Species, drop_first=True)"
   ]
  },
  {
   "cell_type": "code",
   "execution_count": 11,
   "id": "b922bf94",
   "metadata": {},
   "outputs": [],
   "source": [
    "my_df = pd.concat([my_df, dummies], axis=1)"
   ]
  },
  {
   "cell_type": "code",
   "execution_count": 12,
   "id": "fa540086",
   "metadata": {},
   "outputs": [
    {
     "data": {
      "text/html": [
       "<div>\n",
       "<style scoped>\n",
       "    .dataframe tbody tr th:only-of-type {\n",
       "        vertical-align: middle;\n",
       "    }\n",
       "\n",
       "    .dataframe tbody tr th {\n",
       "        vertical-align: top;\n",
       "    }\n",
       "\n",
       "    .dataframe thead th {\n",
       "        text-align: right;\n",
       "    }\n",
       "</style>\n",
       "<table border=\"1\" class=\"dataframe\">\n",
       "  <thead>\n",
       "    <tr style=\"text-align: right;\">\n",
       "      <th></th>\n",
       "      <th>Species</th>\n",
       "      <th>Weight</th>\n",
       "      <th>Length1</th>\n",
       "      <th>Length2</th>\n",
       "      <th>Length3</th>\n",
       "      <th>Height</th>\n",
       "      <th>Width</th>\n",
       "      <th>Parkki</th>\n",
       "      <th>Perch</th>\n",
       "      <th>Pike</th>\n",
       "      <th>Roach</th>\n",
       "      <th>Smelt</th>\n",
       "      <th>Whitefish</th>\n",
       "    </tr>\n",
       "  </thead>\n",
       "  <tbody>\n",
       "    <tr>\n",
       "      <th>0</th>\n",
       "      <td>Bream</td>\n",
       "      <td>242.0</td>\n",
       "      <td>23.2</td>\n",
       "      <td>25.4</td>\n",
       "      <td>30.0</td>\n",
       "      <td>11.5200</td>\n",
       "      <td>4.0200</td>\n",
       "      <td>0</td>\n",
       "      <td>0</td>\n",
       "      <td>0</td>\n",
       "      <td>0</td>\n",
       "      <td>0</td>\n",
       "      <td>0</td>\n",
       "    </tr>\n",
       "    <tr>\n",
       "      <th>1</th>\n",
       "      <td>Bream</td>\n",
       "      <td>290.0</td>\n",
       "      <td>24.0</td>\n",
       "      <td>26.3</td>\n",
       "      <td>31.2</td>\n",
       "      <td>12.4800</td>\n",
       "      <td>4.3056</td>\n",
       "      <td>0</td>\n",
       "      <td>0</td>\n",
       "      <td>0</td>\n",
       "      <td>0</td>\n",
       "      <td>0</td>\n",
       "      <td>0</td>\n",
       "    </tr>\n",
       "    <tr>\n",
       "      <th>2</th>\n",
       "      <td>Bream</td>\n",
       "      <td>340.0</td>\n",
       "      <td>23.9</td>\n",
       "      <td>26.5</td>\n",
       "      <td>31.1</td>\n",
       "      <td>12.3778</td>\n",
       "      <td>4.6961</td>\n",
       "      <td>0</td>\n",
       "      <td>0</td>\n",
       "      <td>0</td>\n",
       "      <td>0</td>\n",
       "      <td>0</td>\n",
       "      <td>0</td>\n",
       "    </tr>\n",
       "    <tr>\n",
       "      <th>3</th>\n",
       "      <td>Bream</td>\n",
       "      <td>363.0</td>\n",
       "      <td>26.3</td>\n",
       "      <td>29.0</td>\n",
       "      <td>33.5</td>\n",
       "      <td>12.7300</td>\n",
       "      <td>4.4555</td>\n",
       "      <td>0</td>\n",
       "      <td>0</td>\n",
       "      <td>0</td>\n",
       "      <td>0</td>\n",
       "      <td>0</td>\n",
       "      <td>0</td>\n",
       "    </tr>\n",
       "    <tr>\n",
       "      <th>4</th>\n",
       "      <td>Bream</td>\n",
       "      <td>430.0</td>\n",
       "      <td>26.5</td>\n",
       "      <td>29.0</td>\n",
       "      <td>34.0</td>\n",
       "      <td>12.4440</td>\n",
       "      <td>5.1340</td>\n",
       "      <td>0</td>\n",
       "      <td>0</td>\n",
       "      <td>0</td>\n",
       "      <td>0</td>\n",
       "      <td>0</td>\n",
       "      <td>0</td>\n",
       "    </tr>\n",
       "  </tbody>\n",
       "</table>\n",
       "</div>"
      ],
      "text/plain": [
       "  Species  Weight  Length1  Length2  Length3   Height   Width  Parkki  Perch  \\\n",
       "0   Bream   242.0     23.2     25.4     30.0  11.5200  4.0200       0      0   \n",
       "1   Bream   290.0     24.0     26.3     31.2  12.4800  4.3056       0      0   \n",
       "2   Bream   340.0     23.9     26.5     31.1  12.3778  4.6961       0      0   \n",
       "3   Bream   363.0     26.3     29.0     33.5  12.7300  4.4555       0      0   \n",
       "4   Bream   430.0     26.5     29.0     34.0  12.4440  5.1340       0      0   \n",
       "\n",
       "   Pike  Roach  Smelt  Whitefish  \n",
       "0     0      0      0          0  \n",
       "1     0      0      0          0  \n",
       "2     0      0      0          0  \n",
       "3     0      0      0          0  \n",
       "4     0      0      0          0  "
      ]
     },
     "execution_count": 12,
     "metadata": {},
     "output_type": "execute_result"
    }
   ],
   "source": [
    "my_df.head()"
   ]
  },
  {
   "cell_type": "markdown",
   "id": "29ff1749",
   "metadata": {},
   "source": [
    "We don't need column Species any more, can drop it"
   ]
  },
  {
   "cell_type": "code",
   "execution_count": 13,
   "id": "465df547",
   "metadata": {},
   "outputs": [],
   "source": [
    "del my_df[\"Species\"]"
   ]
  },
  {
   "cell_type": "markdown",
   "id": "8aeed412",
   "metadata": {},
   "source": [
    "Notice that length1, length2, length3 aren't descriptive, thus we should rename the column name with better names"
   ]
  },
  {
   "cell_type": "code",
   "execution_count": 14,
   "id": "42e66841",
   "metadata": {},
   "outputs": [],
   "source": [
    "my_df.rename({'Length1': 'vertical_length', 'Length2': 'diagnol_length', 'Length3': 'cross_length'}, axis=1, inplace=True)"
   ]
  },
  {
   "cell_type": "markdown",
   "id": "09b66280",
   "metadata": {},
   "source": [
    "### The first simple linear regression"
   ]
  },
  {
   "cell_type": "markdown",
   "id": "956b41f5",
   "metadata": {},
   "source": [
    "Let's start off with a simple linear regression to understand the idea behind of a linear regression"
   ]
  },
  {
   "cell_type": "markdown",
   "id": "9072fd4b",
   "metadata": {},
   "source": [
    "A simple linear regression only uses one feature to predict or explain the variable of interest y"
   ]
  },
  {
   "cell_type": "markdown",
   "id": "1c703ee6",
   "metadata": {},
   "source": [
    "Intuitively, \"height\" and \"weight\" often correlates. We are going to create a model that helps predict the fish weights using their heights "
   ]
  },
  {
   "cell_type": "markdown",
   "id": "d7fe6473",
   "metadata": {},
   "source": [
    "#### Scatter plot"
   ]
  },
  {
   "cell_type": "code",
   "execution_count": 15,
   "id": "49d5440e",
   "metadata": {},
   "outputs": [
    {
     "data": {
      "image/png": "[encoded data removed]",
      "text/plain": [
       "<Figure size 432x288 with 1 Axes>"
      ]
     },
     "metadata": {},
     "output_type": "display_data"
    }
   ],
   "source": [
    "plt.figure(figsize=(6,4))\n",
    "plt.scatter(my_df.Height, my_df.Weight)\n",
    "plt.xlabel('Height (cm)')\n",
    "plt.ylabel('Weight (g)')\n",
    "plt.show()"
   ]
  },
  {
   "cell_type": "markdown",
   "id": "d8620dbd",
   "metadata": {},
   "source": [
    "Let's create a line of \"best fit\": WEIGHT = c + coef * HEIGHT\\\n",
    "In other words, find the best constant \"c\" and the best coefficient \"coef\" that can fit as many data points as possible"
   ]
  },
  {
   "cell_type": "markdown",
   "id": "9ad219bc",
   "metadata": {},
   "source": [
    "#### Using statsmodel to build our first model"
   ]
  },
  {
   "cell_type": "markdown",
   "id": "bdde6e7a",
   "metadata": {},
   "source": [
    "Extract features to use in the prediction. In our case, only use one feature \"HEIGHT\" to predict \"WEIGHT\""
   ]
  },
  {
   "cell_type": "code",
   "execution_count": 16,
   "id": "8084c62c",
   "metadata": {},
   "outputs": [],
   "source": [
    "x1 = my_df.Height\n"
   ]
  },
  {
   "cell_type": "code",
   "execution_count": 17,
   "id": "810100c3",
   "metadata": {},
   "outputs": [],
   "source": [
    "y = my_df.Weight"
   ]
  },
  {
   "cell_type": "markdown",
   "id": "0939a1d1",
   "metadata": {},
   "source": [
    "Remember the constant c that we also want to predict, beside the coef for the Height? We also need to tell statsmodel to include the constant into our model"
   ]
  },
  {
   "cell_type": "code",
   "execution_count": 18,
   "id": "4699ebc6",
   "metadata": {},
   "outputs": [],
   "source": [
    "x = sa.add_constant(x1)"
   ]
  },
  {
   "cell_type": "markdown",
   "id": "a6c58004",
   "metadata": {},
   "source": [
    "Set up the model and fit the line"
   ]
  },
  {
   "cell_type": "code",
   "execution_count": 19,
   "id": "f0a1f8a9",
   "metadata": {},
   "outputs": [],
   "source": [
    "simple_model = sa.OLS(y, x)\n",
    "simple_model_result = simple_model.fit()"
   ]
  },
  {
   "cell_type": "markdown",
   "id": "7ff4c602",
   "metadata": {},
   "source": [
    "DONE!!! We got our first simple model. Lets visualize our line of best fit"
   ]
  },
  {
   "cell_type": "markdown",
   "id": "77e4a1d7",
   "metadata": {},
   "source": [
    "#### The line of best fit"
   ]
  },
  {
   "cell_type": "code",
   "execution_count": 20,
   "id": "9ae6180e",
   "metadata": {},
   "outputs": [
    {
     "data": {
      "text/plain": [
       "const    -144.385971\n",
       "Height     60.496351\n",
       "dtype: float64"
      ]
     },
     "execution_count": 20,
     "metadata": {},
     "output_type": "execute_result"
    }
   ],
   "source": [
    "simple_model_result.params"
   ]
  },
  {
   "cell_type": "markdown",
   "id": "f7061a05",
   "metadata": {},
   "source": [
    "Our model is: WEIGHT = -144.385971 + 60.496351 * HEIGHT"
   ]
  },
  {
   "cell_type": "code",
   "execution_count": 21,
   "id": "7f8cc6bb",
   "metadata": {},
   "outputs": [],
   "source": [
    "yhat = -144.385971 + 60.496351 * x1"
   ]
  },
  {
   "cell_type": "markdown",
   "id": "7ab3ba0b",
   "metadata": {},
   "source": [
    "Lets draw the prediction line"
   ]
  },
  {
   "cell_type": "code",
   "execution_count": 22,
   "id": "1c10793f",
   "metadata": {},
   "outputs": [
    {
     "data": {
      "image/png": "[encoded data removed]",
      "text/plain": [
       "<Figure size 432x288 with 1 Axes>"
      ]
     },
     "metadata": {},
     "output_type": "display_data"
    }
   ],
   "source": [
    "plt.plot(x1, yhat, c=\"orange\")\n",
    "plt.show()"
   ]
  },
  {
   "cell_type": "markdown",
   "id": "8efe4cd4",
   "metadata": {},
   "source": [
    "Now the line with the actual data points"
   ]
  },
  {
   "cell_type": "code",
   "execution_count": 24,
   "id": "9eabea45",
   "metadata": {},
   "outputs": [
    {
     "data": {
      "image/png": "[encoded data removed]",
      "text/plain": [
       "<Figure size 432x288 with 1 Axes>"
      ]
     },
     "metadata": {},
     "output_type": "display_data"
    }
   ],
   "source": [
    "plt.figure(figsize=(6,4))\n",
    "plt.scatter(x1, y) # draw the actual data points\n",
    "plt.plot(x1, yhat, c=\"orange\") # draw the line of best fit\n",
    "plt.xlabel('Height (cm)')\n",
    "plt.ylabel('Weight (g)')\n",
    "plt.show()\n"
   ]
  },
  {
   "cell_type": "markdown",
   "id": "25b8a55e",
   "metadata": {},
   "source": [
    "We have not done yet!!! Lets interpret our model's result and its performance using the summary that statsmodel provide"
   ]
  },
  {
   "cell_type": "code",
   "execution_count": 25,
   "id": "5a24d946",
   "metadata": {},
   "outputs": [
    {
     "data": {
      "text/html": [
       "<table class=\"simpletable\">\n",
       "<caption>OLS Regression Results</caption>\n",
       "<tr>\n",
       "  <th>Dep. Variable:</th>         <td>Weight</td>      <th>  R-squared:         </th> <td>   0.525</td>\n",
       "</tr>\n",
       "<tr>\n",
       "  <th>Model:</th>                   <td>OLS</td>       <th>  Adj. R-squared:    </th> <td>   0.522</td>\n",
       "</tr>\n",
       "<tr>\n",
       "  <th>Method:</th>             <td>Least Squares</td>  <th>  F-statistic:       </th> <td>   173.3</td>\n",
       "</tr>\n",
       "<tr>\n",
       "  <th>Date:</th>             <td>Fri, 07 Oct 2022</td> <th>  Prob (F-statistic):</th> <td>3.84e-27</td>\n",
       "</tr>\n",
       "<tr>\n",
       "  <th>Time:</th>                 <td>15:22:21</td>     <th>  Log-Likelihood:    </th> <td> -1101.0</td>\n",
       "</tr>\n",
       "<tr>\n",
       "  <th>No. Observations:</th>      <td>   159</td>      <th>  AIC:               </th> <td>   2206.</td>\n",
       "</tr>\n",
       "<tr>\n",
       "  <th>Df Residuals:</th>          <td>   157</td>      <th>  BIC:               </th> <td>   2212.</td>\n",
       "</tr>\n",
       "<tr>\n",
       "  <th>Df Model:</th>              <td>     1</td>      <th>                     </th>     <td> </td>   \n",
       "</tr>\n",
       "<tr>\n",
       "  <th>Covariance Type:</th>      <td>nonrobust</td>    <th>                     </th>     <td> </td>   \n",
       "</tr>\n",
       "</table>\n",
       "<table class=\"simpletable\">\n",
       "<tr>\n",
       "     <td></td>       <th>coef</th>     <th>std err</th>      <th>t</th>      <th>P>|t|</th>  <th>[0.025</th>    <th>0.975]</th>  \n",
       "</tr>\n",
       "<tr>\n",
       "  <th>const</th>  <td> -144.3860</td> <td>   45.663</td> <td>   -3.162</td> <td> 0.002</td> <td> -234.579</td> <td>  -54.193</td>\n",
       "</tr>\n",
       "<tr>\n",
       "  <th>Height</th> <td>   60.4964</td> <td>    4.595</td> <td>   13.164</td> <td> 0.000</td> <td>   51.419</td> <td>   69.573</td>\n",
       "</tr>\n",
       "</table>\n",
       "<table class=\"simpletable\">\n",
       "<tr>\n",
       "  <th>Omnibus:</th>       <td>95.711</td> <th>  Durbin-Watson:     </th> <td>   0.279</td> \n",
       "</tr>\n",
       "<tr>\n",
       "  <th>Prob(Omnibus):</th> <td> 0.000</td> <th>  Jarque-Bera (JB):  </th> <td> 482.586</td> \n",
       "</tr>\n",
       "<tr>\n",
       "  <th>Skew:</th>          <td> 2.288</td> <th>  Prob(JB):          </th> <td>1.61e-105</td>\n",
       "</tr>\n",
       "<tr>\n",
       "  <th>Kurtosis:</th>      <td>10.204</td> <th>  Cond. No.          </th> <td>    23.3</td> \n",
       "</tr>\n",
       "</table><br/><br/>Notes:<br/>[1] Standard Errors assume that the covariance matrix of the errors is correctly specified."
      ],
      "text/plain": [
       "<class 'statsmodels.iolib.summary.Summary'>\n",
       "\"\"\"\n",
       "                            OLS Regression Results                            \n",
       "==============================================================================\n",
       "Dep. Variable:                 Weight   R-squared:                       0.525\n",
       "Model:                            OLS   Adj. R-squared:                  0.522\n",
       "Method:                 Least Squares   F-statistic:                     173.3\n",
       "Date:                Fri, 07 Oct 2022   Prob (F-statistic):           3.84e-27\n",
       "Time:                        15:22:21   Log-Likelihood:                -1101.0\n",
       "No. Observations:                 159   AIC:                             2206.\n",
       "Df Residuals:                     157   BIC:                             2212.\n",
       "Df Model:                           1                                         \n",
       "Covariance Type:            nonrobust                                         \n",
       "==============================================================================\n",
       "                 coef    std err          t      P>|t|      [0.025      0.975]\n",
       "------------------------------------------------------------------------------\n",
       "const       -144.3860     45.663     -3.162      0.002    -234.579     -54.193\n",
       "Height        60.4964      4.595     13.164      0.000      51.419      69.573\n",
       "==============================================================================\n",
       "Omnibus:                       95.711   Durbin-Watson:                   0.279\n",
       "Prob(Omnibus):                  0.000   Jarque-Bera (JB):              482.586\n",
       "Skew:                           2.288   Prob(JB):                    1.61e-105\n",
       "Kurtosis:                      10.204   Cond. No.                         23.3\n",
       "==============================================================================\n",
       "\n",
       "Notes:\n",
       "[1] Standard Errors assume that the covariance matrix of the errors is correctly specified.\n",
       "\"\"\""
      ]
     },
     "execution_count": 25,
     "metadata": {},
     "output_type": "execute_result"
    }
   ],
   "source": [
    "simple_model_result.summary()"
   ]
  },
  {
   "cell_type": "markdown",
   "id": "2a6c1530",
   "metadata": {},
   "source": [
    "##### Coefficient"
   ]
  },
  {
   "cell_type": "markdown",
   "id": "d1476113",
   "metadata": {},
   "source": [
    "Since the model tries to explain the WEIGHT using only one variable HEIGHT, we got one coefficient for the constant and one coefficient for HEIGHT\n",
    "* coef for const = -144.3860\n",
    "* coef for Height = 60.4964  "
   ]
  },
  {
   "cell_type": "markdown",
   "id": "b039aa8f",
   "metadata": {},
   "source": [
    "How to intepret that? One cm increase in Height result in 60.4964 gram increase in Weight"
   ]
  },
  {
   "cell_type": "markdown",
   "id": "ddd159f1",
   "metadata": {},
   "source": [
    "##### P values"
   ]
  },
  {
   "cell_type": "markdown",
   "id": "59b5fbd7",
   "metadata": {},
   "source": [
    "H0: the coefficient isn't significant, coef=0\\\n",
    "H1: the coefficient is significant, coef <> 0"
   ]
  },
  {
   "cell_type": "markdown",
   "id": "4ca335dd",
   "metadata": {},
   "source": [
    "* P_const = 0.002: means that if H0 is true, the likelihood of obtainning such data is 0.2% (too small, so contradict) Thus, we are able to reject H0. The predicted coefficient for constant term in our model is significant, or in other words, it has predictive power\n",
    "* P_Height = 0.00: means that if H0 is true, the likelihood of obtainning such data is  0. We are able to reject null hypothesis. The predicted coefficient for Height is also significant in predicting the Weight"
   ]
  },
  {
   "cell_type": "markdown",
   "id": "b00b0cdb",
   "metadata": {},
   "source": [
    "##### R_squared"
   ]
  },
  {
   "cell_type": "markdown",
   "id": "388864bd",
   "metadata": {},
   "source": [
    "R_squared is the amount of variability in the dependent variable y that is explained by the model "
   ]
  },
  {
   "cell_type": "markdown",
   "id": "700bbc67",
   "metadata": {},
   "source": [
    "R_squared = 0.525 means that our model of using single Height to predict can explain 52.5% of the variability in Weight, which is very good."
   ]
  },
  {
   "cell_type": "markdown",
   "id": "2772efa7",
   "metadata": {},
   "source": [
    "### End-to-end development of an multivariate linear regression model"
   ]
  },
  {
   "cell_type": "markdown",
   "id": "87dce5cf",
   "metadata": {},
   "source": [
    "Above, we only use one factor to predict. More features added often make our model have more predictive power. Sometimes, it is not the case, adding an irrelevant feature can worsen our model though. Following we will use all of the factors or features that we have to predict WEIGHT. Also, in order to building a good model, there are some additional steps that have not been mentioned, but will be carried out here."
   ]
  },
  {
   "cell_type": "markdown",
   "id": "4cebcd81",
   "metadata": {},
   "source": [
    "A model of n features or n independent variables looks something like this:\\\n",
    "yhat = B0 + B1 x1 + B2 x2 + B3 x3 + ... + Bn xn + e\n",
    "* yhat is the value we attempt to predict\n",
    "* B0 is the constant term\n",
    "* B1, B2, B3, ... is the coefficient, the amount of increase (if positive coef) or decrease (if negative coef) in the yhat as the value of associated independent variable increase one unit\n",
    "* e: is called residual, is the potential error, something that will not explained by our model"
   ]
  },
  {
   "cell_type": "markdown",
   "id": "680d010a",
   "metadata": {},
   "source": [
    "#### Weight distribution"
   ]
  },
  {
   "cell_type": "markdown",
   "id": "1495aad1",
   "metadata": {},
   "source": [
    "Since data can have outliers (those that distance away from other observations), they aren't good for our model. We can try to remove them"
   ]
  },
  {
   "cell_type": "code",
   "execution_count": 2,
   "id": "fb1ac4f5",
   "metadata": {},
   "outputs": [
    {
     "ename": "NameError",
     "evalue": "name 'plt' is not defined",
     "output_type": "error",
     "traceback": [
      "\u001b[1;31m---------------------------------------------------------------------------\u001b[0m",
      "\u001b[1;31mNameError\u001b[0m                                 Traceback (most recent call last)",
      "Input \u001b[1;32mIn [2]\u001b[0m, in \u001b[0;36m<cell line: 1>\u001b[1;34m()\u001b[0m\n\u001b[1;32m----> 1\u001b[0m \u001b[43mplt\u001b[49m\u001b[38;5;241m.\u001b[39mhist(my_df[my_df\u001b[38;5;241m.\u001b[39mWeight]\u001b[38;5;241m.\u001b[39mWeight)\n\u001b[0;32m      2\u001b[0m plt\u001b[38;5;241m.\u001b[39mtitle(\u001b[38;5;124m'\u001b[39m\u001b[38;5;124mDistribution of Weights\u001b[39m\u001b[38;5;124m'\u001b[39m, size\u001b[38;5;241m=\u001b[39m\u001b[38;5;241m20\u001b[39m)\n\u001b[0;32m      3\u001b[0m plt\u001b[38;5;241m.\u001b[39mylabel(\u001b[38;5;124m'\u001b[39m\u001b[38;5;124mCount\u001b[39m\u001b[38;5;124m'\u001b[39m)\n",
      "\u001b[1;31mNameError\u001b[0m: name 'plt' is not defined"
     ]
    }
   ],
   "source": [
    "plt.hist(my_df[my_df.Weight<q].Weight)\n",
    "plt.title('Distribution of Weights', size=20)\n",
    "plt.ylabel('Count')\n",
    "plt.xlabel('Weight (g)')\n",
    "plt.show()"
   ]
  },
  {
   "cell_type": "code",
   "execution_count": 100,
   "id": "2d5598fe",
   "metadata": {},
   "outputs": [
    {
     "name": "stderr",
     "output_type": "stream",
     "text": [
      "C:\\Users\\Tuyen\\anaconda3\\lib\\site-packages\\seaborn\\distributions.py:2619: FutureWarning: `distplot` is a deprecated function and will be removed in a future version. Please adapt your code to use either `displot` (a figure-level function with similar flexibility) or `histplot` (an axes-level function for histograms).\n",
      "  warnings.warn(msg, FutureWarning)\n"
     ]
    },
    {
     "data": {
      "text/plain": [
       "<AxesSubplot:xlabel='Weight', ylabel='Density'>"
      ]
     },
     "execution_count": 100,
     "metadata": {},
     "output_type": "execute_result"
    },
    {
     "data": {
      "image/png": "[encoded data removed]",
      "text/plain": [
       "<Figure size 432x288 with 1 Axes>"
      ]
     },
     "metadata": {},
     "output_type": "display_data"
    }
   ],
   "source": [
    "sns.distplot(my_df[my_df.Weight<q].Weight)"
   ]
  },
  {
   "cell_type": "code",
   "execution_count": 89,
   "id": "77bd9c7a",
   "metadata": {},
   "outputs": [],
   "source": [
    "import scipy.stats\n",
    "import pylab"
   ]
  },
  {
   "cell_type": "code",
   "execution_count": 97,
   "id": "551676fa",
   "metadata": {},
   "outputs": [
    {
     "data": {
      "text/plain": [
       "[]"
      ]
     },
     "execution_count": 97,
     "metadata": {},
     "output_type": "execute_result"
    },
    {
     "data": {
      "image/png": "[encoded data removed]",
      "text/plain": [
       "<Figure size 432x288 with 1 Axes>"
      ]
     },
     "metadata": {},
     "output_type": "display_data"
    }
   ],
   "source": [
    "scipy.stats.probplot(my_df[my_df.Weight<q].Weight, plot=pylab)\n",
    "pylab.plot()"
   ]
  },
  {
   "cell_type": "markdown",
   "id": "b8fd603d",
   "metadata": {},
   "source": [
    "#### Check assumption"
   ]
  },
  {
   "cell_type": "markdown",
   "id": "b7ac328d",
   "metadata": {},
   "source": [
    "##### Linearity"
   ]
  },
  {
   "cell_type": "markdown",
   "id": "60321ce5",
   "metadata": {},
   "source": [
    "Since our model tries to draw a line that best fit our data points, the indepedent variable and depedent variable should have a linear relationship"
   ]
  },
  {
   "cell_type": "code",
   "execution_count": 30,
   "id": "4a0ede8e",
   "metadata": {},
   "outputs": [
    {
     "data": {
      "image/png": "[encoded data removed]",
      "text/plain": [
       "<Figure size 1440x360 with 6 Axes>"
      ]
     },
     "metadata": {},
     "output_type": "display_data"
    }
   ],
   "source": [
    "fig, ax = plt.subplots(nrows=2, ncols=3, figsize=(20,5))\n",
    "\n",
    "for i,var in enumerate(['vertical_length', 'diagnol_length', 'cross_length', 'Height', 'Width']):\n",
    "    r,c = int(i/3), i%3\n",
    "    ax[r,c].scatter(my_df[var], my_df.Weight)\n",
    "    ax[r,c].set_ylabel('Weight')\n",
    "    ax[r,c].set_xlabel(var)\n",
    "    "
   ]
  },
  {
   "cell_type": "code",
   "execution_count": 32,
   "id": "c46dd05c",
   "metadata": {},
   "outputs": [
    {
     "data": {
      "text/plain": [
       "vertical_length    0.890173\n",
       "diagnol_length     0.894415\n",
       "cross_length       0.902576\n",
       "Height             0.815237\n",
       "Width              0.925664\n",
       "Name: Weight, dtype: float64"
      ]
     },
     "execution_count": 32,
     "metadata": {},
     "output_type": "execute_result"
    }
   ],
   "source": [
    "my_df.corr()['Weight'][1:6]"
   ]
  },
  {
   "cell_type": "markdown",
   "id": "88177cc2",
   "metadata": {},
   "source": [
    "##### Multicollinearity using Variance Inflation Factor"
   ]
  },
  {
   "cell_type": "markdown",
   "id": "5e28e73c",
   "metadata": {},
   "source": [
    "* Muticollinearity happens when independent variables highly correlates with one another. This results in the model hardly discern the effect of each independent variable on the dependent variable\n",
    "* Multicollinearity does not influence the predictive power of the model, but with multicollinearity, the coefficient or the relationship that we interpret between one dependent variable and the dependent variable is no longer correct. "
   ]
  },
  {
   "cell_type": "code",
   "execution_count": 35,
   "id": "f259791e",
   "metadata": {},
   "outputs": [],
   "source": [
    "from statsmodels.stats.outliers_influence import variance_inflation_factor"
   ]
  },
  {
   "cell_type": "code",
   "execution_count": 36,
   "id": "30f4940d",
   "metadata": {},
   "outputs": [],
   "source": [
    "def compute_vif(variables):\n",
    "    \"\"\"\n",
    "    variables: variables that we want to check for collinearity (pd.DataFrame)\n",
    "    \"\"\"\n",
    "    vif = pd.DataFrame()\n",
    "    vif['VIF'] = [variance_inflation_factor(variables, i) for i in range(variables.shape[1])]\n",
    "    vif['feature'] = variables.columns\n",
    "    return vif"
   ]
  },
  {
   "cell_type": "code",
   "execution_count": 37,
   "id": "4e55ec1d",
   "metadata": {},
   "outputs": [],
   "source": [
    "variables = my_df[['vertical_length', 'diagnol_length', 'cross_length', 'Height', 'Width']]\n",
    "vif = compute_vif(variables)"
   ]
  },
  {
   "cell_type": "code",
   "execution_count": 38,
   "id": "2004d841",
   "metadata": {},
   "outputs": [
    {
     "data": {
      "text/html": [
       "<div>\n",
       "<style scoped>\n",
       "    .dataframe tbody tr th:only-of-type {\n",
       "        vertical-align: middle;\n",
       "    }\n",
       "\n",
       "    .dataframe tbody tr th {\n",
       "        vertical-align: top;\n",
       "    }\n",
       "\n",
       "    .dataframe thead th {\n",
       "        text-align: right;\n",
       "    }\n",
       "</style>\n",
       "<table border=\"1\" class=\"dataframe\">\n",
       "  <thead>\n",
       "    <tr style=\"text-align: right;\">\n",
       "      <th></th>\n",
       "      <th>VIF</th>\n",
       "      <th>feature</th>\n",
       "    </tr>\n",
       "  </thead>\n",
       "  <tbody>\n",
       "    <tr>\n",
       "      <th>0</th>\n",
       "      <td>11640.943653</td>\n",
       "      <td>vertical_length</td>\n",
       "    </tr>\n",
       "    <tr>\n",
       "      <th>1</th>\n",
       "      <td>15183.972890</td>\n",
       "      <td>diagnol_length</td>\n",
       "    </tr>\n",
       "    <tr>\n",
       "      <th>2</th>\n",
       "      <td>3093.805839</td>\n",
       "      <td>cross_length</td>\n",
       "    </tr>\n",
       "    <tr>\n",
       "      <th>3</th>\n",
       "      <td>75.546906</td>\n",
       "      <td>Height</td>\n",
       "    </tr>\n",
       "    <tr>\n",
       "      <th>4</th>\n",
       "      <td>96.285071</td>\n",
       "      <td>Width</td>\n",
       "    </tr>\n",
       "  </tbody>\n",
       "</table>\n",
       "</div>"
      ],
      "text/plain": [
       "            VIF          feature\n",
       "0  11640.943653  vertical_length\n",
       "1  15183.972890   diagnol_length\n",
       "2   3093.805839     cross_length\n",
       "3     75.546906           Height\n",
       "4     96.285071            Width"
      ]
     },
     "execution_count": 38,
     "metadata": {},
     "output_type": "execute_result"
    }
   ],
   "source": [
    "vif"
   ]
  },
  {
   "cell_type": "markdown",
   "id": "5b4210b3",
   "metadata": {},
   "source": [
    "VIF>5 indicates strong multicollinearity. Intuitively, this occurs since these features have the main effect on the WEIGHT. The remedy of the problem is to sum the three types of length together.\n"
   ]
  },
  {
   "cell_type": "code",
   "execution_count": 52,
   "id": "3dfea643",
   "metadata": {},
   "outputs": [
    {
     "data": {
      "text/html": [
       "<div>\n",
       "<style scoped>\n",
       "    .dataframe tbody tr th:only-of-type {\n",
       "        vertical-align: middle;\n",
       "    }\n",
       "\n",
       "    .dataframe tbody tr th {\n",
       "        vertical-align: top;\n",
       "    }\n",
       "\n",
       "    .dataframe thead th {\n",
       "        text-align: right;\n",
       "    }\n",
       "</style>\n",
       "<table border=\"1\" class=\"dataframe\">\n",
       "  <thead>\n",
       "    <tr style=\"text-align: right;\">\n",
       "      <th></th>\n",
       "      <th>Weight</th>\n",
       "      <th>vertical_length</th>\n",
       "      <th>diagnol_length</th>\n",
       "      <th>cross_length</th>\n",
       "      <th>Height</th>\n",
       "      <th>Width</th>\n",
       "      <th>Parkki</th>\n",
       "      <th>Perch</th>\n",
       "      <th>Pike</th>\n",
       "      <th>Roach</th>\n",
       "      <th>Smelt</th>\n",
       "      <th>Whitefish</th>\n",
       "      <th>length</th>\n",
       "    </tr>\n",
       "  </thead>\n",
       "  <tbody>\n",
       "    <tr>\n",
       "      <th>0</th>\n",
       "      <td>242.0</td>\n",
       "      <td>23.2</td>\n",
       "      <td>25.4</td>\n",
       "      <td>30.0</td>\n",
       "      <td>11.5200</td>\n",
       "      <td>4.0200</td>\n",
       "      <td>0</td>\n",
       "      <td>0</td>\n",
       "      <td>0</td>\n",
       "      <td>0</td>\n",
       "      <td>0</td>\n",
       "      <td>0</td>\n",
       "      <td>83.2</td>\n",
       "    </tr>\n",
       "    <tr>\n",
       "      <th>1</th>\n",
       "      <td>290.0</td>\n",
       "      <td>24.0</td>\n",
       "      <td>26.3</td>\n",
       "      <td>31.2</td>\n",
       "      <td>12.4800</td>\n",
       "      <td>4.3056</td>\n",
       "      <td>0</td>\n",
       "      <td>0</td>\n",
       "      <td>0</td>\n",
       "      <td>0</td>\n",
       "      <td>0</td>\n",
       "      <td>0</td>\n",
       "      <td>86.4</td>\n",
       "    </tr>\n",
       "    <tr>\n",
       "      <th>2</th>\n",
       "      <td>340.0</td>\n",
       "      <td>23.9</td>\n",
       "      <td>26.5</td>\n",
       "      <td>31.1</td>\n",
       "      <td>12.3778</td>\n",
       "      <td>4.6961</td>\n",
       "      <td>0</td>\n",
       "      <td>0</td>\n",
       "      <td>0</td>\n",
       "      <td>0</td>\n",
       "      <td>0</td>\n",
       "      <td>0</td>\n",
       "      <td>86.1</td>\n",
       "    </tr>\n",
       "    <tr>\n",
       "      <th>3</th>\n",
       "      <td>363.0</td>\n",
       "      <td>26.3</td>\n",
       "      <td>29.0</td>\n",
       "      <td>33.5</td>\n",
       "      <td>12.7300</td>\n",
       "      <td>4.4555</td>\n",
       "      <td>0</td>\n",
       "      <td>0</td>\n",
       "      <td>0</td>\n",
       "      <td>0</td>\n",
       "      <td>0</td>\n",
       "      <td>0</td>\n",
       "      <td>93.3</td>\n",
       "    </tr>\n",
       "    <tr>\n",
       "      <th>4</th>\n",
       "      <td>430.0</td>\n",
       "      <td>26.5</td>\n",
       "      <td>29.0</td>\n",
       "      <td>34.0</td>\n",
       "      <td>12.4440</td>\n",
       "      <td>5.1340</td>\n",
       "      <td>0</td>\n",
       "      <td>0</td>\n",
       "      <td>0</td>\n",
       "      <td>0</td>\n",
       "      <td>0</td>\n",
       "      <td>0</td>\n",
       "      <td>94.5</td>\n",
       "    </tr>\n",
       "  </tbody>\n",
       "</table>\n",
       "</div>"
      ],
      "text/plain": [
       "   Weight  vertical_length  diagnol_length  cross_length   Height   Width  \\\n",
       "0   242.0             23.2            25.4          30.0  11.5200  4.0200   \n",
       "1   290.0             24.0            26.3          31.2  12.4800  4.3056   \n",
       "2   340.0             23.9            26.5          31.1  12.3778  4.6961   \n",
       "3   363.0             26.3            29.0          33.5  12.7300  4.4555   \n",
       "4   430.0             26.5            29.0          34.0  12.4440  5.1340   \n",
       "\n",
       "   Parkki  Perch  Pike  Roach  Smelt  Whitefish  length  \n",
       "0       0      0     0      0      0          0    83.2  \n",
       "1       0      0     0      0      0          0    86.4  \n",
       "2       0      0     0      0      0          0    86.1  \n",
       "3       0      0     0      0      0          0    93.3  \n",
       "4       0      0     0      0      0          0    94.5  "
      ]
     },
     "execution_count": 52,
     "metadata": {},
     "output_type": "execute_result"
    }
   ],
   "source": [
    "my_df['length'] = my_df.vertical_length + my_df.cross_length + my_df.cross_length\n",
    "my_df.head()"
   ]
  },
  {
   "cell_type": "code",
   "execution_count": 54,
   "id": "6d7f33a4",
   "metadata": {},
   "outputs": [
    {
     "data": {
      "text/html": [
       "<div>\n",
       "<style scoped>\n",
       "    .dataframe tbody tr th:only-of-type {\n",
       "        vertical-align: middle;\n",
       "    }\n",
       "\n",
       "    .dataframe tbody tr th {\n",
       "        vertical-align: top;\n",
       "    }\n",
       "\n",
       "    .dataframe thead th {\n",
       "        text-align: right;\n",
       "    }\n",
       "</style>\n",
       "<table border=\"1\" class=\"dataframe\">\n",
       "  <thead>\n",
       "    <tr style=\"text-align: right;\">\n",
       "      <th></th>\n",
       "      <th>VIF</th>\n",
       "      <th>feature</th>\n",
       "    </tr>\n",
       "  </thead>\n",
       "  <tbody>\n",
       "    <tr>\n",
       "      <th>0</th>\n",
       "      <td>41.070297</td>\n",
       "      <td>length</td>\n",
       "    </tr>\n",
       "    <tr>\n",
       "      <th>1</th>\n",
       "      <td>14.953017</td>\n",
       "      <td>Height</td>\n",
       "    </tr>\n",
       "    <tr>\n",
       "      <th>2</th>\n",
       "      <td>51.478421</td>\n",
       "      <td>Width</td>\n",
       "    </tr>\n",
       "  </tbody>\n",
       "</table>\n",
       "</div>"
      ],
      "text/plain": [
       "         VIF feature\n",
       "0  41.070297  length\n",
       "1  14.953017  Height\n",
       "2  51.478421   Width"
      ]
     },
     "execution_count": 54,
     "metadata": {},
     "output_type": "execute_result"
    }
   ],
   "source": [
    "variables = my_df[['length', 'Height', 'Width']]\n",
    "compute_vif(variables)"
   ]
  },
  {
   "cell_type": "code",
   "execution_count": 55,
   "id": "0080a6a3",
   "metadata": {},
   "outputs": [
    {
     "data": {
      "text/html": [
       "<div>\n",
       "<style scoped>\n",
       "    .dataframe tbody tr th:only-of-type {\n",
       "        vertical-align: middle;\n",
       "    }\n",
       "\n",
       "    .dataframe tbody tr th {\n",
       "        vertical-align: top;\n",
       "    }\n",
       "\n",
       "    .dataframe thead th {\n",
       "        text-align: right;\n",
       "    }\n",
       "</style>\n",
       "<table border=\"1\" class=\"dataframe\">\n",
       "  <thead>\n",
       "    <tr style=\"text-align: right;\">\n",
       "      <th></th>\n",
       "      <th>Weight</th>\n",
       "      <th>vertical_length</th>\n",
       "      <th>diagnol_length</th>\n",
       "      <th>cross_length</th>\n",
       "      <th>Height</th>\n",
       "      <th>Width</th>\n",
       "      <th>Parkki</th>\n",
       "      <th>Perch</th>\n",
       "      <th>Pike</th>\n",
       "      <th>Roach</th>\n",
       "      <th>Smelt</th>\n",
       "      <th>Whitefish</th>\n",
       "      <th>length</th>\n",
       "    </tr>\n",
       "  </thead>\n",
       "  <tbody>\n",
       "    <tr>\n",
       "      <th>count</th>\n",
       "      <td>155.000000</td>\n",
       "      <td>155.000000</td>\n",
       "      <td>155.000000</td>\n",
       "      <td>155.000000</td>\n",
       "      <td>155.000000</td>\n",
       "      <td>155.000000</td>\n",
       "      <td>155.000000</td>\n",
       "      <td>155.000000</td>\n",
       "      <td>155.000000</td>\n",
       "      <td>155.000000</td>\n",
       "      <td>155.000000</td>\n",
       "      <td>155.000000</td>\n",
       "      <td>155.000000</td>\n",
       "    </tr>\n",
       "    <tr>\n",
       "      <th>mean</th>\n",
       "      <td>369.573548</td>\n",
       "      <td>25.485806</td>\n",
       "      <td>27.604516</td>\n",
       "      <td>30.383226</td>\n",
       "      <td>8.939934</td>\n",
       "      <td>4.358886</td>\n",
       "      <td>0.070968</td>\n",
       "      <td>0.361290</td>\n",
       "      <td>0.083871</td>\n",
       "      <td>0.129032</td>\n",
       "      <td>0.090323</td>\n",
       "      <td>0.038710</td>\n",
       "      <td>86.252258</td>\n",
       "    </tr>\n",
       "    <tr>\n",
       "      <th>std</th>\n",
       "      <td>312.685376</td>\n",
       "      <td>8.897865</td>\n",
       "      <td>9.555969</td>\n",
       "      <td>10.468442</td>\n",
       "      <td>4.336074</td>\n",
       "      <td>1.664295</td>\n",
       "      <td>0.257603</td>\n",
       "      <td>0.481932</td>\n",
       "      <td>0.278093</td>\n",
       "      <td>0.336322</td>\n",
       "      <td>0.287573</td>\n",
       "      <td>0.193527</td>\n",
       "      <td>29.773522</td>\n",
       "    </tr>\n",
       "    <tr>\n",
       "      <th>min</th>\n",
       "      <td>0.000000</td>\n",
       "      <td>7.500000</td>\n",
       "      <td>8.400000</td>\n",
       "      <td>8.800000</td>\n",
       "      <td>1.728400</td>\n",
       "      <td>1.047600</td>\n",
       "      <td>0.000000</td>\n",
       "      <td>0.000000</td>\n",
       "      <td>0.000000</td>\n",
       "      <td>0.000000</td>\n",
       "      <td>0.000000</td>\n",
       "      <td>0.000000</td>\n",
       "      <td>25.100000</td>\n",
       "    </tr>\n",
       "    <tr>\n",
       "      <th>25%</th>\n",
       "      <td>120.000000</td>\n",
       "      <td>19.000000</td>\n",
       "      <td>21.000000</td>\n",
       "      <td>22.950000</td>\n",
       "      <td>5.926950</td>\n",
       "      <td>3.363600</td>\n",
       "      <td>0.000000</td>\n",
       "      <td>0.000000</td>\n",
       "      <td>0.000000</td>\n",
       "      <td>0.000000</td>\n",
       "      <td>0.000000</td>\n",
       "      <td>0.000000</td>\n",
       "      <td>65.100000</td>\n",
       "    </tr>\n",
       "    <tr>\n",
       "      <th>50%</th>\n",
       "      <td>270.000000</td>\n",
       "      <td>25.000000</td>\n",
       "      <td>26.500000</td>\n",
       "      <td>29.200000</td>\n",
       "      <td>7.615600</td>\n",
       "      <td>4.239000</td>\n",
       "      <td>0.000000</td>\n",
       "      <td>0.000000</td>\n",
       "      <td>0.000000</td>\n",
       "      <td>0.000000</td>\n",
       "      <td>0.000000</td>\n",
       "      <td>0.000000</td>\n",
       "      <td>83.200000</td>\n",
       "    </tr>\n",
       "    <tr>\n",
       "      <th>75%</th>\n",
       "      <td>605.000000</td>\n",
       "      <td>32.000000</td>\n",
       "      <td>35.000000</td>\n",
       "      <td>39.350000</td>\n",
       "      <td>12.379300</td>\n",
       "      <td>5.373200</td>\n",
       "      <td>0.000000</td>\n",
       "      <td>1.000000</td>\n",
       "      <td>0.000000</td>\n",
       "      <td>0.000000</td>\n",
       "      <td>0.000000</td>\n",
       "      <td>0.000000</td>\n",
       "      <td>111.450000</td>\n",
       "    </tr>\n",
       "    <tr>\n",
       "      <th>max</th>\n",
       "      <td>1100.000000</td>\n",
       "      <td>48.300000</td>\n",
       "      <td>51.700000</td>\n",
       "      <td>55.100000</td>\n",
       "      <td>18.957000</td>\n",
       "      <td>8.142000</td>\n",
       "      <td>1.000000</td>\n",
       "      <td>1.000000</td>\n",
       "      <td>1.000000</td>\n",
       "      <td>1.000000</td>\n",
       "      <td>1.000000</td>\n",
       "      <td>1.000000</td>\n",
       "      <td>158.500000</td>\n",
       "    </tr>\n",
       "  </tbody>\n",
       "</table>\n",
       "</div>"
      ],
      "text/plain": [
       "            Weight  vertical_length  diagnol_length  cross_length      Height  \\\n",
       "count   155.000000       155.000000      155.000000    155.000000  155.000000   \n",
       "mean    369.573548        25.485806       27.604516     30.383226    8.939934   \n",
       "std     312.685376         8.897865        9.555969     10.468442    4.336074   \n",
       "min       0.000000         7.500000        8.400000      8.800000    1.728400   \n",
       "25%     120.000000        19.000000       21.000000     22.950000    5.926950   \n",
       "50%     270.000000        25.000000       26.500000     29.200000    7.615600   \n",
       "75%     605.000000        32.000000       35.000000     39.350000   12.379300   \n",
       "max    1100.000000        48.300000       51.700000     55.100000   18.957000   \n",
       "\n",
       "            Width      Parkki       Perch        Pike       Roach       Smelt  \\\n",
       "count  155.000000  155.000000  155.000000  155.000000  155.000000  155.000000   \n",
       "mean     4.358886    0.070968    0.361290    0.083871    0.129032    0.090323   \n",
       "std      1.664295    0.257603    0.481932    0.278093    0.336322    0.287573   \n",
       "min      1.047600    0.000000    0.000000    0.000000    0.000000    0.000000   \n",
       "25%      3.363600    0.000000    0.000000    0.000000    0.000000    0.000000   \n",
       "50%      4.239000    0.000000    0.000000    0.000000    0.000000    0.000000   \n",
       "75%      5.373200    0.000000    1.000000    0.000000    0.000000    0.000000   \n",
       "max      8.142000    1.000000    1.000000    1.000000    1.000000    1.000000   \n",
       "\n",
       "        Whitefish      length  \n",
       "count  155.000000  155.000000  \n",
       "mean     0.038710   86.252258  \n",
       "std      0.193527   29.773522  \n",
       "min      0.000000   25.100000  \n",
       "25%      0.000000   65.100000  \n",
       "50%      0.000000   83.200000  \n",
       "75%      0.000000  111.450000  \n",
       "max      1.000000  158.500000  "
      ]
     },
     "execution_count": 55,
     "metadata": {},
     "output_type": "execute_result"
    }
   ],
   "source": [
    "my_df.describe()"
   ]
  },
  {
   "cell_type": "markdown",
   "id": "2746031a",
   "metadata": {},
   "source": [
    "Then, we will standardize the data to somehow remove the collinearity in the data"
   ]
  },
  {
   "cell_type": "markdown",
   "id": "bcb8fa0e",
   "metadata": {},
   "source": [
    "#### Standardize data"
   ]
  },
  {
   "cell_type": "markdown",
   "id": "2f887f3b",
   "metadata": {},
   "source": [
    "Standardization or normalization is the process of subtracting the value from the mean and divides by the standard deviation"
   ]
  },
  {
   "cell_type": "markdown",
   "id": "f62657d0",
   "metadata": {},
   "source": [
    "Standardization has two benefits here:\n",
    "* Remove collinearity\n",
    "* Allow compare features with the same magnitude impact (which feature has more impact on the dependent variable?)"
   ]
  },
  {
   "cell_type": "code",
   "execution_count": 56,
   "id": "33aee90d",
   "metadata": {},
   "outputs": [],
   "source": [
    "from sklearn.preprocessing import StandardScaler"
   ]
  },
  {
   "cell_type": "code",
   "execution_count": 57,
   "id": "4b994007",
   "metadata": {},
   "outputs": [],
   "source": [
    "scaler = StandardScaler()"
   ]
  },
  {
   "cell_type": "code",
   "execution_count": 58,
   "id": "e89e19cc",
   "metadata": {},
   "outputs": [
    {
     "data": {
      "text/plain": [
       "StandardScaler()"
      ]
     },
     "execution_count": 58,
     "metadata": {},
     "output_type": "execute_result"
    }
   ],
   "source": [
    "scaler.fit(variables) # for each column, it finds the mean and the standard deviation"
   ]
  },
  {
   "cell_type": "code",
   "execution_count": 59,
   "id": "6b308610",
   "metadata": {},
   "outputs": [],
   "source": [
    "scaled_variables = scaler.transform(variables) # subtract each value from its column mean and divide by its column std"
   ]
  },
  {
   "cell_type": "code",
   "execution_count": 60,
   "id": "3a810c69",
   "metadata": {},
   "outputs": [
    {
     "data": {
      "text/plain": [
       "array([[-1.02848158e-01,  5.96952416e-01, -2.04281295e-01],\n",
       "       [ 4.97827696e-03,  8.19068524e-01, -3.21208305e-02],\n",
       "       [-5.13045136e-03,  7.95422413e-01,  2.03273642e-01],\n",
       "       [ 2.37479028e-01,  8.76911260e-01,  5.82393012e-02],\n",
       "       [ 2.77913942e-01,  8.10739170e-01,  4.67240965e-01],\n",
       "       [ 3.35196735e-01,  1.07875927e+00,  3.42701917e-01],\n",
       "       [ 3.21718431e-01,  1.21228345e+00,  5.54345962e-01],\n",
       "       [ 3.82370801e-01,  8.63029004e-01,  1.99596545e-01],\n",
       "       [ 3.89109953e-01,  1.17188608e+00,  2.92307608e-01],\n",
       "       [ 4.93566812e-01,  1.22318102e+00,  3.61991605e-01],\n",
       "       [ 4.90197236e-01,  1.23155665e+00,  4.49277443e-01],\n",
       "       [ 5.00305965e-01,  1.25668353e+00,  2.74705768e-01],\n",
       "       [ 5.27262573e-01,  1.11503824e+00,  5.49406090e-03],\n",
       "       [ 6.01393248e-01,  1.15059995e+00,  4.30349437e-01],\n",
       "       [ 5.91284519e-01,  1.39157279e+00,  4.89424106e-01],\n",
       "       [ 5.91284519e-01,  1.50346378e+00,  7.36090990e-01],\n",
       "       [ 6.99110955e-01,  1.36982392e+00,  5.58505301e-01],\n",
       "       [ 7.12589259e-01,  1.38777831e+00,  5.05518939e-01],\n",
       "       [ 7.36176292e-01,  1.54858112e+00,  4.67120404e-01],\n",
       "       [ 7.46285020e-01,  1.28037592e+00,  8.25064675e-01],\n",
       "       [ 8.10306966e-01,  1.43185447e+00,  7.29761561e-01],\n",
       "       [ 7.93459086e-01,  1.63201348e+00,  6.09743534e-01],\n",
       "       [ 8.30524423e-01,  1.52306090e+00,  5.55310446e-01],\n",
       "       [ 9.01285521e-01,  1.51054373e+00,  1.06799418e+00],\n",
       "       [ 8.97915945e-01,  1.68913897e+00,  7.41516214e-01],\n",
       "       [ 9.21502978e-01,  1.71678779e+00,  1.02133725e+00],\n",
       "       [ 9.08024673e-01,  1.71720426e+00,  1.04352039e+00],\n",
       "       [ 9.92264076e-01,  1.75311303e+00,  8.99751935e-01],\n",
       "       [ 1.00237280e+00,  1.83932185e+00,  1.10886421e+00],\n",
       "       [ 1.09335136e+00,  2.31765814e+00,  1.35275820e+00],\n",
       "       [ 1.24498228e+00,  2.10477373e+00,  1.17390662e+00],\n",
       "       [ 1.23824313e+00,  2.11567131e+00,  1.16528655e+00],\n",
       "       [ 1.36628702e+00,  2.27073611e+00,  1.44118936e+00],\n",
       "       [ 1.44715685e+00,  2.24324924e+00,  1.43974264e+00],\n",
       "       [ 1.50780922e+00,  2.00912498e+00,  1.21260656e+00],\n",
       "       [-1.37991750e+00, -1.10889929e+00, -1.26039171e+00],\n",
       "       [-9.82307522e-01, -8.42568199e-01, -9.26619826e-01],\n",
       "       [-8.87959391e-01, -7.78409036e-01, -8.76768039e-01],\n",
       "       [-7.96980836e-01, -7.68922827e-01, -7.13890737e-01],\n",
       "       [-7.83502532e-01, -6.30239082e-01, -4.73010759e-01],\n",
       "       [-7.29589314e-01, -5.70267733e-01, -6.07194651e-01],\n",
       "       [-7.06002281e-01, -6.41414299e-01, -5.80611050e-01],\n",
       "       [-6.55458640e-01, -6.53700096e-01, -6.41735248e-01],\n",
       "       [-5.54371357e-01, -7.25448226e-01, -3.64385704e-01],\n",
       "       [-5.77958389e-01, -5.33549164e-01, -4.88924752e-01],\n",
       "       [-5.10566867e-01, -4.41116471e-01, -3.24661003e-01],\n",
       "       [-5.13936443e-01, -5.52961186e-01, -6.23229204e-01],\n",
       "       [-5.10566867e-01, -5.87666828e-01, -3.36897899e-01],\n",
       "       [-3.31979334e-01, -3.25199627e-01, -3.15679242e-01],\n",
       "       [-3.65675095e-01, -4.68441379e-01, -4.38651003e-01],\n",
       "       [-3.55566366e-01, -3.57036269e-01, -1.39660840e-01],\n",
       "       [-2.30892050e-01, -4.28807536e-01, -2.73000808e-01],\n",
       "       [-1.29804767e-01, -1.46072688e-02,  8.31350547e-02],\n",
       "       [-1.76087526e-03, -8.60546169e-02,  2.49990855e-01],\n",
       "       [ 4.46392747e-01,  1.26112541e-01,  6.00460372e-01],\n",
       "       [-1.76978833e-01, -1.29459806e-01, -6.70833898e-02],\n",
       "       [-1.19696039e-01, -1.83831979e-01, -6.65408673e-02],\n",
       "       [ 3.19348858e-02, -3.74667183e-02,  1.94533002e-01],\n",
       "       [ 3.45305464e-01,  4.17408562e-01,  1.32804329e+00],\n",
       "       [ 8.97915945e-01,  6.52759088e-01,  1.33503580e+00],\n",
       "       [ 1.28204762e+00,  7.89915785e-01,  1.30573959e+00],\n",
       "       [-1.33948259e+00, -4.84128330e-01, -1.22512775e+00],\n",
       "       [-1.25187361e+00, -5.46667896e-01, -1.23254222e+00],\n",
       "       [-1.02274244e+00, -3.55092753e-01, -1.01625659e+00],\n",
       "       [-8.81220239e-01, -1.26729629e-01, -8.68509641e-01],\n",
       "       [-7.76763380e-01, -1.09053337e-02, -6.42639452e-01],\n",
       "       [-7.02632705e-01, -9.30882937e-02, -6.41674968e-01],\n",
       "       [-7.02632705e-01,  1.05520526e-01, -5.71749849e-01],\n",
       "       [-6.15023727e-01,  1.84279196e-01, -7.24439785e-01],\n",
       "       [-4.53284074e-01,  3.25276651e-01, -4.19120194e-01],\n",
       "       [-2.44370355e-01,  4.97000167e-01, -1.29533754e-01],\n",
       "       [-1.43283072e-01,  5.61784032e-01, -7.52815071e-02],\n",
       "       [-2.06057188e+00, -1.57978544e+00, -1.77880207e+00],\n",
       "       [-1.49448309e+00, -1.25216418e+00, -1.42242509e+00],\n",
       "       [-1.36306962e+00, -1.18367838e+00, -1.16153206e+00],\n",
       "       [-1.24176488e+00, -1.00589295e+00, -1.04121263e+00],\n",
       "       [-1.13056887e+00, -1.00691098e+00, -8.54404057e-01],\n",
       "       [-1.06654692e+00, -8.60129254e-01, -6.25278733e-01],\n",
       "       [-1.03285116e+00, -8.65497060e-01, -7.44754237e-01],\n",
       "       [-9.65459642e-01, -7.64480505e-01, -7.88879398e-01],\n",
       "       [-9.04807272e-01, -8.79749510e-01, -7.96956955e-01],\n",
       "       [-8.77850663e-01, -8.92613735e-01, -9.56579123e-01],\n",
       "       [-7.49806771e-01, -7.51361772e-01, -4.84584572e-01],\n",
       "       [-7.49806771e-01, -6.99303309e-01, -6.33778252e-01],\n",
       "       [-7.49806771e-01, -7.51361772e-01, -4.16769263e-01],\n",
       "       [-7.19480586e-01, -5.91368763e-01, -4.97243430e-01],\n",
       "       [-6.48719488e-01, -6.54764402e-01, -5.73497977e-01],\n",
       "       [-6.48719488e-01, -7.63508747e-01, -5.02668654e-01],\n",
       "       [-6.48719488e-01, -6.54764402e-01, -5.02668654e-01],\n",
       "       [-6.48719488e-01, -7.09136574e-01, -5.02668654e-01],\n",
       "       [-6.48719488e-01, -7.90694833e-01, -2.19351364e-01],\n",
       "       [-5.98175846e-01, -7.13532622e-01, -4.42991183e-01],\n",
       "       [-5.98175846e-01, -4.96969417e-01, -4.42991183e-01],\n",
       "       [-5.77958389e-01, -6.91043366e-01, -4.39374366e-01],\n",
       "       [-5.47632204e-01, -8.61031601e-01, -4.41785577e-01],\n",
       "       [-4.97088563e-01, -6.16588196e-01, -3.82108105e-01],\n",
       "       [-4.46544921e-01, -3.81052573e-01, -3.83313711e-01],\n",
       "       [-4.46544921e-01, -5.93451101e-01, -3.21827830e-01],\n",
       "       [-3.79153399e-01, -5.10527754e-01, -1.16392654e-01],\n",
       "       [-3.45457638e-01, -5.78527675e-01, -4.07124419e-01],\n",
       "       [-2.94913997e-01, -5.50416106e-01, -7.22674934e-02],\n",
       "       [-1.76978833e-01, -4.09973941e-01, -1.29533754e-01],\n",
       "       [-1.23065615e-01, -1.42740499e-01,  4.69230214e-01],\n",
       "       [-1.02848158e-01, -4.10159038e-01, -1.43984297e-02],\n",
       "       [-1.02848158e-01, -4.36905519e-01, -1.43984297e-02],\n",
       "       [-1.02848158e-01, -3.83412557e-01,  1.24969565e-01],\n",
       "       [-5.23045169e-02, -2.59027536e-01, -9.32450290e-02],\n",
       "       [ 2.85653097e-02, -3.13445983e-01,  1.66683515e-01],\n",
       "       [ 1.59978778e-01, -3.06412306e-01,  2.48785249e-01],\n",
       "       [ 4.12696986e-01,  2.52209706e-01,  1.00011859e+00],\n",
       "       [ 6.31719433e-01,  3.04615225e-01,  1.22285421e+00],\n",
       "       [ 7.02480531e-01,  5.89641094e-01,  2.07172104e+00],\n",
       "       [ 8.67589760e-01,  4.49106381e-01,  1.51008972e+00],\n",
       "       [ 8.20415695e-01,  3.86196621e-01,  1.43582442e+00],\n",
       "       [ 9.11394250e-01,  4.38463318e-01,  1.14876975e+00],\n",
       "       [ 9.08024673e-01,  3.77543348e-01,  1.21025563e+00],\n",
       "       [ 1.11356882e+00,  5.08244795e-01,  1.88949376e+00],\n",
       "       [ 1.11356882e+00,  5.08244795e-01,  9.91076551e-01],\n",
       "       [ 1.11019924e+00,  8.07800759e-01,  1.80389577e+00],\n",
       "       [ 1.18769949e+00,  6.91490584e-01,  1.65620910e+00],\n",
       "       [ 1.20454737e+00,  6.45540314e-01,  1.72770151e+00],\n",
       "       [ 1.19780822e+00,  7.96116526e-01,  1.87080688e+00],\n",
       "       [ 1.20791695e+00,  5.07874601e-01,  1.36903387e+00],\n",
       "       [ 1.41346109e+00,  8.93153501e-01,  1.51274205e+00],\n",
       "       [ 1.48085261e+00,  6.92462342e-01,  1.75916781e+00],\n",
       "       [ 1.51117880e+00,  8.26588080e-01,  1.84313823e+00],\n",
       "       [ 1.54824413e+00,  8.47758521e-01,  2.28047163e+00],\n",
       "       [ 1.61900523e+00,  8.21104588e-01,  1.95122077e+00],\n",
       "       [ 4.49762323e-01, -7.80167455e-01, -5.92727385e-01],\n",
       "       [ 7.09219683e-01, -7.47821797e-01, -1.21094516e-01],\n",
       "       [ 8.10306966e-01, -6.94930398e-01,  1.53800259e-02],\n",
       "       [ 9.48459587e-01, -6.13487825e-01, -2.04401855e-01],\n",
       "       [ 1.01922068e+00, -3.81746686e-01,  1.31178434e-01],\n",
       "       [ 1.06976433e+00, -5.88592312e-01, -2.30201813e-01],\n",
       "       [ 1.50780922e+00, -3.84060395e-01, -2.19334641e-02],\n",
       "       [ 1.50780922e+00, -4.89334176e-01,  6.03491108e-02],\n",
       "       [ 1.53139625e+00, -2.66986697e-01,  4.64588633e-01],\n",
       "       [ 1.74367955e+00, -4.58099098e-01,  3.23773911e-01],\n",
       "       [ 1.83128853e+00, -2.65598471e-01,  3.08101040e-01],\n",
       "       [ 2.05368055e+00, -2.91512017e-01,  6.13119229e-01],\n",
       "       [ 2.43444265e+00, -3.17754408e-03,  1.09246797e+00],\n",
       "       [-1.86513646e+00, -1.66613308e+00, -1.99605218e+00],\n",
       "       [-1.78763621e+00, -1.61217738e+00, -1.92829715e+00],\n",
       "       [-1.78426664e+00, -1.66853934e+00, -1.93528966e+00],\n",
       "       [-1.74720130e+00, -1.56035028e+00, -1.79568055e+00],\n",
       "       [-1.71013596e+00, -1.58644893e+00, -1.85764867e+00],\n",
       "       [-1.69328808e+00, -1.61074288e+00, -1.85282625e+00],\n",
       "       [-1.64274444e+00, -1.55620874e+00, -1.85367017e+00],\n",
       "       [-1.64274444e+00, -1.55620874e+00, -1.92474061e+00],\n",
       "       [-1.63263571e+00, -1.55840677e+00, -1.93528966e+00],\n",
       "       [-1.61578783e+00, -1.58478306e+00, -1.78748243e+00],\n",
       "       [-1.60230953e+00, -1.50620948e+00, -1.86259165e+00],\n",
       "       [-1.56861376e+00, -1.54160924e+00, -1.87054865e+00],\n",
       "       [-1.43720030e+00, -1.40375843e+00, -1.38143450e+00],\n",
       "       [-1.34959132e+00, -1.39001499e+00, -1.49476141e+00]])"
      ]
     },
     "execution_count": 60,
     "metadata": {},
     "output_type": "execute_result"
    }
   ],
   "source": [
    "scaled_variables"
   ]
  },
  {
   "cell_type": "markdown",
   "id": "0413cac9",
   "metadata": {},
   "source": [
    "Lets test multicollinearity with our scaled variables"
   ]
  },
  {
   "cell_type": "code",
   "execution_count": 61,
   "id": "4fb8a44a",
   "metadata": {},
   "outputs": [
    {
     "data": {
      "text/html": [
       "<div>\n",
       "<style scoped>\n",
       "    .dataframe tbody tr th:only-of-type {\n",
       "        vertical-align: middle;\n",
       "    }\n",
       "\n",
       "    .dataframe tbody tr th {\n",
       "        vertical-align: top;\n",
       "    }\n",
       "\n",
       "    .dataframe thead th {\n",
       "        text-align: right;\n",
       "    }\n",
       "</style>\n",
       "<table border=\"1\" class=\"dataframe\">\n",
       "  <thead>\n",
       "    <tr style=\"text-align: right;\">\n",
       "      <th></th>\n",
       "      <th>VIF</th>\n",
       "      <th>feature</th>\n",
       "    </tr>\n",
       "  </thead>\n",
       "  <tbody>\n",
       "    <tr>\n",
       "      <th>0</th>\n",
       "      <td>5.212943</td>\n",
       "      <td>length</td>\n",
       "    </tr>\n",
       "    <tr>\n",
       "      <th>1</th>\n",
       "      <td>2.843335</td>\n",
       "      <td>Height</td>\n",
       "    </tr>\n",
       "    <tr>\n",
       "      <th>2</th>\n",
       "      <td>6.522966</td>\n",
       "      <td>Width</td>\n",
       "    </tr>\n",
       "  </tbody>\n",
       "</table>\n",
       "</div>"
      ],
      "text/plain": [
       "        VIF feature\n",
       "0  5.212943  length\n",
       "1  2.843335  Height\n",
       "2  6.522966   Width"
      ]
     },
     "execution_count": 61,
     "metadata": {},
     "output_type": "execute_result"
    }
   ],
   "source": [
    "compute_vif(pd.DataFrame(scaled_variables, columns=variables.columns))"
   ]
  },
  {
   "cell_type": "markdown",
   "id": "f25fc50b",
   "metadata": {},
   "source": [
    "I guess they are good enough to move on"
   ]
  },
  {
   "cell_type": "code",
   "execution_count": 62,
   "id": "83c97c84",
   "metadata": {},
   "outputs": [],
   "source": [
    "my_df[['scaled_length', 'scaled_height', 'scaled_width']] = scaled_variables"
   ]
  },
  {
   "cell_type": "code",
   "execution_count": 63,
   "id": "22def520",
   "metadata": {},
   "outputs": [
    {
     "data": {
      "text/html": [
       "<div>\n",
       "<style scoped>\n",
       "    .dataframe tbody tr th:only-of-type {\n",
       "        vertical-align: middle;\n",
       "    }\n",
       "\n",
       "    .dataframe tbody tr th {\n",
       "        vertical-align: top;\n",
       "    }\n",
       "\n",
       "    .dataframe thead th {\n",
       "        text-align: right;\n",
       "    }\n",
       "</style>\n",
       "<table border=\"1\" class=\"dataframe\">\n",
       "  <thead>\n",
       "    <tr style=\"text-align: right;\">\n",
       "      <th></th>\n",
       "      <th>Weight</th>\n",
       "      <th>vertical_length</th>\n",
       "      <th>diagnol_length</th>\n",
       "      <th>cross_length</th>\n",
       "      <th>Height</th>\n",
       "      <th>Width</th>\n",
       "      <th>Parkki</th>\n",
       "      <th>Perch</th>\n",
       "      <th>Pike</th>\n",
       "      <th>Roach</th>\n",
       "      <th>Smelt</th>\n",
       "      <th>Whitefish</th>\n",
       "      <th>length</th>\n",
       "      <th>scaled_length</th>\n",
       "      <th>scaled_height</th>\n",
       "      <th>scaled_width</th>\n",
       "    </tr>\n",
       "  </thead>\n",
       "  <tbody>\n",
       "    <tr>\n",
       "      <th>0</th>\n",
       "      <td>242.0</td>\n",
       "      <td>23.2</td>\n",
       "      <td>25.4</td>\n",
       "      <td>30.0</td>\n",
       "      <td>11.5200</td>\n",
       "      <td>4.0200</td>\n",
       "      <td>0</td>\n",
       "      <td>0</td>\n",
       "      <td>0</td>\n",
       "      <td>0</td>\n",
       "      <td>0</td>\n",
       "      <td>0</td>\n",
       "      <td>83.2</td>\n",
       "      <td>-0.102848</td>\n",
       "      <td>0.596952</td>\n",
       "      <td>-0.204281</td>\n",
       "    </tr>\n",
       "    <tr>\n",
       "      <th>1</th>\n",
       "      <td>290.0</td>\n",
       "      <td>24.0</td>\n",
       "      <td>26.3</td>\n",
       "      <td>31.2</td>\n",
       "      <td>12.4800</td>\n",
       "      <td>4.3056</td>\n",
       "      <td>0</td>\n",
       "      <td>0</td>\n",
       "      <td>0</td>\n",
       "      <td>0</td>\n",
       "      <td>0</td>\n",
       "      <td>0</td>\n",
       "      <td>86.4</td>\n",
       "      <td>0.004978</td>\n",
       "      <td>0.819069</td>\n",
       "      <td>-0.032121</td>\n",
       "    </tr>\n",
       "    <tr>\n",
       "      <th>2</th>\n",
       "      <td>340.0</td>\n",
       "      <td>23.9</td>\n",
       "      <td>26.5</td>\n",
       "      <td>31.1</td>\n",
       "      <td>12.3778</td>\n",
       "      <td>4.6961</td>\n",
       "      <td>0</td>\n",
       "      <td>0</td>\n",
       "      <td>0</td>\n",
       "      <td>0</td>\n",
       "      <td>0</td>\n",
       "      <td>0</td>\n",
       "      <td>86.1</td>\n",
       "      <td>-0.005130</td>\n",
       "      <td>0.795422</td>\n",
       "      <td>0.203274</td>\n",
       "    </tr>\n",
       "    <tr>\n",
       "      <th>3</th>\n",
       "      <td>363.0</td>\n",
       "      <td>26.3</td>\n",
       "      <td>29.0</td>\n",
       "      <td>33.5</td>\n",
       "      <td>12.7300</td>\n",
       "      <td>4.4555</td>\n",
       "      <td>0</td>\n",
       "      <td>0</td>\n",
       "      <td>0</td>\n",
       "      <td>0</td>\n",
       "      <td>0</td>\n",
       "      <td>0</td>\n",
       "      <td>93.3</td>\n",
       "      <td>0.237479</td>\n",
       "      <td>0.876911</td>\n",
       "      <td>0.058239</td>\n",
       "    </tr>\n",
       "    <tr>\n",
       "      <th>4</th>\n",
       "      <td>430.0</td>\n",
       "      <td>26.5</td>\n",
       "      <td>29.0</td>\n",
       "      <td>34.0</td>\n",
       "      <td>12.4440</td>\n",
       "      <td>5.1340</td>\n",
       "      <td>0</td>\n",
       "      <td>0</td>\n",
       "      <td>0</td>\n",
       "      <td>0</td>\n",
       "      <td>0</td>\n",
       "      <td>0</td>\n",
       "      <td>94.5</td>\n",
       "      <td>0.277914</td>\n",
       "      <td>0.810739</td>\n",
       "      <td>0.467241</td>\n",
       "    </tr>\n",
       "  </tbody>\n",
       "</table>\n",
       "</div>"
      ],
      "text/plain": [
       "   Weight  vertical_length  diagnol_length  cross_length   Height   Width  \\\n",
       "0   242.0             23.2            25.4          30.0  11.5200  4.0200   \n",
       "1   290.0             24.0            26.3          31.2  12.4800  4.3056   \n",
       "2   340.0             23.9            26.5          31.1  12.3778  4.6961   \n",
       "3   363.0             26.3            29.0          33.5  12.7300  4.4555   \n",
       "4   430.0             26.5            29.0          34.0  12.4440  5.1340   \n",
       "\n",
       "   Parkki  Perch  Pike  Roach  Smelt  Whitefish  length  scaled_length  \\\n",
       "0       0      0     0      0      0          0    83.2      -0.102848   \n",
       "1       0      0     0      0      0          0    86.4       0.004978   \n",
       "2       0      0     0      0      0          0    86.1      -0.005130   \n",
       "3       0      0     0      0      0          0    93.3       0.237479   \n",
       "4       0      0     0      0      0          0    94.5       0.277914   \n",
       "\n",
       "   scaled_height  scaled_width  \n",
       "0       0.596952     -0.204281  \n",
       "1       0.819069     -0.032121  \n",
       "2       0.795422      0.203274  \n",
       "3       0.876911      0.058239  \n",
       "4       0.810739      0.467241  "
      ]
     },
     "execution_count": 63,
     "metadata": {},
     "output_type": "execute_result"
    }
   ],
   "source": [
    "my_df.head()"
   ]
  },
  {
   "cell_type": "markdown",
   "id": "bc6255c4",
   "metadata": {},
   "source": [
    "### Train and Test"
   ]
  },
  {
   "cell_type": "markdown",
   "id": "d9b6e059",
   "metadata": {},
   "source": [
    "In machine learning, we often split our data into trainning data and testing data. Besides wanting to test the performance of our model, we want to detect overfitting. \n",
    "* Overfitting happens when the model performs too well on the trainning dataset, it picks up even trivial patterns that have no predictive power to predict the dependent variable of interest. Thus, perform so poorly on the data that it has never seen."
   ]
  },
  {
   "cell_type": "markdown",
   "id": "e227ff26",
   "metadata": {},
   "source": [
    "An usual split is 80% for trainning and 20% for testing. \\\n",
    "Also, we need to randomize the data before splitting it.\n",
    "We will use sklearn library to help us to the split \\\n",
    "But first lets extract the inputs and targets for our model"
   ]
  },
  {
   "cell_type": "markdown",
   "id": "c904dabf",
   "metadata": {},
   "source": [
    "Inputs will contain continuous variables that we have scaled, and also the dummy variables indicating the type of fish"
   ]
  },
  {
   "cell_type": "code",
   "execution_count": 67,
   "id": "047f3938",
   "metadata": {},
   "outputs": [],
   "source": [
    "x = my_df[['scaled_length', 'scaled_height', 'scaled_width', 'Parkki', 'Perch', 'Pike', 'Roach', 'Smelt', 'Whitefish']]"
   ]
  },
  {
   "cell_type": "code",
   "execution_count": 68,
   "id": "3b13516a",
   "metadata": {},
   "outputs": [],
   "source": [
    "y = my_df[['Weight']]"
   ]
  },
  {
   "cell_type": "code",
   "execution_count": 69,
   "id": "89b46b71",
   "metadata": {},
   "outputs": [],
   "source": [
    "from sklearn.model_selection import train_test_split"
   ]
  },
  {
   "cell_type": "code",
   "execution_count": 70,
   "id": "bfce4439",
   "metadata": {},
   "outputs": [],
   "source": [
    "x_train, x_test, y_train, y_test = train_test_split(x, y, train_size=0.8, random_state=2022)"
   ]
  },
  {
   "cell_type": "code",
   "execution_count": 71,
   "id": "c0464dcc",
   "metadata": {},
   "outputs": [
    {
     "name": "stdout",
     "output_type": "stream",
     "text": [
      "124 31 124 31\n"
     ]
    }
   ],
   "source": [
    "print(len(x_train), len(x_test), len(y_train), len(y_test))"
   ]
  },
  {
   "cell_type": "markdown",
   "id": "2ed65539",
   "metadata": {},
   "source": [
    "### Create regression model"
   ]
  },
  {
   "cell_type": "code",
   "execution_count": 124,
   "id": "8bafac7b",
   "metadata": {},
   "outputs": [],
   "source": [
    "x_with_constant = sa.add_constant(x_train)\n",
    "multivariate_reg = sa.OLS(y_train, x_with_constant)\n",
    "multivariate_reg_result = multivariate_reg.fit()"
   ]
  },
  {
   "cell_type": "code",
   "execution_count": 125,
   "id": "afffd3d2",
   "metadata": {},
   "outputs": [
    {
     "data": {
      "text/html": [
       "<table class=\"simpletable\">\n",
       "<caption>OLS Regression Results</caption>\n",
       "<tr>\n",
       "  <th>Dep. Variable:</th>         <td>Weight</td>      <th>  R-squared:         </th> <td>   0.946</td>\n",
       "</tr>\n",
       "<tr>\n",
       "  <th>Model:</th>                   <td>OLS</td>       <th>  Adj. R-squared:    </th> <td>   0.942</td>\n",
       "</tr>\n",
       "<tr>\n",
       "  <th>Method:</th>             <td>Least Squares</td>  <th>  F-statistic:       </th> <td>   223.9</td>\n",
       "</tr>\n",
       "<tr>\n",
       "  <th>Date:</th>             <td>Fri, 07 Oct 2022</td> <th>  Prob (F-statistic):</th> <td>3.94e-68</td>\n",
       "</tr>\n",
       "<tr>\n",
       "  <th>Time:</th>                 <td>17:52:08</td>     <th>  Log-Likelihood:    </th> <td> -704.87</td>\n",
       "</tr>\n",
       "<tr>\n",
       "  <th>No. Observations:</th>      <td>   124</td>      <th>  AIC:               </th> <td>   1430.</td>\n",
       "</tr>\n",
       "<tr>\n",
       "  <th>Df Residuals:</th>          <td>   114</td>      <th>  BIC:               </th> <td>   1458.</td>\n",
       "</tr>\n",
       "<tr>\n",
       "  <th>Df Model:</th>              <td>     9</td>      <th>                     </th>     <td> </td>   \n",
       "</tr>\n",
       "<tr>\n",
       "  <th>Covariance Type:</th>      <td>nonrobust</td>    <th>                     </th>     <td> </td>   \n",
       "</tr>\n",
       "</table>\n",
       "<table class=\"simpletable\">\n",
       "<tr>\n",
       "        <td></td>           <th>coef</th>     <th>std err</th>      <th>t</th>      <th>P>|t|</th>  <th>[0.025</th>    <th>0.975]</th>  \n",
       "</tr>\n",
       "<tr>\n",
       "  <th>const</th>         <td>  177.6705</td> <td>   53.677</td> <td>    3.310</td> <td> 0.001</td> <td>   71.337</td> <td>  284.004</td>\n",
       "</tr>\n",
       "<tr>\n",
       "  <th>scaled_length</th> <td>  111.0133</td> <td>   44.013</td> <td>    2.522</td> <td> 0.013</td> <td>   23.825</td> <td>  198.202</td>\n",
       "</tr>\n",
       "<tr>\n",
       "  <th>scaled_height</th> <td>  211.8613</td> <td>   51.876</td> <td>    4.084</td> <td> 0.000</td> <td>  109.096</td> <td>  314.627</td>\n",
       "</tr>\n",
       "<tr>\n",
       "  <th>scaled_width</th>  <td>   84.7395</td> <td>   40.931</td> <td>    2.070</td> <td> 0.041</td> <td>    3.656</td> <td>  165.823</td>\n",
       "</tr>\n",
       "<tr>\n",
       "  <th>Parkki</th>        <td>  139.7059</td> <td>   44.302</td> <td>    3.153</td> <td> 0.002</td> <td>   51.944</td> <td>  227.468</td>\n",
       "</tr>\n",
       "<tr>\n",
       "  <th>Perch</th>         <td>  232.8660</td> <td>   71.605</td> <td>    3.252</td> <td> 0.002</td> <td>   91.017</td> <td>  374.715</td>\n",
       "</tr>\n",
       "<tr>\n",
       "  <th>Pike</th>          <td>  230.0860</td> <td>  112.661</td> <td>    2.042</td> <td> 0.043</td> <td>    6.905</td> <td>  453.267</td>\n",
       "</tr>\n",
       "<tr>\n",
       "  <th>Roach</th>         <td>  173.4274</td> <td>   66.609</td> <td>    2.604</td> <td> 0.010</td> <td>   41.476</td> <td>  305.379</td>\n",
       "</tr>\n",
       "<tr>\n",
       "  <th>Smelt</th>         <td>  492.3015</td> <td>   78.906</td> <td>    6.239</td> <td> 0.000</td> <td>  335.989</td> <td>  648.614</td>\n",
       "</tr>\n",
       "<tr>\n",
       "  <th>Whitefish</th>     <td>  242.1301</td> <td>   69.307</td> <td>    3.494</td> <td> 0.001</td> <td>  104.833</td> <td>  379.427</td>\n",
       "</tr>\n",
       "</table>\n",
       "<table class=\"simpletable\">\n",
       "<tr>\n",
       "  <th>Omnibus:</th>       <td>33.773</td> <th>  Durbin-Watson:     </th> <td>   2.089</td>\n",
       "</tr>\n",
       "<tr>\n",
       "  <th>Prob(Omnibus):</th> <td> 0.000</td> <th>  Jarque-Bera (JB):  </th> <td>  65.395</td>\n",
       "</tr>\n",
       "<tr>\n",
       "  <th>Skew:</th>          <td> 1.165</td> <th>  Prob(JB):          </th> <td>6.30e-15</td>\n",
       "</tr>\n",
       "<tr>\n",
       "  <th>Kurtosis:</th>      <td> 5.688</td> <th>  Cond. No.          </th> <td>    46.0</td>\n",
       "</tr>\n",
       "</table><br/><br/>Notes:<br/>[1] Standard Errors assume that the covariance matrix of the errors is correctly specified."
      ],
      "text/plain": [
       "<class 'statsmodels.iolib.summary.Summary'>\n",
       "\"\"\"\n",
       "                            OLS Regression Results                            \n",
       "==============================================================================\n",
       "Dep. Variable:                 Weight   R-squared:                       0.946\n",
       "Model:                            OLS   Adj. R-squared:                  0.942\n",
       "Method:                 Least Squares   F-statistic:                     223.9\n",
       "Date:                Fri, 07 Oct 2022   Prob (F-statistic):           3.94e-68\n",
       "Time:                        17:52:08   Log-Likelihood:                -704.87\n",
       "No. Observations:                 124   AIC:                             1430.\n",
       "Df Residuals:                     114   BIC:                             1458.\n",
       "Df Model:                           9                                         \n",
       "Covariance Type:            nonrobust                                         \n",
       "=================================================================================\n",
       "                    coef    std err          t      P>|t|      [0.025      0.975]\n",
       "---------------------------------------------------------------------------------\n",
       "const           177.6705     53.677      3.310      0.001      71.337     284.004\n",
       "scaled_length   111.0133     44.013      2.522      0.013      23.825     198.202\n",
       "scaled_height   211.8613     51.876      4.084      0.000     109.096     314.627\n",
       "scaled_width     84.7395     40.931      2.070      0.041       3.656     165.823\n",
       "Parkki          139.7059     44.302      3.153      0.002      51.944     227.468\n",
       "Perch           232.8660     71.605      3.252      0.002      91.017     374.715\n",
       "Pike            230.0860    112.661      2.042      0.043       6.905     453.267\n",
       "Roach           173.4274     66.609      2.604      0.010      41.476     305.379\n",
       "Smelt           492.3015     78.906      6.239      0.000     335.989     648.614\n",
       "Whitefish       242.1301     69.307      3.494      0.001     104.833     379.427\n",
       "==============================================================================\n",
       "Omnibus:                       33.773   Durbin-Watson:                   2.089\n",
       "Prob(Omnibus):                  0.000   Jarque-Bera (JB):               65.395\n",
       "Skew:                           1.165   Prob(JB):                     6.30e-15\n",
       "Kurtosis:                       5.688   Cond. No.                         46.0\n",
       "==============================================================================\n",
       "\n",
       "Notes:\n",
       "[1] Standard Errors assume that the covariance matrix of the errors is correctly specified.\n",
       "\"\"\""
      ]
     },
     "execution_count": 125,
     "metadata": {},
     "output_type": "execute_result"
    }
   ],
   "source": [
    "multivariate_reg_result.summary()"
   ]
  },
  {
   "cell_type": "markdown",
   "id": "f3d4d75e",
   "metadata": {},
   "source": [
    "Let's interpret this fancy multivariate regression model"
   ]
  },
  {
   "cell_type": "markdown",
   "id": "2b4e6b3a",
   "metadata": {},
   "source": [
    "##### coef"
   ]
  },
  {
   "cell_type": "markdown",
   "id": "56ff10be",
   "metadata": {},
   "source": [
    "* const = 177.6705: we have a fish's weight base line equals to 178.983 gram, which is making sense if we look at the histogram of Weight"
   ]
  },
  {
   "cell_type": "code",
   "execution_count": 84,
   "id": "f783cc01",
   "metadata": {},
   "outputs": [
    {
     "data": {
      "text/plain": [
       "(array([16.,  3.,  3.,  8.,  2., 13., 11.,  6.,  4.,  4.,  1.,  4.,  5.,\n",
       "         9.,  1.,  3.,  1.,  2.,  0.,  2.,  3.,  1.,  5.,  2.,  2.,  2.,\n",
       "         1.,  3.,  1.,  2.,  1.,  8.,  3.,  0.,  0.,  1.,  1.,  2.,  3.,\n",
       "         0.,  2.,  1.,  1.,  3.,  1.,  5.,  1.,  0.,  0.,  2.]),\n",
       " array([   0.,   22.,   44.,   66.,   88.,  110.,  132.,  154.,  176.,\n",
       "         198.,  220.,  242.,  264.,  286.,  308.,  330.,  352.,  374.,\n",
       "         396.,  418.,  440.,  462.,  484.,  506.,  528.,  550.,  572.,\n",
       "         594.,  616.,  638.,  660.,  682.,  704.,  726.,  748.,  770.,\n",
       "         792.,  814.,  836.,  858.,  880.,  902.,  924.,  946.,  968.,\n",
       "         990., 1012., 1034., 1056., 1078., 1100.]),\n",
       " <BarContainer object of 50 artists>)"
      ]
     },
     "execution_count": 84,
     "metadata": {},
     "output_type": "execute_result"
    },
    {
     "data": {
      "image/png": "[encoded data removed]",
      "text/plain": [
       "<Figure size 432x288 with 1 Axes>"
      ]
     },
     "metadata": {},
     "output_type": "display_data"
    }
   ],
   "source": [
    "plt.hist(my_df.Weight, bins=50)"
   ]
  },
  {
   "cell_type": "markdown",
   "id": "6e943910",
   "metadata": {},
   "source": [
    "Since length, height, and width are scaled, we need to interpret their coefficients a little bit different from before\\\n",
    "* scaled_length = 111.0133: an increase of one standard deviation in length (vertical+cross+diagnol) corresponds to an increase of 111.0133 g in weight\n",
    "* scaled_height = 211.8613: an increase of one standard deviation in height corresponds to an increase of 211.8613 g in weight\n",
    "* scaled_width = 84.7395: an increase of one standard deviation in height corresponds to an increase of 84.7395 g in weight\n",
    "* Note: Once scaling the data, we are able to compare the impact of each, length, height, width since they are in the same magnitude. The usefulness of standardization will be more clear when we have independent variables of different units, standardization will allow comparision of impacts between each independent variable on the variable of interest y"
   ]
  },
  {
   "cell_type": "code",
   "execution_count": 131,
   "id": "c4d37aea",
   "metadata": {},
   "outputs": [
    {
     "data": {
      "text/plain": [
       "48.860169180662666"
      ]
     },
     "execution_count": 131,
     "metadata": {},
     "output_type": "execute_result"
    }
   ],
   "source": [
    "211.8613/my_df.Height.std()"
   ]
  },
  {
   "cell_type": "markdown",
   "id": "dde62e36",
   "metadata": {},
   "source": [
    "* One cm increase in Height corresponds to 49g increase in Weight. If we connect to the simple regression model that we get above where coefficient for Height = 60 (one cm increase in Height corresponds to 60 g increase in Weight), it is kinda reasonable. We get smaller coefficient in this second model because now we take into account other factors that can influence fish Weight besides its Height. Before, we put more pressure on Height to try to create the line of best fit to explain our data points. Thus, we will better predict if we can include as many meaningful features in our model as possible"
   ]
  },
  {
   "cell_type": "markdown",
   "id": "9623ee69",
   "metadata": {},
   "source": [
    "##### p_values"
   ]
  },
  {
   "cell_type": "markdown",
   "id": "65e1d9b6",
   "metadata": {},
   "source": [
    "* Almost all coefficients' p-values are less than 5% to be significant or in other words => So it seems that all coefficients significantly contribute to the prediction of our models "
   ]
  },
  {
   "cell_type": "markdown",
   "id": "7c07e04c",
   "metadata": {},
   "source": [
    "#### R-squared: \n",
    "94.6% of fish Weight are explained by our model => Fantastic!!!\n"
   ]
  },
  {
   "cell_type": "markdown",
   "id": "e813b9b4",
   "metadata": {},
   "source": [
    "### More test on our model"
   ]
  },
  {
   "cell_type": "markdown",
   "id": "e659a58b",
   "metadata": {},
   "source": [
    "#### Normality of residuals"
   ]
  },
  {
   "cell_type": "markdown",
   "id": "ff7f2608",
   "metadata": {},
   "source": [
    "One of the assumption when using linear regression is that residuals must follow a normal distribution\\\n",
    "Residual is the difference between prediction value and actual value \\\n",
    "If our model has taken into account all important trends, the residuals resemble whitenoise, random values that have no pattern or trend in it and follow a normal distribution"
   ]
  },
  {
   "cell_type": "markdown",
   "id": "fa66940f",
   "metadata": {},
   "source": [
    "Lets first use the model to make predictions, then calculate the residuals by subtracting the prediction value from the actual value"
   ]
  },
  {
   "cell_type": "code",
   "execution_count": 132,
   "id": "2b15e1af",
   "metadata": {},
   "outputs": [],
   "source": [
    "yhat = multivariate_reg_result.predict(sa.add_constant(x_train))"
   ]
  },
  {
   "cell_type": "code",
   "execution_count": 133,
   "id": "fe936d91",
   "metadata": {},
   "outputs": [
    {
     "name": "stderr",
     "output_type": "stream",
     "text": [
      "C:\\Users\\Tuyen\\anaconda3\\lib\\site-packages\\seaborn\\distributions.py:2619: FutureWarning: `distplot` is a deprecated function and will be removed in a future version. Please adapt your code to use either `displot` (a figure-level function with similar flexibility) or `histplot` (an axes-level function for histograms).\n",
      "  warnings.warn(msg, FutureWarning)\n"
     ]
    },
    {
     "data": {
      "image/png": "[encoded data removed]",
      "text/plain": [
       "<Figure size 432x288 with 1 Axes>"
      ]
     },
     "metadata": {},
     "output_type": "display_data"
    }
   ],
   "source": [
    "residuals = yhat.values-y_train.Weight.values\n",
    "sns.distplot(residuals)\n",
    "plt.title('Residuals Histogram', size=24)\n",
    "plt.show()"
   ]
  },
  {
   "cell_type": "markdown",
   "id": "b63d0a52",
   "metadata": {},
   "source": [
    "We obtain a \"bell curve shape\" line as we would expect for a normal distribution. We can also observe a qq plot. \n",
    "In a qq plot, y axis shows the \"observed value\", in our example it is the Residual, and x axis shows the number of standard deviation of the value from the mean of residuals. For some dataset to be normally distributed, \"observed values\" should line neatly along the red line"
   ]
  },
  {
   "cell_type": "code",
   "execution_count": 134,
   "id": "c8c6cc8a",
   "metadata": {},
   "outputs": [
    {
     "data": {
      "image/png": "[encoded data removed]",
      "text/plain": [
       "<Figure size 432x288 with 1 Axes>"
      ]
     },
     "metadata": {},
     "output_type": "display_data"
    }
   ],
   "source": [
    "scipy.stats.probplot(residuals, plot=pylab)\n",
    "pylab.show()"
   ]
  },
  {
   "cell_type": "markdown",
   "id": "f302375d",
   "metadata": {},
   "source": [
    "#### Feature selections"
   ]
  },
  {
   "cell_type": "code",
   "execution_count": 123,
   "id": "79777ebd",
   "metadata": {},
   "outputs": [],
   "source": [
    "from sklearn.feature_selection import f_regression\n"
   ]
  },
  {
   "cell_type": "code",
   "execution_count": 143,
   "id": "13cf7d0a",
   "metadata": {},
   "outputs": [
    {
     "name": "stderr",
     "output_type": "stream",
     "text": [
      "C:\\Users\\Tuyen\\anaconda3\\lib\\site-packages\\sklearn\\utils\\validation.py:993: DataConversionWarning: A column-vector y was passed when a 1d array was expected. Please change the shape of y to (n_samples, ), for example using ravel().\n",
      "  y = column_or_1d(y, warn=True)\n"
     ]
    },
    {
     "data": {
      "text/plain": [
       "array([0.   , 0.   , 0.   , 0.021, 0.682, 0.309, 0.008, 0.   , 0.162])"
      ]
     },
     "execution_count": 143,
     "metadata": {},
     "output_type": "execute_result"
    }
   ],
   "source": [
    "np.round(f_regression(x_train, y_train)[1], 3)"
   ]
  },
  {
   "cell_type": "code",
   "execution_count": 144,
   "id": "43fcb8e6",
   "metadata": {},
   "outputs": [
    {
     "data": {
      "text/plain": [
       "Index(['scaled_length', 'scaled_height', 'scaled_width', 'Parkki', 'Perch',\n",
       "       'Pike', 'Roach', 'Smelt', 'Whitefish'],\n",
       "      dtype='object')"
      ]
     },
     "execution_count": 144,
     "metadata": {},
     "output_type": "execute_result"
    }
   ],
   "source": [
    "x_train.columns"
   ]
  },
  {
   "cell_type": "markdown",
   "id": "7c6782c9",
   "metadata": {},
   "source": [
    "##### Testing on the testing set"
   ]
  },
  {
   "cell_type": "code",
   "execution_count": 158,
   "id": "6a121196",
   "metadata": {},
   "outputs": [],
   "source": [
    "yhat_test = multivariate_reg_result.predict(sa.add_constant(x_test))\n"
   ]
  },
  {
   "cell_type": "code",
   "execution_count": 174,
   "id": "b6606fda",
   "metadata": {},
   "outputs": [
    {
     "data": {
      "text/plain": [
       "Text(0, 0.5, 'Predicted Weight')"
      ]
     },
     "execution_count": 174,
     "metadata": {},
     "output_type": "execute_result"
    },
    {
     "data": {
      "image/png": "[encoded data removed]",
      "text/plain": [
       "<Figure size 432x288 with 1 Axes>"
      ]
     },
     "metadata": {},
     "output_type": "display_data"
    }
   ],
   "source": [
    "# draw a 45 degree line: y=x\n",
    "x = np.arange(1100)\n",
    "y = x\n",
    "plt.plot(x,y, c=\"orange\")\n",
    "\n",
    "# draw a scatter plot, along x axis shows actual y values and along y axis shows the prediction values\n",
    "plt.scatter(y_test, yhat_test)\n",
    "plt.xlabel('Actual Weight')\n",
    "plt.ylabel('Predicted Weight')"
   ]
  },
  {
   "cell_type": "markdown",
   "id": "102c1d68",
   "metadata": {},
   "source": [
    "We can also compute the residuals"
   ]
  },
  {
   "cell_type": "code",
   "execution_count": 165,
   "id": "500efdf1",
   "metadata": {},
   "outputs": [],
   "source": [
    "residuals = yhat_test.values - y_test.Weight.values"
   ]
  },
  {
   "cell_type": "code",
   "execution_count": 170,
   "id": "f0bde601",
   "metadata": {},
   "outputs": [
    {
     "data": {
      "text/plain": [
       "64.13265665611551"
      ]
     },
     "execution_count": 170,
     "metadata": {},
     "output_type": "execute_result"
    }
   ],
   "source": [
    "np.abs(residuals).mean()"
   ]
  },
  {
   "cell_type": "code",
   "execution_count": 171,
   "id": "08fdbddf",
   "metadata": {},
   "outputs": [
    {
     "data": {
      "text/plain": [
       "(array([1., 0., 2., 3., 6., 3., 7., 4., 0., 5.]),\n",
       " array([-215.13679228, -181.0338419 , -146.93089152, -112.82794114,\n",
       "         -78.72499077,  -44.62204039,  -10.51909001,   23.58386037,\n",
       "          57.68681075,   91.78976113,  125.89271151]),\n",
       " <BarContainer object of 10 artists>)"
      ]
     },
     "execution_count": 171,
     "metadata": {},
     "output_type": "execute_result"
    },
    {
     "data": {
      "image/png": "[encoded data removed]",
      "text/plain": [
       "<Figure size 432x288 with 1 Axes>"
      ]
     },
     "metadata": {},
     "output_type": "display_data"
    }
   ],
   "source": [
    "plt.hist(residuals)"
   ]
  },
  {
   "cell_type": "code",
   "execution_count": null,
   "id": "ea03299a",
   "metadata": {},
   "outputs": [],
   "source": []
  }
 ],
 "metadata": {
  "kernelspec": {
   "display_name": "Python 3 (ipykernel)",
   "language": "python",
   "name": "python3"
  },
  "language_info": {
   "codemirror_mode": {
    "name": "ipython",
    "version": 3
   },
   "file_extension": ".py",
   "mimetype": "text/x-python",
   "name": "python",
   "nbconvert_exporter": "python",
   "pygments_lexer": "ipython3",
   "version": "3.9.7"
  }
 },
 "nbformat": 4,
 "nbformat_minor": 5
}
