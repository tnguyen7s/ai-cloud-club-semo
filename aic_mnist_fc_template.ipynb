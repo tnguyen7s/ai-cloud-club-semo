{
  "nbformat": 4,
  "nbformat_minor": 0,
  "metadata": {
    "colab": {
      "provenance": [],
      "authorship_tag": "ABX9TyPzWuRGBt329zdB1UYeokSL",
      "include_colab_link": true
    },
    "kernelspec": {
      "name": "python3",
      "display_name": "Python 3"
    },
    "language_info": {
      "name": "python"
    }
  },
  "cells": [
    {
      "cell_type": "markdown",
      "metadata": {
        "id": "view-in-github",
        "colab_type": "text"
      },
      "source": [
        "<a href=\"https://colab.research.google.com/github/tnguyen7s/ai-cloud-club-semo/blob/master/aic_mnist_fc_template.ipynb\" target=\"_parent\"><img src=\"https://colab.research.google.com/assets/colab-badge.svg\" alt=\"Open In Colab\"/></a>"
      ]
    },
    {
      "cell_type": "markdown",
      "source": [
        "# Import packages"
      ],
      "metadata": {
        "id": "TpJiHm2thnWn"
      }
    },
    {
      "cell_type": "code",
      "execution_count": null,
      "metadata": {
        "id": "6JXQ8duOhmBx"
      },
      "outputs": [],
      "source": []
    },
    {
      "cell_type": "markdown",
      "source": [
        "# Set up Device for training"
      ],
      "metadata": {
        "id": "_AKs1ot-hqZf"
      }
    },
    {
      "cell_type": "code",
      "source": [],
      "metadata": {
        "id": "MyZdAH2Gh5fz"
      },
      "execution_count": null,
      "outputs": []
    },
    {
      "cell_type": "markdown",
      "source": [
        "# Data"
      ],
      "metadata": {
        "id": "nsgCp15Qh0TC"
      }
    },
    {
      "cell_type": "code",
      "source": [],
      "metadata": {
        "id": "biX_LiC_h8D3"
      },
      "execution_count": null,
      "outputs": []
    },
    {
      "cell_type": "markdown",
      "source": [
        "# Image Show"
      ],
      "metadata": {
        "id": "_ux5DyzNh_ut"
      }
    },
    {
      "cell_type": "code",
      "source": [],
      "metadata": {
        "id": "2nAmUDWTh_Nq"
      },
      "execution_count": null,
      "outputs": []
    },
    {
      "cell_type": "markdown",
      "source": [
        "# Fully Connected Model"
      ],
      "metadata": {
        "id": "Vxif-qEEiB6D"
      }
    },
    {
      "cell_type": "code",
      "source": [],
      "metadata": {
        "id": "iJH70ZdSiOos"
      },
      "execution_count": null,
      "outputs": []
    },
    {
      "cell_type": "markdown",
      "source": [
        "# Optimizer"
      ],
      "metadata": {
        "id": "uP-ZLH3SiSKj"
      }
    },
    {
      "cell_type": "code",
      "source": [],
      "metadata": {
        "id": "HhVB1mLniWvu"
      },
      "execution_count": null,
      "outputs": []
    },
    {
      "cell_type": "markdown",
      "source": [
        "# Training function"
      ],
      "metadata": {
        "id": "HtaU32x6icoD"
      }
    },
    {
      "cell_type": "code",
      "source": [],
      "metadata": {
        "id": "xo4tYE8cigAP"
      },
      "execution_count": null,
      "outputs": []
    },
    {
      "cell_type": "markdown",
      "source": [
        "# Testing function"
      ],
      "metadata": {
        "id": "EXnZJc-Dijg7"
      }
    },
    {
      "cell_type": "code",
      "source": [],
      "metadata": {
        "id": "v8dxBy0pimgM"
      },
      "execution_count": null,
      "outputs": []
    },
    {
      "cell_type": "markdown",
      "source": [
        "# Create a model and train"
      ],
      "metadata": {
        "id": "6uKjgDAIimzy"
      }
    },
    {
      "cell_type": "code",
      "source": [],
      "metadata": {
        "id": "0g2Z_h7EippS"
      },
      "execution_count": null,
      "outputs": []
    },
    {
      "cell_type": "markdown",
      "source": [
        "# Visualize and performance"
      ],
      "metadata": {
        "id": "nufCn_uCip4r"
      }
    },
    {
      "cell_type": "code",
      "source": [],
      "metadata": {
        "id": "Y9XHS-T9ix1q"
      },
      "execution_count": null,
      "outputs": []
    }
  ]
}