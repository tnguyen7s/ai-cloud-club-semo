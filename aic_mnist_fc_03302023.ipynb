{
  "nbformat": 4,
  "nbformat_minor": 0,
  "metadata": {
    "colab": {
      "provenance": [],
      "include_colab_link": true
    },
    "kernelspec": {
      "name": "python3",
      "display_name": "Python 3"
    },
    "language_info": {
      "name": "python"
    },
    "accelerator": "GPU",
    "gpuClass": "standard",
    "widgets": {
      "application/vnd.jupyter.widget-state+json": {
        "d34af00580d44a13ae7dadb91121023e": {
          "model_module": "@jupyter-widgets/controls",
          "model_name": "HBoxModel",
          "model_module_version": "1.5.0",
          "state": {
            "_dom_classes": [],
            "_model_module": "@jupyter-widgets/controls",
            "_model_module_version": "1.5.0",
            "_model_name": "HBoxModel",
            "_view_count": null,
            "_view_module": "@jupyter-widgets/controls",
            "_view_module_version": "1.5.0",
            "_view_name": "HBoxView",
            "box_style": "",
            "children": [
              "IPY_MODEL_14feb40786db4cc59ce1396951dea28c",
              "IPY_MODEL_010ac8d5ba484ccc989c7c39a2072931",
              "IPY_MODEL_6d3ae5d9ae8849859896710ce2c8d61a"
            ],
            "layout": "IPY_MODEL_db13563b703840ecbe1c541732688aa6"
          }
        },
        "14feb40786db4cc59ce1396951dea28c": {
          "model_module": "@jupyter-widgets/controls",
          "model_name": "HTMLModel",
          "model_module_version": "1.5.0",
          "state": {
            "_dom_classes": [],
            "_model_module": "@jupyter-widgets/controls",
            "_model_module_version": "1.5.0",
            "_model_name": "HTMLModel",
            "_view_count": null,
            "_view_module": "@jupyter-widgets/controls",
            "_view_module_version": "1.5.0",
            "_view_name": "HTMLView",
            "description": "",
            "description_tooltip": null,
            "layout": "IPY_MODEL_d7311548bb6941e68032f33078eee271",
            "placeholder": "​",
            "style": "IPY_MODEL_9459d0a59d31460d821279f7cae01ac7",
            "value": "100%"
          }
        },
        "010ac8d5ba484ccc989c7c39a2072931": {
          "model_module": "@jupyter-widgets/controls",
          "model_name": "FloatProgressModel",
          "model_module_version": "1.5.0",
          "state": {
            "_dom_classes": [],
            "_model_module": "@jupyter-widgets/controls",
            "_model_module_version": "1.5.0",
            "_model_name": "FloatProgressModel",
            "_view_count": null,
            "_view_module": "@jupyter-widgets/controls",
            "_view_module_version": "1.5.0",
            "_view_name": "ProgressView",
            "bar_style": "success",
            "description": "",
            "description_tooltip": null,
            "layout": "IPY_MODEL_df8c0eb49bb7434682036157698867fb",
            "max": 9912422,
            "min": 0,
            "orientation": "horizontal",
            "style": "IPY_MODEL_1b8caf3d6a054bd3adccc0a4ae316045",
            "value": 9912422
          }
        },
        "6d3ae5d9ae8849859896710ce2c8d61a": {
          "model_module": "@jupyter-widgets/controls",
          "model_name": "HTMLModel",
          "model_module_version": "1.5.0",
          "state": {
            "_dom_classes": [],
            "_model_module": "@jupyter-widgets/controls",
            "_model_module_version": "1.5.0",
            "_model_name": "HTMLModel",
            "_view_count": null,
            "_view_module": "@jupyter-widgets/controls",
            "_view_module_version": "1.5.0",
            "_view_name": "HTMLView",
            "description": "",
            "description_tooltip": null,
            "layout": "IPY_MODEL_de7a7edee4754de9859dca92a27d27f1",
            "placeholder": "​",
            "style": "IPY_MODEL_d52a6e9e30ad4f3baa7c1554255c17e2",
            "value": " 9912422/9912422 [00:00&lt;00:00, 41261354.92it/s]"
          }
        },
        "db13563b703840ecbe1c541732688aa6": {
          "model_module": "@jupyter-widgets/base",
          "model_name": "LayoutModel",
          "model_module_version": "1.2.0",
          "state": {
            "_model_module": "@jupyter-widgets/base",
            "_model_module_version": "1.2.0",
            "_model_name": "LayoutModel",
            "_view_count": null,
            "_view_module": "@jupyter-widgets/base",
            "_view_module_version": "1.2.0",
            "_view_name": "LayoutView",
            "align_content": null,
            "align_items": null,
            "align_self": null,
            "border": null,
            "bottom": null,
            "display": null,
            "flex": null,
            "flex_flow": null,
            "grid_area": null,
            "grid_auto_columns": null,
            "grid_auto_flow": null,
            "grid_auto_rows": null,
            "grid_column": null,
            "grid_gap": null,
            "grid_row": null,
            "grid_template_areas": null,
            "grid_template_columns": null,
            "grid_template_rows": null,
            "height": null,
            "justify_content": null,
            "justify_items": null,
            "left": null,
            "margin": null,
            "max_height": null,
            "max_width": null,
            "min_height": null,
            "min_width": null,
            "object_fit": null,
            "object_position": null,
            "order": null,
            "overflow": null,
            "overflow_x": null,
            "overflow_y": null,
            "padding": null,
            "right": null,
            "top": null,
            "visibility": null,
            "width": null
          }
        },
        "d7311548bb6941e68032f33078eee271": {
          "model_module": "@jupyter-widgets/base",
          "model_name": "LayoutModel",
          "model_module_version": "1.2.0",
          "state": {
            "_model_module": "@jupyter-widgets/base",
            "_model_module_version": "1.2.0",
            "_model_name": "LayoutModel",
            "_view_count": null,
            "_view_module": "@jupyter-widgets/base",
            "_view_module_version": "1.2.0",
            "_view_name": "LayoutView",
            "align_content": null,
            "align_items": null,
            "align_self": null,
            "border": null,
            "bottom": null,
            "display": null,
            "flex": null,
            "flex_flow": null,
            "grid_area": null,
            "grid_auto_columns": null,
            "grid_auto_flow": null,
            "grid_auto_rows": null,
            "grid_column": null,
            "grid_gap": null,
            "grid_row": null,
            "grid_template_areas": null,
            "grid_template_columns": null,
            "grid_template_rows": null,
            "height": null,
            "justify_content": null,
            "justify_items": null,
            "left": null,
            "margin": null,
            "max_height": null,
            "max_width": null,
            "min_height": null,
            "min_width": null,
            "object_fit": null,
            "object_position": null,
            "order": null,
            "overflow": null,
            "overflow_x": null,
            "overflow_y": null,
            "padding": null,
            "right": null,
            "top": null,
            "visibility": null,
            "width": null
          }
        },
        "9459d0a59d31460d821279f7cae01ac7": {
          "model_module": "@jupyter-widgets/controls",
          "model_name": "DescriptionStyleModel",
          "model_module_version": "1.5.0",
          "state": {
            "_model_module": "@jupyter-widgets/controls",
            "_model_module_version": "1.5.0",
            "_model_name": "DescriptionStyleModel",
            "_view_count": null,
            "_view_module": "@jupyter-widgets/base",
            "_view_module_version": "1.2.0",
            "_view_name": "StyleView",
            "description_width": ""
          }
        },
        "df8c0eb49bb7434682036157698867fb": {
          "model_module": "@jupyter-widgets/base",
          "model_name": "LayoutModel",
          "model_module_version": "1.2.0",
          "state": {
            "_model_module": "@jupyter-widgets/base",
            "_model_module_version": "1.2.0",
            "_model_name": "LayoutModel",
            "_view_count": null,
            "_view_module": "@jupyter-widgets/base",
            "_view_module_version": "1.2.0",
            "_view_name": "LayoutView",
            "align_content": null,
            "align_items": null,
            "align_self": null,
            "border": null,
            "bottom": null,
            "display": null,
            "flex": null,
            "flex_flow": null,
            "grid_area": null,
            "grid_auto_columns": null,
            "grid_auto_flow": null,
            "grid_auto_rows": null,
            "grid_column": null,
            "grid_gap": null,
            "grid_row": null,
            "grid_template_areas": null,
            "grid_template_columns": null,
            "grid_template_rows": null,
            "height": null,
            "justify_content": null,
            "justify_items": null,
            "left": null,
            "margin": null,
            "max_height": null,
            "max_width": null,
            "min_height": null,
            "min_width": null,
            "object_fit": null,
            "object_position": null,
            "order": null,
            "overflow": null,
            "overflow_x": null,
            "overflow_y": null,
            "padding": null,
            "right": null,
            "top": null,
            "visibility": null,
            "width": null
          }
        },
        "1b8caf3d6a054bd3adccc0a4ae316045": {
          "model_module": "@jupyter-widgets/controls",
          "model_name": "ProgressStyleModel",
          "model_module_version": "1.5.0",
          "state": {
            "_model_module": "@jupyter-widgets/controls",
            "_model_module_version": "1.5.0",
            "_model_name": "ProgressStyleModel",
            "_view_count": null,
            "_view_module": "@jupyter-widgets/base",
            "_view_module_version": "1.2.0",
            "_view_name": "StyleView",
            "bar_color": null,
            "description_width": ""
          }
        },
        "de7a7edee4754de9859dca92a27d27f1": {
          "model_module": "@jupyter-widgets/base",
          "model_name": "LayoutModel",
          "model_module_version": "1.2.0",
          "state": {
            "_model_module": "@jupyter-widgets/base",
            "_model_module_version": "1.2.0",
            "_model_name": "LayoutModel",
            "_view_count": null,
            "_view_module": "@jupyter-widgets/base",
            "_view_module_version": "1.2.0",
            "_view_name": "LayoutView",
            "align_content": null,
            "align_items": null,
            "align_self": null,
            "border": null,
            "bottom": null,
            "display": null,
            "flex": null,
            "flex_flow": null,
            "grid_area": null,
            "grid_auto_columns": null,
            "grid_auto_flow": null,
            "grid_auto_rows": null,
            "grid_column": null,
            "grid_gap": null,
            "grid_row": null,
            "grid_template_areas": null,
            "grid_template_columns": null,
            "grid_template_rows": null,
            "height": null,
            "justify_content": null,
            "justify_items": null,
            "left": null,
            "margin": null,
            "max_height": null,
            "max_width": null,
            "min_height": null,
            "min_width": null,
            "object_fit": null,
            "object_position": null,
            "order": null,
            "overflow": null,
            "overflow_x": null,
            "overflow_y": null,
            "padding": null,
            "right": null,
            "top": null,
            "visibility": null,
            "width": null
          }
        },
        "d52a6e9e30ad4f3baa7c1554255c17e2": {
          "model_module": "@jupyter-widgets/controls",
          "model_name": "DescriptionStyleModel",
          "model_module_version": "1.5.0",
          "state": {
            "_model_module": "@jupyter-widgets/controls",
            "_model_module_version": "1.5.0",
            "_model_name": "DescriptionStyleModel",
            "_view_count": null,
            "_view_module": "@jupyter-widgets/base",
            "_view_module_version": "1.2.0",
            "_view_name": "StyleView",
            "description_width": ""
          }
        },
        "835b445a601449bfaf2b70353e1ed05b": {
          "model_module": "@jupyter-widgets/controls",
          "model_name": "HBoxModel",
          "model_module_version": "1.5.0",
          "state": {
            "_dom_classes": [],
            "_model_module": "@jupyter-widgets/controls",
            "_model_module_version": "1.5.0",
            "_model_name": "HBoxModel",
            "_view_count": null,
            "_view_module": "@jupyter-widgets/controls",
            "_view_module_version": "1.5.0",
            "_view_name": "HBoxView",
            "box_style": "",
            "children": [
              "IPY_MODEL_5de8825e201642db99f0556b4558cf14",
              "IPY_MODEL_dda0bde4cfd845b1a36439e28c4e201f",
              "IPY_MODEL_78228e937c4a4ed7bb98fa2e9f49133f"
            ],
            "layout": "IPY_MODEL_5603aca9bd3742e99aff5638b1ef56e0"
          }
        },
        "5de8825e201642db99f0556b4558cf14": {
          "model_module": "@jupyter-widgets/controls",
          "model_name": "HTMLModel",
          "model_module_version": "1.5.0",
          "state": {
            "_dom_classes": [],
            "_model_module": "@jupyter-widgets/controls",
            "_model_module_version": "1.5.0",
            "_model_name": "HTMLModel",
            "_view_count": null,
            "_view_module": "@jupyter-widgets/controls",
            "_view_module_version": "1.5.0",
            "_view_name": "HTMLView",
            "description": "",
            "description_tooltip": null,
            "layout": "IPY_MODEL_c88d251c3e1d4ade8ed5545c3beafede",
            "placeholder": "​",
            "style": "IPY_MODEL_34465943689f4b2e8603cc38aad36dd6",
            "value": "100%"
          }
        },
        "dda0bde4cfd845b1a36439e28c4e201f": {
          "model_module": "@jupyter-widgets/controls",
          "model_name": "FloatProgressModel",
          "model_module_version": "1.5.0",
          "state": {
            "_dom_classes": [],
            "_model_module": "@jupyter-widgets/controls",
            "_model_module_version": "1.5.0",
            "_model_name": "FloatProgressModel",
            "_view_count": null,
            "_view_module": "@jupyter-widgets/controls",
            "_view_module_version": "1.5.0",
            "_view_name": "ProgressView",
            "bar_style": "success",
            "description": "",
            "description_tooltip": null,
            "layout": "IPY_MODEL_05d618e590ad445bb650b4ab33a3bc11",
            "max": 28881,
            "min": 0,
            "orientation": "horizontal",
            "style": "IPY_MODEL_23eda021ddde4deead1fc79cec115ffd",
            "value": 28881
          }
        },
        "78228e937c4a4ed7bb98fa2e9f49133f": {
          "model_module": "@jupyter-widgets/controls",
          "model_name": "HTMLModel",
          "model_module_version": "1.5.0",
          "state": {
            "_dom_classes": [],
            "_model_module": "@jupyter-widgets/controls",
            "_model_module_version": "1.5.0",
            "_model_name": "HTMLModel",
            "_view_count": null,
            "_view_module": "@jupyter-widgets/controls",
            "_view_module_version": "1.5.0",
            "_view_name": "HTMLView",
            "description": "",
            "description_tooltip": null,
            "layout": "IPY_MODEL_9d8c3e6b73654fe5a6521d91c6f739ef",
            "placeholder": "​",
            "style": "IPY_MODEL_8666249b584a4092b76649e1868c62f7",
            "value": " 28881/28881 [00:00&lt;00:00, 570388.53it/s]"
          }
        },
        "5603aca9bd3742e99aff5638b1ef56e0": {
          "model_module": "@jupyter-widgets/base",
          "model_name": "LayoutModel",
          "model_module_version": "1.2.0",
          "state": {
            "_model_module": "@jupyter-widgets/base",
            "_model_module_version": "1.2.0",
            "_model_name": "LayoutModel",
            "_view_count": null,
            "_view_module": "@jupyter-widgets/base",
            "_view_module_version": "1.2.0",
            "_view_name": "LayoutView",
            "align_content": null,
            "align_items": null,
            "align_self": null,
            "border": null,
            "bottom": null,
            "display": null,
            "flex": null,
            "flex_flow": null,
            "grid_area": null,
            "grid_auto_columns": null,
            "grid_auto_flow": null,
            "grid_auto_rows": null,
            "grid_column": null,
            "grid_gap": null,
            "grid_row": null,
            "grid_template_areas": null,
            "grid_template_columns": null,
            "grid_template_rows": null,
            "height": null,
            "justify_content": null,
            "justify_items": null,
            "left": null,
            "margin": null,
            "max_height": null,
            "max_width": null,
            "min_height": null,
            "min_width": null,
            "object_fit": null,
            "object_position": null,
            "order": null,
            "overflow": null,
            "overflow_x": null,
            "overflow_y": null,
            "padding": null,
            "right": null,
            "top": null,
            "visibility": null,
            "width": null
          }
        },
        "c88d251c3e1d4ade8ed5545c3beafede": {
          "model_module": "@jupyter-widgets/base",
          "model_name": "LayoutModel",
          "model_module_version": "1.2.0",
          "state": {
            "_model_module": "@jupyter-widgets/base",
            "_model_module_version": "1.2.0",
            "_model_name": "LayoutModel",
            "_view_count": null,
            "_view_module": "@jupyter-widgets/base",
            "_view_module_version": "1.2.0",
            "_view_name": "LayoutView",
            "align_content": null,
            "align_items": null,
            "align_self": null,
            "border": null,
            "bottom": null,
            "display": null,
            "flex": null,
            "flex_flow": null,
            "grid_area": null,
            "grid_auto_columns": null,
            "grid_auto_flow": null,
            "grid_auto_rows": null,
            "grid_column": null,
            "grid_gap": null,
            "grid_row": null,
            "grid_template_areas": null,
            "grid_template_columns": null,
            "grid_template_rows": null,
            "height": null,
            "justify_content": null,
            "justify_items": null,
            "left": null,
            "margin": null,
            "max_height": null,
            "max_width": null,
            "min_height": null,
            "min_width": null,
            "object_fit": null,
            "object_position": null,
            "order": null,
            "overflow": null,
            "overflow_x": null,
            "overflow_y": null,
            "padding": null,
            "right": null,
            "top": null,
            "visibility": null,
            "width": null
          }
        },
        "34465943689f4b2e8603cc38aad36dd6": {
          "model_module": "@jupyter-widgets/controls",
          "model_name": "DescriptionStyleModel",
          "model_module_version": "1.5.0",
          "state": {
            "_model_module": "@jupyter-widgets/controls",
            "_model_module_version": "1.5.0",
            "_model_name": "DescriptionStyleModel",
            "_view_count": null,
            "_view_module": "@jupyter-widgets/base",
            "_view_module_version": "1.2.0",
            "_view_name": "StyleView",
            "description_width": ""
          }
        },
        "05d618e590ad445bb650b4ab33a3bc11": {
          "model_module": "@jupyter-widgets/base",
          "model_name": "LayoutModel",
          "model_module_version": "1.2.0",
          "state": {
            "_model_module": "@jupyter-widgets/base",
            "_model_module_version": "1.2.0",
            "_model_name": "LayoutModel",
            "_view_count": null,
            "_view_module": "@jupyter-widgets/base",
            "_view_module_version": "1.2.0",
            "_view_name": "LayoutView",
            "align_content": null,
            "align_items": null,
            "align_self": null,
            "border": null,
            "bottom": null,
            "display": null,
            "flex": null,
            "flex_flow": null,
            "grid_area": null,
            "grid_auto_columns": null,
            "grid_auto_flow": null,
            "grid_auto_rows": null,
            "grid_column": null,
            "grid_gap": null,
            "grid_row": null,
            "grid_template_areas": null,
            "grid_template_columns": null,
            "grid_template_rows": null,
            "height": null,
            "justify_content": null,
            "justify_items": null,
            "left": null,
            "margin": null,
            "max_height": null,
            "max_width": null,
            "min_height": null,
            "min_width": null,
            "object_fit": null,
            "object_position": null,
            "order": null,
            "overflow": null,
            "overflow_x": null,
            "overflow_y": null,
            "padding": null,
            "right": null,
            "top": null,
            "visibility": null,
            "width": null
          }
        },
        "23eda021ddde4deead1fc79cec115ffd": {
          "model_module": "@jupyter-widgets/controls",
          "model_name": "ProgressStyleModel",
          "model_module_version": "1.5.0",
          "state": {
            "_model_module": "@jupyter-widgets/controls",
            "_model_module_version": "1.5.0",
            "_model_name": "ProgressStyleModel",
            "_view_count": null,
            "_view_module": "@jupyter-widgets/base",
            "_view_module_version": "1.2.0",
            "_view_name": "StyleView",
            "bar_color": null,
            "description_width": ""
          }
        },
        "9d8c3e6b73654fe5a6521d91c6f739ef": {
          "model_module": "@jupyter-widgets/base",
          "model_name": "LayoutModel",
          "model_module_version": "1.2.0",
          "state": {
            "_model_module": "@jupyter-widgets/base",
            "_model_module_version": "1.2.0",
            "_model_name": "LayoutModel",
            "_view_count": null,
            "_view_module": "@jupyter-widgets/base",
            "_view_module_version": "1.2.0",
            "_view_name": "LayoutView",
            "align_content": null,
            "align_items": null,
            "align_self": null,
            "border": null,
            "bottom": null,
            "display": null,
            "flex": null,
            "flex_flow": null,
            "grid_area": null,
            "grid_auto_columns": null,
            "grid_auto_flow": null,
            "grid_auto_rows": null,
            "grid_column": null,
            "grid_gap": null,
            "grid_row": null,
            "grid_template_areas": null,
            "grid_template_columns": null,
            "grid_template_rows": null,
            "height": null,
            "justify_content": null,
            "justify_items": null,
            "left": null,
            "margin": null,
            "max_height": null,
            "max_width": null,
            "min_height": null,
            "min_width": null,
            "object_fit": null,
            "object_position": null,
            "order": null,
            "overflow": null,
            "overflow_x": null,
            "overflow_y": null,
            "padding": null,
            "right": null,
            "top": null,
            "visibility": null,
            "width": null
          }
        },
        "8666249b584a4092b76649e1868c62f7": {
          "model_module": "@jupyter-widgets/controls",
          "model_name": "DescriptionStyleModel",
          "model_module_version": "1.5.0",
          "state": {
            "_model_module": "@jupyter-widgets/controls",
            "_model_module_version": "1.5.0",
            "_model_name": "DescriptionStyleModel",
            "_view_count": null,
            "_view_module": "@jupyter-widgets/base",
            "_view_module_version": "1.2.0",
            "_view_name": "StyleView",
            "description_width": ""
          }
        },
        "3919c069879e427f9f02fdd98ced189b": {
          "model_module": "@jupyter-widgets/controls",
          "model_name": "HBoxModel",
          "model_module_version": "1.5.0",
          "state": {
            "_dom_classes": [],
            "_model_module": "@jupyter-widgets/controls",
            "_model_module_version": "1.5.0",
            "_model_name": "HBoxModel",
            "_view_count": null,
            "_view_module": "@jupyter-widgets/controls",
            "_view_module_version": "1.5.0",
            "_view_name": "HBoxView",
            "box_style": "",
            "children": [
              "IPY_MODEL_aed7a49613d34688b7be8b36ba34478d",
              "IPY_MODEL_0e89d5c7819a45bf84317b84e93d9475",
              "IPY_MODEL_01f433ba47de4321b03ad488aa9f23a0"
            ],
            "layout": "IPY_MODEL_9418e349c54140a59d9e9bd3bbf2c450"
          }
        },
        "aed7a49613d34688b7be8b36ba34478d": {
          "model_module": "@jupyter-widgets/controls",
          "model_name": "HTMLModel",
          "model_module_version": "1.5.0",
          "state": {
            "_dom_classes": [],
            "_model_module": "@jupyter-widgets/controls",
            "_model_module_version": "1.5.0",
            "_model_name": "HTMLModel",
            "_view_count": null,
            "_view_module": "@jupyter-widgets/controls",
            "_view_module_version": "1.5.0",
            "_view_name": "HTMLView",
            "description": "",
            "description_tooltip": null,
            "layout": "IPY_MODEL_07a4a422ed0441cc86d1ae42684eaf7b",
            "placeholder": "​",
            "style": "IPY_MODEL_a2d8ef12bd8547b687528dee8c95a4cf",
            "value": "100%"
          }
        },
        "0e89d5c7819a45bf84317b84e93d9475": {
          "model_module": "@jupyter-widgets/controls",
          "model_name": "FloatProgressModel",
          "model_module_version": "1.5.0",
          "state": {
            "_dom_classes": [],
            "_model_module": "@jupyter-widgets/controls",
            "_model_module_version": "1.5.0",
            "_model_name": "FloatProgressModel",
            "_view_count": null,
            "_view_module": "@jupyter-widgets/controls",
            "_view_module_version": "1.5.0",
            "_view_name": "ProgressView",
            "bar_style": "success",
            "description": "",
            "description_tooltip": null,
            "layout": "IPY_MODEL_da0e7c2c04934b2e8074393f49392e47",
            "max": 1648877,
            "min": 0,
            "orientation": "horizontal",
            "style": "IPY_MODEL_8583e507609d49ab99ea3c572b33abac",
            "value": 1648877
          }
        },
        "01f433ba47de4321b03ad488aa9f23a0": {
          "model_module": "@jupyter-widgets/controls",
          "model_name": "HTMLModel",
          "model_module_version": "1.5.0",
          "state": {
            "_dom_classes": [],
            "_model_module": "@jupyter-widgets/controls",
            "_model_module_version": "1.5.0",
            "_model_name": "HTMLModel",
            "_view_count": null,
            "_view_module": "@jupyter-widgets/controls",
            "_view_module_version": "1.5.0",
            "_view_name": "HTMLView",
            "description": "",
            "description_tooltip": null,
            "layout": "IPY_MODEL_74832afd20764aacbf53e006807af592",
            "placeholder": "​",
            "style": "IPY_MODEL_9e1fd053487648f297cc99dd3208aabd",
            "value": " 1648877/1648877 [00:00&lt;00:00, 31877077.72it/s]"
          }
        },
        "9418e349c54140a59d9e9bd3bbf2c450": {
          "model_module": "@jupyter-widgets/base",
          "model_name": "LayoutModel",
          "model_module_version": "1.2.0",
          "state": {
            "_model_module": "@jupyter-widgets/base",
            "_model_module_version": "1.2.0",
            "_model_name": "LayoutModel",
            "_view_count": null,
            "_view_module": "@jupyter-widgets/base",
            "_view_module_version": "1.2.0",
            "_view_name": "LayoutView",
            "align_content": null,
            "align_items": null,
            "align_self": null,
            "border": null,
            "bottom": null,
            "display": null,
            "flex": null,
            "flex_flow": null,
            "grid_area": null,
            "grid_auto_columns": null,
            "grid_auto_flow": null,
            "grid_auto_rows": null,
            "grid_column": null,
            "grid_gap": null,
            "grid_row": null,
            "grid_template_areas": null,
            "grid_template_columns": null,
            "grid_template_rows": null,
            "height": null,
            "justify_content": null,
            "justify_items": null,
            "left": null,
            "margin": null,
            "max_height": null,
            "max_width": null,
            "min_height": null,
            "min_width": null,
            "object_fit": null,
            "object_position": null,
            "order": null,
            "overflow": null,
            "overflow_x": null,
            "overflow_y": null,
            "padding": null,
            "right": null,
            "top": null,
            "visibility": null,
            "width": null
          }
        },
        "07a4a422ed0441cc86d1ae42684eaf7b": {
          "model_module": "@jupyter-widgets/base",
          "model_name": "LayoutModel",
          "model_module_version": "1.2.0",
          "state": {
            "_model_module": "@jupyter-widgets/base",
            "_model_module_version": "1.2.0",
            "_model_name": "LayoutModel",
            "_view_count": null,
            "_view_module": "@jupyter-widgets/base",
            "_view_module_version": "1.2.0",
            "_view_name": "LayoutView",
            "align_content": null,
            "align_items": null,
            "align_self": null,
            "border": null,
            "bottom": null,
            "display": null,
            "flex": null,
            "flex_flow": null,
            "grid_area": null,
            "grid_auto_columns": null,
            "grid_auto_flow": null,
            "grid_auto_rows": null,
            "grid_column": null,
            "grid_gap": null,
            "grid_row": null,
            "grid_template_areas": null,
            "grid_template_columns": null,
            "grid_template_rows": null,
            "height": null,
            "justify_content": null,
            "justify_items": null,
            "left": null,
            "margin": null,
            "max_height": null,
            "max_width": null,
            "min_height": null,
            "min_width": null,
            "object_fit": null,
            "object_position": null,
            "order": null,
            "overflow": null,
            "overflow_x": null,
            "overflow_y": null,
            "padding": null,
            "right": null,
            "top": null,
            "visibility": null,
            "width": null
          }
        },
        "a2d8ef12bd8547b687528dee8c95a4cf": {
          "model_module": "@jupyter-widgets/controls",
          "model_name": "DescriptionStyleModel",
          "model_module_version": "1.5.0",
          "state": {
            "_model_module": "@jupyter-widgets/controls",
            "_model_module_version": "1.5.0",
            "_model_name": "DescriptionStyleModel",
            "_view_count": null,
            "_view_module": "@jupyter-widgets/base",
            "_view_module_version": "1.2.0",
            "_view_name": "StyleView",
            "description_width": ""
          }
        },
        "da0e7c2c04934b2e8074393f49392e47": {
          "model_module": "@jupyter-widgets/base",
          "model_name": "LayoutModel",
          "model_module_version": "1.2.0",
          "state": {
            "_model_module": "@jupyter-widgets/base",
            "_model_module_version": "1.2.0",
            "_model_name": "LayoutModel",
            "_view_count": null,
            "_view_module": "@jupyter-widgets/base",
            "_view_module_version": "1.2.0",
            "_view_name": "LayoutView",
            "align_content": null,
            "align_items": null,
            "align_self": null,
            "border": null,
            "bottom": null,
            "display": null,
            "flex": null,
            "flex_flow": null,
            "grid_area": null,
            "grid_auto_columns": null,
            "grid_auto_flow": null,
            "grid_auto_rows": null,
            "grid_column": null,
            "grid_gap": null,
            "grid_row": null,
            "grid_template_areas": null,
            "grid_template_columns": null,
            "grid_template_rows": null,
            "height": null,
            "justify_content": null,
            "justify_items": null,
            "left": null,
            "margin": null,
            "max_height": null,
            "max_width": null,
            "min_height": null,
            "min_width": null,
            "object_fit": null,
            "object_position": null,
            "order": null,
            "overflow": null,
            "overflow_x": null,
            "overflow_y": null,
            "padding": null,
            "right": null,
            "top": null,
            "visibility": null,
            "width": null
          }
        },
        "8583e507609d49ab99ea3c572b33abac": {
          "model_module": "@jupyter-widgets/controls",
          "model_name": "ProgressStyleModel",
          "model_module_version": "1.5.0",
          "state": {
            "_model_module": "@jupyter-widgets/controls",
            "_model_module_version": "1.5.0",
            "_model_name": "ProgressStyleModel",
            "_view_count": null,
            "_view_module": "@jupyter-widgets/base",
            "_view_module_version": "1.2.0",
            "_view_name": "StyleView",
            "bar_color": null,
            "description_width": ""
          }
        },
        "74832afd20764aacbf53e006807af592": {
          "model_module": "@jupyter-widgets/base",
          "model_name": "LayoutModel",
          "model_module_version": "1.2.0",
          "state": {
            "_model_module": "@jupyter-widgets/base",
            "_model_module_version": "1.2.0",
            "_model_name": "LayoutModel",
            "_view_count": null,
            "_view_module": "@jupyter-widgets/base",
            "_view_module_version": "1.2.0",
            "_view_name": "LayoutView",
            "align_content": null,
            "align_items": null,
            "align_self": null,
            "border": null,
            "bottom": null,
            "display": null,
            "flex": null,
            "flex_flow": null,
            "grid_area": null,
            "grid_auto_columns": null,
            "grid_auto_flow": null,
            "grid_auto_rows": null,
            "grid_column": null,
            "grid_gap": null,
            "grid_row": null,
            "grid_template_areas": null,
            "grid_template_columns": null,
            "grid_template_rows": null,
            "height": null,
            "justify_content": null,
            "justify_items": null,
            "left": null,
            "margin": null,
            "max_height": null,
            "max_width": null,
            "min_height": null,
            "min_width": null,
            "object_fit": null,
            "object_position": null,
            "order": null,
            "overflow": null,
            "overflow_x": null,
            "overflow_y": null,
            "padding": null,
            "right": null,
            "top": null,
            "visibility": null,
            "width": null
          }
        },
        "9e1fd053487648f297cc99dd3208aabd": {
          "model_module": "@jupyter-widgets/controls",
          "model_name": "DescriptionStyleModel",
          "model_module_version": "1.5.0",
          "state": {
            "_model_module": "@jupyter-widgets/controls",
            "_model_module_version": "1.5.0",
            "_model_name": "DescriptionStyleModel",
            "_view_count": null,
            "_view_module": "@jupyter-widgets/base",
            "_view_module_version": "1.2.0",
            "_view_name": "StyleView",
            "description_width": ""
          }
        },
        "733e97047d86450e80f3d32c190da0ab": {
          "model_module": "@jupyter-widgets/controls",
          "model_name": "HBoxModel",
          "model_module_version": "1.5.0",
          "state": {
            "_dom_classes": [],
            "_model_module": "@jupyter-widgets/controls",
            "_model_module_version": "1.5.0",
            "_model_name": "HBoxModel",
            "_view_count": null,
            "_view_module": "@jupyter-widgets/controls",
            "_view_module_version": "1.5.0",
            "_view_name": "HBoxView",
            "box_style": "",
            "children": [
              "IPY_MODEL_9eaa743376f041a2b44e40b6eee11e96",
              "IPY_MODEL_b374e2be70b14c95855222c4bf4ba24c",
              "IPY_MODEL_0bde2633e3f04de69714a643c9fc53b4"
            ],
            "layout": "IPY_MODEL_827eec74bbc34829be86ea6c10691eb7"
          }
        },
        "9eaa743376f041a2b44e40b6eee11e96": {
          "model_module": "@jupyter-widgets/controls",
          "model_name": "HTMLModel",
          "model_module_version": "1.5.0",
          "state": {
            "_dom_classes": [],
            "_model_module": "@jupyter-widgets/controls",
            "_model_module_version": "1.5.0",
            "_model_name": "HTMLModel",
            "_view_count": null,
            "_view_module": "@jupyter-widgets/controls",
            "_view_module_version": "1.5.0",
            "_view_name": "HTMLView",
            "description": "",
            "description_tooltip": null,
            "layout": "IPY_MODEL_ac41d727b253451799e522323b225613",
            "placeholder": "​",
            "style": "IPY_MODEL_21a692f9701c4bb78c57afc69dcbaf9e",
            "value": "100%"
          }
        },
        "b374e2be70b14c95855222c4bf4ba24c": {
          "model_module": "@jupyter-widgets/controls",
          "model_name": "FloatProgressModel",
          "model_module_version": "1.5.0",
          "state": {
            "_dom_classes": [],
            "_model_module": "@jupyter-widgets/controls",
            "_model_module_version": "1.5.0",
            "_model_name": "FloatProgressModel",
            "_view_count": null,
            "_view_module": "@jupyter-widgets/controls",
            "_view_module_version": "1.5.0",
            "_view_name": "ProgressView",
            "bar_style": "success",
            "description": "",
            "description_tooltip": null,
            "layout": "IPY_MODEL_ccd2aea14904462db1903ad1a0a2d533",
            "max": 4542,
            "min": 0,
            "orientation": "horizontal",
            "style": "IPY_MODEL_34489ad663a74732a501de90cf9e292f",
            "value": 4542
          }
        },
        "0bde2633e3f04de69714a643c9fc53b4": {
          "model_module": "@jupyter-widgets/controls",
          "model_name": "HTMLModel",
          "model_module_version": "1.5.0",
          "state": {
            "_dom_classes": [],
            "_model_module": "@jupyter-widgets/controls",
            "_model_module_version": "1.5.0",
            "_model_name": "HTMLModel",
            "_view_count": null,
            "_view_module": "@jupyter-widgets/controls",
            "_view_module_version": "1.5.0",
            "_view_name": "HTMLView",
            "description": "",
            "description_tooltip": null,
            "layout": "IPY_MODEL_55496a299b264f6d91cdf5b4751f771b",
            "placeholder": "​",
            "style": "IPY_MODEL_b2ee0529763446d08d4fb4bca0a7be31",
            "value": " 4542/4542 [00:00&lt;00:00, 150837.93it/s]"
          }
        },
        "827eec74bbc34829be86ea6c10691eb7": {
          "model_module": "@jupyter-widgets/base",
          "model_name": "LayoutModel",
          "model_module_version": "1.2.0",
          "state": {
            "_model_module": "@jupyter-widgets/base",
            "_model_module_version": "1.2.0",
            "_model_name": "LayoutModel",
            "_view_count": null,
            "_view_module": "@jupyter-widgets/base",
            "_view_module_version": "1.2.0",
            "_view_name": "LayoutView",
            "align_content": null,
            "align_items": null,
            "align_self": null,
            "border": null,
            "bottom": null,
            "display": null,
            "flex": null,
            "flex_flow": null,
            "grid_area": null,
            "grid_auto_columns": null,
            "grid_auto_flow": null,
            "grid_auto_rows": null,
            "grid_column": null,
            "grid_gap": null,
            "grid_row": null,
            "grid_template_areas": null,
            "grid_template_columns": null,
            "grid_template_rows": null,
            "height": null,
            "justify_content": null,
            "justify_items": null,
            "left": null,
            "margin": null,
            "max_height": null,
            "max_width": null,
            "min_height": null,
            "min_width": null,
            "object_fit": null,
            "object_position": null,
            "order": null,
            "overflow": null,
            "overflow_x": null,
            "overflow_y": null,
            "padding": null,
            "right": null,
            "top": null,
            "visibility": null,
            "width": null
          }
        },
        "ac41d727b253451799e522323b225613": {
          "model_module": "@jupyter-widgets/base",
          "model_name": "LayoutModel",
          "model_module_version": "1.2.0",
          "state": {
            "_model_module": "@jupyter-widgets/base",
            "_model_module_version": "1.2.0",
            "_model_name": "LayoutModel",
            "_view_count": null,
            "_view_module": "@jupyter-widgets/base",
            "_view_module_version": "1.2.0",
            "_view_name": "LayoutView",
            "align_content": null,
            "align_items": null,
            "align_self": null,
            "border": null,
            "bottom": null,
            "display": null,
            "flex": null,
            "flex_flow": null,
            "grid_area": null,
            "grid_auto_columns": null,
            "grid_auto_flow": null,
            "grid_auto_rows": null,
            "grid_column": null,
            "grid_gap": null,
            "grid_row": null,
            "grid_template_areas": null,
            "grid_template_columns": null,
            "grid_template_rows": null,
            "height": null,
            "justify_content": null,
            "justify_items": null,
            "left": null,
            "margin": null,
            "max_height": null,
            "max_width": null,
            "min_height": null,
            "min_width": null,
            "object_fit": null,
            "object_position": null,
            "order": null,
            "overflow": null,
            "overflow_x": null,
            "overflow_y": null,
            "padding": null,
            "right": null,
            "top": null,
            "visibility": null,
            "width": null
          }
        },
        "21a692f9701c4bb78c57afc69dcbaf9e": {
          "model_module": "@jupyter-widgets/controls",
          "model_name": "DescriptionStyleModel",
          "model_module_version": "1.5.0",
          "state": {
            "_model_module": "@jupyter-widgets/controls",
            "_model_module_version": "1.5.0",
            "_model_name": "DescriptionStyleModel",
            "_view_count": null,
            "_view_module": "@jupyter-widgets/base",
            "_view_module_version": "1.2.0",
            "_view_name": "StyleView",
            "description_width": ""
          }
        },
        "ccd2aea14904462db1903ad1a0a2d533": {
          "model_module": "@jupyter-widgets/base",
          "model_name": "LayoutModel",
          "model_module_version": "1.2.0",
          "state": {
            "_model_module": "@jupyter-widgets/base",
            "_model_module_version": "1.2.0",
            "_model_name": "LayoutModel",
            "_view_count": null,
            "_view_module": "@jupyter-widgets/base",
            "_view_module_version": "1.2.0",
            "_view_name": "LayoutView",
            "align_content": null,
            "align_items": null,
            "align_self": null,
            "border": null,
            "bottom": null,
            "display": null,
            "flex": null,
            "flex_flow": null,
            "grid_area": null,
            "grid_auto_columns": null,
            "grid_auto_flow": null,
            "grid_auto_rows": null,
            "grid_column": null,
            "grid_gap": null,
            "grid_row": null,
            "grid_template_areas": null,
            "grid_template_columns": null,
            "grid_template_rows": null,
            "height": null,
            "justify_content": null,
            "justify_items": null,
            "left": null,
            "margin": null,
            "max_height": null,
            "max_width": null,
            "min_height": null,
            "min_width": null,
            "object_fit": null,
            "object_position": null,
            "order": null,
            "overflow": null,
            "overflow_x": null,
            "overflow_y": null,
            "padding": null,
            "right": null,
            "top": null,
            "visibility": null,
            "width": null
          }
        },
        "34489ad663a74732a501de90cf9e292f": {
          "model_module": "@jupyter-widgets/controls",
          "model_name": "ProgressStyleModel",
          "model_module_version": "1.5.0",
          "state": {
            "_model_module": "@jupyter-widgets/controls",
            "_model_module_version": "1.5.0",
            "_model_name": "ProgressStyleModel",
            "_view_count": null,
            "_view_module": "@jupyter-widgets/base",
            "_view_module_version": "1.2.0",
            "_view_name": "StyleView",
            "bar_color": null,
            "description_width": ""
          }
        },
        "55496a299b264f6d91cdf5b4751f771b": {
          "model_module": "@jupyter-widgets/base",
          "model_name": "LayoutModel",
          "model_module_version": "1.2.0",
          "state": {
            "_model_module": "@jupyter-widgets/base",
            "_model_module_version": "1.2.0",
            "_model_name": "LayoutModel",
            "_view_count": null,
            "_view_module": "@jupyter-widgets/base",
            "_view_module_version": "1.2.0",
            "_view_name": "LayoutView",
            "align_content": null,
            "align_items": null,
            "align_self": null,
            "border": null,
            "bottom": null,
            "display": null,
            "flex": null,
            "flex_flow": null,
            "grid_area": null,
            "grid_auto_columns": null,
            "grid_auto_flow": null,
            "grid_auto_rows": null,
            "grid_column": null,
            "grid_gap": null,
            "grid_row": null,
            "grid_template_areas": null,
            "grid_template_columns": null,
            "grid_template_rows": null,
            "height": null,
            "justify_content": null,
            "justify_items": null,
            "left": null,
            "margin": null,
            "max_height": null,
            "max_width": null,
            "min_height": null,
            "min_width": null,
            "object_fit": null,
            "object_position": null,
            "order": null,
            "overflow": null,
            "overflow_x": null,
            "overflow_y": null,
            "padding": null,
            "right": null,
            "top": null,
            "visibility": null,
            "width": null
          }
        },
        "b2ee0529763446d08d4fb4bca0a7be31": {
          "model_module": "@jupyter-widgets/controls",
          "model_name": "DescriptionStyleModel",
          "model_module_version": "1.5.0",
          "state": {
            "_model_module": "@jupyter-widgets/controls",
            "_model_module_version": "1.5.0",
            "_model_name": "DescriptionStyleModel",
            "_view_count": null,
            "_view_module": "@jupyter-widgets/base",
            "_view_module_version": "1.2.0",
            "_view_name": "StyleView",
            "description_width": ""
          }
        }
      }
    }
  },
  "cells": [
    {
      "cell_type": "markdown",
      "metadata": {
        "id": "view-in-github",
        "colab_type": "text"
      },
      "source": [
        "<a href=\"https://colab.research.google.com/github/tnguyen7s/ai-cloud-club-semo/blob/master/aic_mnist_fc_03302023.ipynb\" target=\"_parent\"><img src=\"https://colab.research.google.com/assets/colab-badge.svg\" alt=\"Open In Colab\"/></a>"
      ]
    },
    {
      "cell_type": "markdown",
      "source": [
        "# Import packages"
      ],
      "metadata": {
        "id": "TpJiHm2thnWn"
      }
    },
    {
      "cell_type": "code",
      "execution_count": 1,
      "metadata": {
        "id": "6JXQ8duOhmBx"
      },
      "outputs": [],
      "source": [
        "import torch\n",
        "from torchvision import datasets, transforms\n",
        "from torch.utils.data import DataLoader, SubsetRandomSampler\n",
        "import matplotlib.pyplot as plt\n",
        "import torch.nn as nn\n",
        "import pandas as pd\n"
      ]
    },
    {
      "cell_type": "markdown",
      "source": [
        "# Set up Device for training"
      ],
      "metadata": {
        "id": "_AKs1ot-hqZf"
      }
    },
    {
      "cell_type": "code",
      "source": [
        "GPU = torch.cuda.is_available()\n",
        "\n",
        "if GPU:\n",
        "  device = torch.device('cuda')\n",
        "  print('Using GPU')\n",
        "else:\n",
        "  device = torch.device('cpu')\n",
        "  print('Using CPU')"
      ],
      "metadata": {
        "id": "MyZdAH2Gh5fz",
        "colab": {
          "base_uri": "https://localhost:8080/"
        },
        "outputId": "cf14bcba-7c15-4b58-da73-eda91175fcb4"
      },
      "execution_count": 2,
      "outputs": [
        {
          "output_type": "stream",
          "name": "stdout",
          "text": [
            "Using GPU\n"
          ]
        }
      ]
    },
    {
      "cell_type": "markdown",
      "source": [
        "# Data"
      ],
      "metadata": {
        "id": "nsgCp15Qh0TC"
      }
    },
    {
      "cell_type": "code",
      "source": [
        "transformer = transforms.Compose([\n",
        "    transforms.Resize((20,20)),\n",
        "    transforms.Grayscale(),\n",
        "    transforms.ToTensor(),\n",
        "    transforms.Normalize(mean=(0,), std=(1,))\n",
        "])"
      ],
      "metadata": {
        "id": "9hxT-JZUuvYf"
      },
      "execution_count": 3,
      "outputs": []
    },
    {
      "cell_type": "code",
      "source": [
        "train_dataset = datasets.MNIST('./sample_data', train=True, transform=transformer, download=True)\n",
        "test_dataset = datasets.MNIST('./sample_data', train=False, transform=transformer, download=True)"
      ],
      "metadata": {
        "id": "biX_LiC_h8D3",
        "colab": {
          "base_uri": "https://localhost:8080/",
          "height": 423,
          "referenced_widgets": [
            "d34af00580d44a13ae7dadb91121023e",
            "14feb40786db4cc59ce1396951dea28c",
            "010ac8d5ba484ccc989c7c39a2072931",
            "6d3ae5d9ae8849859896710ce2c8d61a",
            "db13563b703840ecbe1c541732688aa6",
            "d7311548bb6941e68032f33078eee271",
            "9459d0a59d31460d821279f7cae01ac7",
            "df8c0eb49bb7434682036157698867fb",
            "1b8caf3d6a054bd3adccc0a4ae316045",
            "de7a7edee4754de9859dca92a27d27f1",
            "d52a6e9e30ad4f3baa7c1554255c17e2",
            "835b445a601449bfaf2b70353e1ed05b",
            "5de8825e201642db99f0556b4558cf14",
            "dda0bde4cfd845b1a36439e28c4e201f",
            "78228e937c4a4ed7bb98fa2e9f49133f",
            "5603aca9bd3742e99aff5638b1ef56e0",
            "c88d251c3e1d4ade8ed5545c3beafede",
            "34465943689f4b2e8603cc38aad36dd6",
            "05d618e590ad445bb650b4ab33a3bc11",
            "23eda021ddde4deead1fc79cec115ffd",
            "9d8c3e6b73654fe5a6521d91c6f739ef",
            "8666249b584a4092b76649e1868c62f7",
            "3919c069879e427f9f02fdd98ced189b",
            "aed7a49613d34688b7be8b36ba34478d",
            "0e89d5c7819a45bf84317b84e93d9475",
            "01f433ba47de4321b03ad488aa9f23a0",
            "9418e349c54140a59d9e9bd3bbf2c450",
            "07a4a422ed0441cc86d1ae42684eaf7b",
            "a2d8ef12bd8547b687528dee8c95a4cf",
            "da0e7c2c04934b2e8074393f49392e47",
            "8583e507609d49ab99ea3c572b33abac",
            "74832afd20764aacbf53e006807af592",
            "9e1fd053487648f297cc99dd3208aabd",
            "733e97047d86450e80f3d32c190da0ab",
            "9eaa743376f041a2b44e40b6eee11e96",
            "b374e2be70b14c95855222c4bf4ba24c",
            "0bde2633e3f04de69714a643c9fc53b4",
            "827eec74bbc34829be86ea6c10691eb7",
            "ac41d727b253451799e522323b225613",
            "21a692f9701c4bb78c57afc69dcbaf9e",
            "ccd2aea14904462db1903ad1a0a2d533",
            "34489ad663a74732a501de90cf9e292f",
            "55496a299b264f6d91cdf5b4751f771b",
            "b2ee0529763446d08d4fb4bca0a7be31"
          ]
        },
        "outputId": "d4f5a4ca-48d7-44d3-8d65-cafe2adcf41e"
      },
      "execution_count": 4,
      "outputs": [
        {
          "output_type": "stream",
          "name": "stdout",
          "text": [
            "Downloading http://yann.lecun.com/exdb/mnist/train-images-idx3-ubyte.gz\n",
            "Downloading http://yann.lecun.com/exdb/mnist/train-images-idx3-ubyte.gz to ./sample_data/MNIST/raw/train-images-idx3-ubyte.gz\n"
          ]
        },
        {
          "output_type": "display_data",
          "data": {
            "text/plain": [
              "  0%|          | 0/9912422 [00:00<?, ?it/s]"
            ],
            "application/vnd.jupyter.widget-view+json": {
              "version_major": 2,
              "version_minor": 0,
              "model_id": "d34af00580d44a13ae7dadb91121023e"
            }
          },
          "metadata": {}
        },
        {
          "output_type": "stream",
          "name": "stdout",
          "text": [
            "Extracting ./sample_data/MNIST/raw/train-images-idx3-ubyte.gz to ./sample_data/MNIST/raw\n",
            "\n",
            "Downloading http://yann.lecun.com/exdb/mnist/train-labels-idx1-ubyte.gz\n",
            "Downloading http://yann.lecun.com/exdb/mnist/train-labels-idx1-ubyte.gz to ./sample_data/MNIST/raw/train-labels-idx1-ubyte.gz\n"
          ]
        },
        {
          "output_type": "display_data",
          "data": {
            "text/plain": [
              "  0%|          | 0/28881 [00:00<?, ?it/s]"
            ],
            "application/vnd.jupyter.widget-view+json": {
              "version_major": 2,
              "version_minor": 0,
              "model_id": "835b445a601449bfaf2b70353e1ed05b"
            }
          },
          "metadata": {}
        },
        {
          "output_type": "stream",
          "name": "stdout",
          "text": [
            "Extracting ./sample_data/MNIST/raw/train-labels-idx1-ubyte.gz to ./sample_data/MNIST/raw\n",
            "\n",
            "Downloading http://yann.lecun.com/exdb/mnist/t10k-images-idx3-ubyte.gz\n",
            "Downloading http://yann.lecun.com/exdb/mnist/t10k-images-idx3-ubyte.gz to ./sample_data/MNIST/raw/t10k-images-idx3-ubyte.gz\n"
          ]
        },
        {
          "output_type": "display_data",
          "data": {
            "text/plain": [
              "  0%|          | 0/1648877 [00:00<?, ?it/s]"
            ],
            "application/vnd.jupyter.widget-view+json": {
              "version_major": 2,
              "version_minor": 0,
              "model_id": "3919c069879e427f9f02fdd98ced189b"
            }
          },
          "metadata": {}
        },
        {
          "output_type": "stream",
          "name": "stdout",
          "text": [
            "Extracting ./sample_data/MNIST/raw/t10k-images-idx3-ubyte.gz to ./sample_data/MNIST/raw\n",
            "\n",
            "Downloading http://yann.lecun.com/exdb/mnist/t10k-labels-idx1-ubyte.gz\n",
            "Downloading http://yann.lecun.com/exdb/mnist/t10k-labels-idx1-ubyte.gz to ./sample_data/MNIST/raw/t10k-labels-idx1-ubyte.gz\n"
          ]
        },
        {
          "output_type": "display_data",
          "data": {
            "text/plain": [
              "  0%|          | 0/4542 [00:00<?, ?it/s]"
            ],
            "application/vnd.jupyter.widget-view+json": {
              "version_major": 2,
              "version_minor": 0,
              "model_id": "733e97047d86450e80f3d32c190da0ab"
            }
          },
          "metadata": {}
        },
        {
          "output_type": "stream",
          "name": "stdout",
          "text": [
            "Extracting ./sample_data/MNIST/raw/t10k-labels-idx1-ubyte.gz to ./sample_data/MNIST/raw\n",
            "\n"
          ]
        }
      ]
    },
    {
      "cell_type": "code",
      "source": [
        "BATCH_SIZE=128 # each training iteration, use 128 images and its labels"
      ],
      "metadata": {
        "id": "axLfy12exUdW"
      },
      "execution_count": 5,
      "outputs": []
    },
    {
      "cell_type": "code",
      "source": [
        "from torch.utils.data.sampler import SubsetRandomSampler\n",
        "# for training\n",
        "train_loader = DataLoader(dataset=train_dataset, batch_size=BATCH_SIZE, sampler=SubsetRandomSampler(range(50000)))\n",
        "# for validation\n",
        "val_loader = DataLoader(dataset=train_dataset, batch_size=BATCH_SIZE, sampler=SubsetRandomSampler(range(50000, 60000)))\n",
        "\n",
        "test_loader = DataLoader(dataset=test_dataset, batch_size=BATCH_SIZE, shuffle=True)"
      ],
      "metadata": {
        "id": "RUz8tClxxKjo"
      },
      "execution_count": 6,
      "outputs": []
    },
    {
      "cell_type": "code",
      "source": [
        "train_iter = iter(train_loader)"
      ],
      "metadata": {
        "id": "Syn24MW3y6PA"
      },
      "execution_count": 7,
      "outputs": []
    },
    {
      "cell_type": "code",
      "source": [
        "next(train_iter)"
      ],
      "metadata": {
        "id": "EeDM4J5XzEtx",
        "colab": {
          "base_uri": "https://localhost:8080/"
        },
        "outputId": "1f96c195-dd53-4344-892e-c32e3c1b578c"
      },
      "execution_count": 8,
      "outputs": [
        {
          "output_type": "execute_result",
          "data": {
            "text/plain": [
              "[tensor([[[[0., 0., 0.,  ..., 0., 0., 0.],\n",
              "           [0., 0., 0.,  ..., 0., 0., 0.],\n",
              "           [0., 0., 0.,  ..., 0., 0., 0.],\n",
              "           ...,\n",
              "           [0., 0., 0.,  ..., 0., 0., 0.],\n",
              "           [0., 0., 0.,  ..., 0., 0., 0.],\n",
              "           [0., 0., 0.,  ..., 0., 0., 0.]]],\n",
              " \n",
              " \n",
              "         [[[0., 0., 0.,  ..., 0., 0., 0.],\n",
              "           [0., 0., 0.,  ..., 0., 0., 0.],\n",
              "           [0., 0., 0.,  ..., 0., 0., 0.],\n",
              "           ...,\n",
              "           [0., 0., 0.,  ..., 0., 0., 0.],\n",
              "           [0., 0., 0.,  ..., 0., 0., 0.],\n",
              "           [0., 0., 0.,  ..., 0., 0., 0.]]],\n",
              " \n",
              " \n",
              "         [[[0., 0., 0.,  ..., 0., 0., 0.],\n",
              "           [0., 0., 0.,  ..., 0., 0., 0.],\n",
              "           [0., 0., 0.,  ..., 0., 0., 0.],\n",
              "           ...,\n",
              "           [0., 0., 0.,  ..., 0., 0., 0.],\n",
              "           [0., 0., 0.,  ..., 0., 0., 0.],\n",
              "           [0., 0., 0.,  ..., 0., 0., 0.]]],\n",
              " \n",
              " \n",
              "         ...,\n",
              " \n",
              " \n",
              "         [[[0., 0., 0.,  ..., 0., 0., 0.],\n",
              "           [0., 0., 0.,  ..., 0., 0., 0.],\n",
              "           [0., 0., 0.,  ..., 0., 0., 0.],\n",
              "           ...,\n",
              "           [0., 0., 0.,  ..., 0., 0., 0.],\n",
              "           [0., 0., 0.,  ..., 0., 0., 0.],\n",
              "           [0., 0., 0.,  ..., 0., 0., 0.]]],\n",
              " \n",
              " \n",
              "         [[[0., 0., 0.,  ..., 0., 0., 0.],\n",
              "           [0., 0., 0.,  ..., 0., 0., 0.],\n",
              "           [0., 0., 0.,  ..., 0., 0., 0.],\n",
              "           ...,\n",
              "           [0., 0., 0.,  ..., 0., 0., 0.],\n",
              "           [0., 0., 0.,  ..., 0., 0., 0.],\n",
              "           [0., 0., 0.,  ..., 0., 0., 0.]]],\n",
              " \n",
              " \n",
              "         [[[0., 0., 0.,  ..., 0., 0., 0.],\n",
              "           [0., 0., 0.,  ..., 0., 0., 0.],\n",
              "           [0., 0., 0.,  ..., 0., 0., 0.],\n",
              "           ...,\n",
              "           [0., 0., 0.,  ..., 0., 0., 0.],\n",
              "           [0., 0., 0.,  ..., 0., 0., 0.],\n",
              "           [0., 0., 0.,  ..., 0., 0., 0.]]]]),\n",
              " tensor([2, 3, 4, 7, 7, 2, 3, 9, 1, 3, 1, 7, 5, 3, 1, 6, 3, 2, 4, 7, 5, 2, 3, 3,\n",
              "         7, 5, 2, 0, 4, 6, 5, 7, 9, 6, 9, 9, 5, 4, 3, 6, 3, 3, 0, 5, 5, 7, 4, 5,\n",
              "         5, 4, 3, 5, 5, 9, 5, 7, 7, 0, 5, 2, 1, 1, 7, 0, 1, 4, 4, 4, 4, 7, 9, 1,\n",
              "         5, 2, 4, 8, 0, 4, 5, 9, 6, 2, 0, 4, 7, 7, 8, 2, 3, 4, 3, 8, 3, 8, 2, 3,\n",
              "         7, 7, 3, 9, 2, 0, 9, 4, 7, 1, 1, 6, 1, 1, 5, 5, 8, 7, 9, 0, 5, 1, 8, 3,\n",
              "         2, 9, 6, 8, 6, 6, 9, 2])]"
            ]
          },
          "metadata": {},
          "execution_count": 8
        }
      ]
    },
    {
      "cell_type": "code",
      "source": [
        "data, target = next(train_iter)"
      ],
      "metadata": {
        "id": "y-0GtJV1zbDj"
      },
      "execution_count": 9,
      "outputs": []
    },
    {
      "cell_type": "code",
      "source": [
        "data.shape\n",
        "# 128 is the number of images; batch size\n",
        "# 1 is the number of color channel\n",
        "# 20 is the width\n",
        "# 20 is the height"
      ],
      "metadata": {
        "id": "XYWk5rhDzjlc",
        "colab": {
          "base_uri": "https://localhost:8080/"
        },
        "outputId": "446ca25a-7a03-4321-abd9-869bb9033b98"
      },
      "execution_count": 10,
      "outputs": [
        {
          "output_type": "execute_result",
          "data": {
            "text/plain": [
              "torch.Size([128, 1, 20, 20])"
            ]
          },
          "metadata": {},
          "execution_count": 10
        }
      ]
    },
    {
      "cell_type": "code",
      "source": [
        "target.shape"
      ],
      "metadata": {
        "id": "qSnWJak40ARn",
        "colab": {
          "base_uri": "https://localhost:8080/"
        },
        "outputId": "f865607e-2a1b-456d-f595-1bf5922c2035"
      },
      "execution_count": 11,
      "outputs": [
        {
          "output_type": "execute_result",
          "data": {
            "text/plain": [
              "torch.Size([128])"
            ]
          },
          "metadata": {},
          "execution_count": 11
        }
      ]
    },
    {
      "cell_type": "code",
      "source": [
        "target"
      ],
      "metadata": {
        "id": "8l7-82_I0JKo",
        "colab": {
          "base_uri": "https://localhost:8080/"
        },
        "outputId": "b04e8840-5de0-4b61-ed0c-5d79f75c8ea8"
      },
      "execution_count": 12,
      "outputs": [
        {
          "output_type": "execute_result",
          "data": {
            "text/plain": [
              "tensor([6, 6, 4, 1, 8, 8, 1, 3, 5, 6, 3, 3, 5, 3, 1, 0, 6, 2, 8, 1, 4, 3, 2, 7,\n",
              "        6, 3, 5, 3, 1, 0, 5, 8, 4, 0, 9, 6, 8, 2, 3, 1, 6, 7, 2, 4, 6, 4, 1, 3,\n",
              "        8, 2, 4, 7, 5, 1, 3, 7, 3, 8, 9, 1, 3, 3, 6, 2, 7, 6, 6, 0, 3, 5, 8, 2,\n",
              "        5, 5, 5, 2, 8, 3, 2, 1, 1, 2, 0, 3, 3, 5, 7, 8, 1, 7, 5, 7, 1, 3, 2, 3,\n",
              "        3, 1, 5, 3, 6, 3, 7, 2, 4, 3, 3, 6, 7, 8, 5, 7, 2, 1, 9, 7, 3, 1, 5, 7,\n",
              "        8, 9, 5, 3, 8, 0, 7, 8])"
            ]
          },
          "metadata": {},
          "execution_count": 12
        }
      ]
    },
    {
      "cell_type": "code",
      "source": [
        "target.unique() # labels for training"
      ],
      "metadata": {
        "id": "_QBjnTEV0FoY",
        "colab": {
          "base_uri": "https://localhost:8080/"
        },
        "outputId": "aaf4cda0-4a96-4e3c-f63b-18cd22618920"
      },
      "execution_count": 13,
      "outputs": [
        {
          "output_type": "execute_result",
          "data": {
            "text/plain": [
              "tensor([0, 1, 2, 3, 4, 5, 6, 7, 8, 9])"
            ]
          },
          "metadata": {},
          "execution_count": 13
        }
      ]
    },
    {
      "cell_type": "markdown",
      "source": [
        "# Image Show"
      ],
      "metadata": {
        "id": "_ux5DyzNh_ut"
      }
    },
    {
      "cell_type": "code",
      "source": [
        "def imshow(tensor_image):\n",
        "  np_image = tensor_image.numpy()\n",
        "\n",
        "  plt.imshow(np_image)\n",
        "  plt.axis('off')\n",
        "  plt.show()"
      ],
      "metadata": {
        "id": "2nAmUDWTh_Nq"
      },
      "execution_count": 14,
      "outputs": []
    },
    {
      "cell_type": "code",
      "source": [
        "data[5,0]"
      ],
      "metadata": {
        "colab": {
          "base_uri": "https://localhost:8080/"
        },
        "id": "SrMpa56WW0Ar",
        "outputId": "46cc27ed-2cd9-484f-a667-717342c50756"
      },
      "execution_count": 15,
      "outputs": [
        {
          "output_type": "execute_result",
          "data": {
            "text/plain": [
              "tensor([[0.0000, 0.0000, 0.0000, 0.0000, 0.0000, 0.0000, 0.0000, 0.0000, 0.0000,\n",
              "         0.0000, 0.0000, 0.0000, 0.0000, 0.0000, 0.0000, 0.0000, 0.0000, 0.0000,\n",
              "         0.0000, 0.0000],\n",
              "        [0.0000, 0.0000, 0.0000, 0.0000, 0.0000, 0.0000, 0.0000, 0.0000, 0.0000,\n",
              "         0.0000, 0.0000, 0.0000, 0.0000, 0.0000, 0.0000, 0.0000, 0.0000, 0.0000,\n",
              "         0.0000, 0.0000],\n",
              "        [0.0000, 0.0000, 0.0000, 0.0000, 0.0000, 0.0000, 0.0000, 0.0000, 0.0000,\n",
              "         0.0000, 0.0000, 0.0000, 0.0000, 0.0000, 0.0000, 0.0000, 0.0000, 0.0000,\n",
              "         0.0000, 0.0000],\n",
              "        [0.0000, 0.0000, 0.0000, 0.0000, 0.0000, 0.0157, 0.1686, 0.4078, 0.4431,\n",
              "         0.4353, 0.3333, 0.1216, 0.0078, 0.0000, 0.0000, 0.0000, 0.0000, 0.0000,\n",
              "         0.0000, 0.0000],\n",
              "        [0.0000, 0.0000, 0.0000, 0.0000, 0.0039, 0.2118, 0.6902, 0.6157, 0.5412,\n",
              "         0.5451, 0.5882, 0.5882, 0.3608, 0.1098, 0.0039, 0.0000, 0.0000, 0.0000,\n",
              "         0.0000, 0.0000],\n",
              "        [0.0000, 0.0000, 0.0000, 0.0000, 0.0118, 0.3647, 0.6314, 0.1059, 0.0392,\n",
              "         0.0431, 0.0588, 0.1490, 0.3804, 0.3333, 0.0275, 0.0000, 0.0000, 0.0000,\n",
              "         0.0000, 0.0000],\n",
              "        [0.0000, 0.0000, 0.0000, 0.0000, 0.0039, 0.2588, 0.6941, 0.1647, 0.0000,\n",
              "         0.0000, 0.0000, 0.0000, 0.0196, 0.1294, 0.0471, 0.0000, 0.0000, 0.0000,\n",
              "         0.0000, 0.0000],\n",
              "        [0.0000, 0.0000, 0.0000, 0.0000, 0.0000, 0.0392, 0.4235, 0.6078, 0.1608,\n",
              "         0.0078, 0.0000, 0.0000, 0.1059, 0.5765, 0.2000, 0.0000, 0.0000, 0.0000,\n",
              "         0.0000, 0.0000],\n",
              "        [0.0000, 0.0000, 0.0000, 0.0000, 0.0000, 0.0000, 0.0039, 0.4314, 0.6627,\n",
              "         0.1804, 0.0078, 0.0000, 0.2824, 0.6667, 0.1333, 0.0000, 0.0000, 0.0000,\n",
              "         0.0000, 0.0000],\n",
              "        [0.0000, 0.0000, 0.0000, 0.0000, 0.0000, 0.0000, 0.0000, 0.0471, 0.4157,\n",
              "         0.6314, 0.3059, 0.1059, 0.4745, 0.3765, 0.0157, 0.0000, 0.0000, 0.0000,\n",
              "         0.0000, 0.0000],\n",
              "        [0.0000, 0.0000, 0.0000, 0.0000, 0.0000, 0.0000, 0.0000, 0.0000, 0.0392,\n",
              "         0.3686, 0.7922, 0.7686, 0.5098, 0.0549, 0.0000, 0.0000, 0.0000, 0.0000,\n",
              "         0.0000, 0.0000],\n",
              "        [0.0000, 0.0000, 0.0000, 0.0000, 0.0000, 0.0000, 0.0000, 0.0000, 0.0314,\n",
              "         0.4275, 0.8314, 0.8863, 0.4275, 0.0039, 0.0000, 0.0000, 0.0000, 0.0000,\n",
              "         0.0000, 0.0000],\n",
              "        [0.0000, 0.0000, 0.0000, 0.0000, 0.0000, 0.0000, 0.0000, 0.0314, 0.3882,\n",
              "         0.6353, 0.2824, 0.3137, 0.7020, 0.1922, 0.0000, 0.0000, 0.0000, 0.0000,\n",
              "         0.0000, 0.0000],\n",
              "        [0.0000, 0.0000, 0.0000, 0.0000, 0.0000, 0.0000, 0.0000, 0.1294, 0.6980,\n",
              "         0.2510, 0.0078, 0.0039, 0.4902, 0.5647, 0.0431, 0.0000, 0.0000, 0.0000,\n",
              "         0.0000, 0.0000],\n",
              "        [0.0000, 0.0000, 0.0000, 0.0000, 0.0000, 0.0000, 0.0000, 0.2588, 0.7216,\n",
              "         0.1333, 0.0000, 0.0000, 0.3373, 0.7373, 0.1255, 0.0000, 0.0000, 0.0000,\n",
              "         0.0000, 0.0000],\n",
              "        [0.0000, 0.0000, 0.0000, 0.0000, 0.0000, 0.0000, 0.0000, 0.1529, 0.7373,\n",
              "         0.3686, 0.0824, 0.0078, 0.2196, 0.8392, 0.2000, 0.0000, 0.0000, 0.0000,\n",
              "         0.0000, 0.0000],\n",
              "        [0.0000, 0.0000, 0.0000, 0.0000, 0.0000, 0.0000, 0.0000, 0.0275, 0.3529,\n",
              "         0.7137, 0.6392, 0.4667, 0.5765, 0.6706, 0.1059, 0.0000, 0.0000, 0.0000,\n",
              "         0.0000, 0.0000],\n",
              "        [0.0000, 0.0000, 0.0000, 0.0000, 0.0000, 0.0000, 0.0000, 0.0000, 0.0235,\n",
              "         0.1373, 0.4314, 0.7255, 0.6627, 0.2235, 0.0078, 0.0000, 0.0000, 0.0000,\n",
              "         0.0000, 0.0000],\n",
              "        [0.0000, 0.0000, 0.0000, 0.0000, 0.0000, 0.0000, 0.0000, 0.0000, 0.0000,\n",
              "         0.0000, 0.0000, 0.0000, 0.0000, 0.0000, 0.0000, 0.0000, 0.0000, 0.0000,\n",
              "         0.0000, 0.0000],\n",
              "        [0.0000, 0.0000, 0.0000, 0.0000, 0.0000, 0.0000, 0.0000, 0.0000, 0.0000,\n",
              "         0.0000, 0.0000, 0.0000, 0.0000, 0.0000, 0.0000, 0.0000, 0.0000, 0.0000,\n",
              "         0.0000, 0.0000]])"
            ]
          },
          "metadata": {},
          "execution_count": 15
        }
      ]
    },
    {
      "cell_type": "markdown",
      "source": [
        "# Fully Connected Model"
      ],
      "metadata": {
        "id": "Vxif-qEEiB6D"
      }
    },
    {
      "cell_type": "code",
      "source": [
        "def create_fc_model_v1(device):\n",
        "  model = nn.Sequential(\n",
        "      nn.Flatten(),\n",
        "      nn.Linear(in_features=400, out_features=200),\n",
        "      nn.ReLU(), #non linear function\n",
        "      nn.Linear(in_features=200, out_features=314),\n",
        "      nn.ReLU(),\n",
        "      nn.Linear(in_features=314, out_features=146),\n",
        "      nn.ReLU(),\n",
        "      nn.Linear(in_features=146, out_features=400),\n",
        "      nn.ReLU(),\n",
        "      nn.Linear(in_features=400, out_features=10), \n",
        "      nn.Softmax()\n",
        "  )\n",
        "\n",
        "  model = model.to(device) # to load the model to GPU or CPU\n",
        "  return model\n"
      ],
      "metadata": {
        "id": "iJH70ZdSiOos"
      },
      "execution_count": 16,
      "outputs": []
    },
    {
      "cell_type": "code",
      "source": [
        "model = create_fc_model_v1(device) # create a model instance"
      ],
      "metadata": {
        "id": "fSpgPr0xmAng"
      },
      "execution_count": 18,
      "outputs": []
    },
    {
      "cell_type": "code",
      "source": [
        "from torchsummary import summary\n",
        "summary(model, (1,20,20), 128, device=\"cuda\") # yours would be cuda"
      ],
      "metadata": {
        "id": "4uKj_mfRWEFE",
        "colab": {
          "base_uri": "https://localhost:8080/"
        },
        "outputId": "fad9d266-bf65-4f9b-a4e4-5a853f47f2b9"
      },
      "execution_count": 19,
      "outputs": [
        {
          "output_type": "stream",
          "name": "stdout",
          "text": [
            "----------------------------------------------------------------\n",
            "        Layer (type)               Output Shape         Param #\n",
            "================================================================\n",
            "           Flatten-1                 [128, 400]               0\n",
            "            Linear-2                 [128, 200]          80,200\n",
            "              ReLU-3                 [128, 200]               0\n",
            "            Linear-4                 [128, 314]          63,114\n",
            "              ReLU-5                 [128, 314]               0\n",
            "            Linear-6                 [128, 146]          45,990\n",
            "              ReLU-7                 [128, 146]               0\n",
            "            Linear-8                 [128, 400]          58,800\n",
            "              ReLU-9                 [128, 400]               0\n",
            "           Linear-10                  [128, 10]           4,010\n",
            "          Softmax-11                  [128, 10]               0\n",
            "================================================================\n",
            "Total params: 252,114\n",
            "Trainable params: 252,114\n",
            "Non-trainable params: 0\n",
            "----------------------------------------------------------------\n",
            "Input size (MB): 0.20\n",
            "Forward/backward pass size (MB): 2.48\n",
            "Params size (MB): 0.96\n",
            "Estimated Total Size (MB): 3.64\n",
            "----------------------------------------------------------------\n"
          ]
        },
        {
          "output_type": "stream",
          "name": "stderr",
          "text": [
            "/usr/local/lib/python3.9/dist-packages/torch/nn/modules/container.py:204: UserWarning: Implicit dimension choice for softmax has been deprecated. Change the call to include dim=X as an argument.\n",
            "  input = module(input)\n"
          ]
        }
      ]
    },
    {
      "cell_type": "markdown",
      "source": [
        "# Optimizer"
      ],
      "metadata": {
        "id": "uP-ZLH3SiSKj"
      }
    },
    {
      "cell_type": "code",
      "source": [
        "from torch.optim import SGD, Adam\n",
        "\n",
        "optimizer = SGD(model.parameters(), lr=0.1, momentum=0.9) # stochastic gradent descent\n",
        "# optimizer = Adam(model.parameters())"
      ],
      "metadata": {
        "id": "HhVB1mLniWvu"
      },
      "execution_count": 20,
      "outputs": []
    },
    {
      "cell_type": "code",
      "source": [
        "# loss function\n",
        "criterion = nn.CrossEntropyLoss()"
      ],
      "metadata": {
        "id": "SomyBl3bqZtC"
      },
      "execution_count": 21,
      "outputs": []
    },
    {
      "cell_type": "markdown",
      "source": [
        "# Training function"
      ],
      "metadata": {
        "id": "HtaU32x6icoD"
      }
    },
    {
      "cell_type": "code",
      "source": [
        "def train(model, train_loader, optimizer, criterion, val_loader, epochs):\n",
        "  history = [] # keep track accuracy and loss for every epoch \n",
        "  for e in range(epochs): # a training step\n",
        "    model.train()\n",
        "\n",
        "    train_running_loss = 0\n",
        "    train_running_corrects = 0\n",
        "    train_size = 0\n",
        "    val_running_loss = 0\n",
        "    val_running_corrects = 0\n",
        "    val_size = 0 \n",
        "\n",
        "    for batch in train_loader: # iterate over each batch of size 128\n",
        "      x, y = batch # x: images in tensors, y: labels for images\n",
        "      x = x.to(device)\n",
        "      y = y.to(device) \n",
        "\n",
        "      # clear the gradient (gradient = multiple derivatives - each is the derivative of the loss with respect to the weight in the model)\n",
        "      optimizer.zero_grad()\n",
        "\n",
        "      ## train ##\n",
        "      probs = model(x)\n",
        "      loss = criterion(probs, y) # compute the loss of the model at the current state\n",
        "\n",
        "      loss.backward() # give the optimizer the gradients to update the weights\n",
        "      \n",
        "      optimizer.step() # update the weught\n",
        "\n",
        "      # compute accuracy and loss for training batch\n",
        "      _, preds = probs.max(1) # preds: the digits that the model predict for the batch of images\n",
        "      corrects = (preds==y).sum()\n",
        "      train_running_corrects += corrects \n",
        "\n",
        "      train_running_loss += loss.item()*x.size(0)\n",
        "      train_size += x.size(0)\n",
        "\n",
        "    else:\n",
        "      model.eval()\n",
        "\n",
        "      with torch.no_grad():\n",
        "        for batch in val_loader: # iterate over each batch of size 128\n",
        "          x, y = batch # x: images in tensors, y: labels for images\n",
        "          x = x.to(device)\n",
        "          y = y.to(device) \n",
        "\n",
        "          probs = model(x)\n",
        "          loss = criterion(probs, y)\n",
        "\n",
        "          _, preds = probs.max(1) # preds: the digits that the model predict for the batch of images\n",
        "          corrects = (preds==y).sum()\n",
        "          val_running_corrects += corrects \n",
        "\n",
        "          val_running_loss += loss.item()*x.size(0)\n",
        "          val_size += x.size(0)\n",
        "    \n",
        "    # after the training\n",
        "    # compute accuracy and the loss for the epoch\n",
        "    train_acc = train_running_corrects/train_size\n",
        "    train_loss = train_running_loss/train_size\n",
        "    val_acc = val_running_corrects/val_size\n",
        "    val_loss = val_running_loss/val_size\n",
        "\n",
        "    print(f'Finished epoch {e}, training accuracy={train_acc*100:.2f}% training loss={train_loss:.2f}')\n",
        "    print(f'\\t Validation accuracy={val_acc*100:.2f}% validation loss={val_loss:.2f}')\n",
        "\n",
        "    # log \n",
        "    history.append((train_acc, train_loss, val_acc, val_loss))\n",
        "\n",
        "  return history\n",
        "\n",
        "\n",
        "  "
      ],
      "metadata": {
        "id": "xo4tYE8cigAP"
      },
      "execution_count": 30,
      "outputs": []
    },
    {
      "cell_type": "markdown",
      "source": [
        "# Testing function"
      ],
      "metadata": {
        "id": "EXnZJc-Dijg7"
      }
    },
    {
      "cell_type": "code",
      "source": [],
      "metadata": {
        "id": "v8dxBy0pimgM"
      },
      "execution_count": 22,
      "outputs": []
    },
    {
      "cell_type": "markdown",
      "source": [
        "# Plot functions for training accuracy and loss accuracy"
      ],
      "metadata": {
        "id": "kHvzp9S-jEYM"
      }
    },
    {
      "cell_type": "markdown",
      "source": [
        "# Create a model and train"
      ],
      "metadata": {
        "id": "6uKjgDAIimzy"
      }
    },
    {
      "cell_type": "code",
      "source": [
        "model = create_fc_model_v1(device) # create a model instance\n",
        "optimizer = SGD(model.parameters(), lr=0.1, momentum=0.9) # stochastic gradent descent\n",
        "criterion = nn.CrossEntropyLoss()\n",
        "\n",
        "train(model, train_loader, optimizer, criterion, val_loader, 20)"
      ],
      "metadata": {
        "colab": {
          "base_uri": "https://localhost:8080/"
        },
        "id": "lBAuLSpatwbE",
        "outputId": "8002484a-8257-4f76-e6a4-9bf1b1e5347a"
      },
      "execution_count": 31,
      "outputs": [
        {
          "output_type": "stream",
          "name": "stderr",
          "text": [
            "/usr/local/lib/python3.9/dist-packages/torch/nn/modules/container.py:204: UserWarning: Implicit dimension choice for softmax has been deprecated. Change the call to include dim=X as an argument.\n",
            "  input = module(input)\n"
          ]
        },
        {
          "output_type": "stream",
          "name": "stdout",
          "text": [
            "Finished epoch 0, training accuracy=35.95% training loss=2.09\n",
            "\t Validation accuracy=73.01% validation loss=1.73\n",
            "Finished epoch 1, training accuracy=74.85% training loss=1.71\n",
            "\t Validation accuracy=76.81% validation loss=1.69\n",
            "Finished epoch 2, training accuracy=84.01% training loss=1.62\n",
            "\t Validation accuracy=93.64% validation loss=1.53\n",
            "Finished epoch 3, training accuracy=93.05% training loss=1.53\n",
            "\t Validation accuracy=93.87% validation loss=1.52\n",
            "Finished epoch 4, training accuracy=94.05% training loss=1.52\n",
            "\t Validation accuracy=95.40% validation loss=1.51\n",
            "Finished epoch 5, training accuracy=94.72% training loss=1.51\n",
            "\t Validation accuracy=94.94% validation loss=1.51\n",
            "Finished epoch 6, training accuracy=94.88% training loss=1.51\n",
            "\t Validation accuracy=94.37% validation loss=1.52\n",
            "Finished epoch 7, training accuracy=95.07% training loss=1.51\n",
            "\t Validation accuracy=95.69% validation loss=1.50\n",
            "Finished epoch 8, training accuracy=95.16% training loss=1.51\n",
            "\t Validation accuracy=95.36% validation loss=1.51\n",
            "Finished epoch 9, training accuracy=95.50% training loss=1.51\n",
            "\t Validation accuracy=96.06% validation loss=1.50\n",
            "Finished epoch 10, training accuracy=95.06% training loss=1.51\n",
            "\t Validation accuracy=94.31% validation loss=1.52\n",
            "Finished epoch 11, training accuracy=95.44% training loss=1.51\n",
            "\t Validation accuracy=95.13% validation loss=1.51\n",
            "Finished epoch 12, training accuracy=95.36% training loss=1.51\n",
            "\t Validation accuracy=95.37% validation loss=1.51\n",
            "Finished epoch 13, training accuracy=95.35% training loss=1.51\n",
            "\t Validation accuracy=95.07% validation loss=1.51\n",
            "Finished epoch 14, training accuracy=95.24% training loss=1.51\n",
            "\t Validation accuracy=94.90% validation loss=1.51\n",
            "Finished epoch 15, training accuracy=95.53% training loss=1.51\n",
            "\t Validation accuracy=94.47% validation loss=1.52\n",
            "Finished epoch 16, training accuracy=95.15% training loss=1.51\n",
            "\t Validation accuracy=94.45% validation loss=1.52\n",
            "Finished epoch 17, training accuracy=94.60% training loss=1.52\n",
            "\t Validation accuracy=95.37% validation loss=1.51\n",
            "Finished epoch 18, training accuracy=94.74% training loss=1.51\n",
            "\t Validation accuracy=95.07% validation loss=1.51\n",
            "Finished epoch 19, training accuracy=94.91% training loss=1.51\n",
            "\t Validation accuracy=94.98% validation loss=1.51\n"
          ]
        },
        {
          "output_type": "execute_result",
          "data": {
            "text/plain": [
              "[(tensor(0.3595, device='cuda:0'),\n",
              "  2.0908204146575926,\n",
              "  tensor(0.7301, device='cuda:0'),\n",
              "  1.7290974662780763),\n",
              " (tensor(0.7485, device='cuda:0'),\n",
              "  1.7118574436187743,\n",
              "  tensor(0.7681, device='cuda:0'),\n",
              "  1.6904966009140014),\n",
              " (tensor(0.8401, device='cuda:0'),\n",
              "  1.6220210431671143,\n",
              "  tensor(0.9364, device='cuda:0'),\n",
              "  1.5261040468215943),\n",
              " (tensor(0.9305, device='cuda:0'),\n",
              "  1.5314879206466674,\n",
              "  tensor(0.9387, device='cuda:0'),\n",
              "  1.5237517749786378),\n",
              " (tensor(0.9405, device='cuda:0'),\n",
              "  1.520832569847107,\n",
              "  tensor(0.9540, device='cuda:0'),\n",
              "  1.507130153465271),\n",
              " (tensor(0.9472, device='cuda:0'),\n",
              "  1.5141454622268677,\n",
              "  tensor(0.9494, device='cuda:0'),\n",
              "  1.512359937286377),\n",
              " (tensor(0.9488, device='cuda:0'),\n",
              "  1.5125033359527589,\n",
              "  tensor(0.9437, device='cuda:0'),\n",
              "  1.5174325923919678),\n",
              " (tensor(0.9507, device='cuda:0'),\n",
              "  1.5102570069122314,\n",
              "  tensor(0.9569, device='cuda:0'),\n",
              "  1.503946541786194),\n",
              " (tensor(0.9516, device='cuda:0'),\n",
              "  1.509389729537964,\n",
              "  tensor(0.9536, device='cuda:0'),\n",
              "  1.5070077590942383),\n",
              " (tensor(0.9550, device='cuda:0'),\n",
              "  1.5059507205581666,\n",
              "  tensor(0.9606, device='cuda:0'),\n",
              "  1.5005476690292359),\n",
              " (tensor(0.9506, device='cuda:0'),\n",
              "  1.5102883431625367,\n",
              "  tensor(0.9431, device='cuda:0'),\n",
              "  1.5182436210632324),\n",
              " (tensor(0.9544, device='cuda:0'),\n",
              "  1.506625095024109,\n",
              "  tensor(0.9513, device='cuda:0'),\n",
              "  1.5089524282455444),\n",
              " (tensor(0.9536, device='cuda:0'),\n",
              "  1.507115947418213,\n",
              "  tensor(0.9537, device='cuda:0'),\n",
              "  1.5070995306015014),\n",
              " (tensor(0.9535, device='cuda:0'),\n",
              "  1.5074001291275025,\n",
              "  tensor(0.9507, device='cuda:0'),\n",
              "  1.5102019765853882),\n",
              " (tensor(0.9524, device='cuda:0'),\n",
              "  1.5086698378753662,\n",
              "  tensor(0.9490, device='cuda:0'),\n",
              "  1.5121209827423097),\n",
              " (tensor(0.9553, device='cuda:0'),\n",
              "  1.5057862805175781,\n",
              "  tensor(0.9447, device='cuda:0'),\n",
              "  1.516536144065857),\n",
              " (tensor(0.9515, device='cuda:0'),\n",
              "  1.5095329699325561,\n",
              "  tensor(0.9445, device='cuda:0'),\n",
              "  1.5165905862808227),\n",
              " (tensor(0.9460, device='cuda:0'),\n",
              "  1.5150432879638671,\n",
              "  tensor(0.9537, device='cuda:0'),\n",
              "  1.5071409551620483),\n",
              " (tensor(0.9474, device='cuda:0'),\n",
              "  1.5135372592544556,\n",
              "  tensor(0.9507, device='cuda:0'),\n",
              "  1.510183261680603),\n",
              " (tensor(0.9491, device='cuda:0'),\n",
              "  1.5119805094528198,\n",
              "  tensor(0.9498, device='cuda:0'),\n",
              "  1.511139658164978)]"
            ]
          },
          "metadata": {},
          "execution_count": 31
        }
      ]
    },
    {
      "cell_type": "markdown",
      "source": [
        "# Visualize and performance"
      ],
      "metadata": {
        "id": "nufCn_uCip4r"
      }
    },
    {
      "cell_type": "markdown",
      "source": [
        "# Test on real data\n"
      ],
      "metadata": {
        "id": "mozhk_uZGwl5"
      }
    }
  ]
}